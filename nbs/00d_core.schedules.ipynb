{
 "cells": [
  {
   "cell_type": "code",
   "execution_count": null,
   "metadata": {},
   "outputs": [],
   "source": [
    "#default_exp core.schedules"
   ]
  },
  {
   "cell_type": "code",
   "execution_count": null,
   "metadata": {},
   "outputs": [],
   "source": [
    "# hide\n",
    "import warnings\n",
    "warnings.filterwarnings(\"ignore\")"
   ]
  },
  {
   "cell_type": "code",
   "execution_count": null,
   "metadata": {},
   "outputs": [
    {
     "data": {
      "text/plain": [
       "'/Users/ayushman/Desktop/lightning_cv/nbs/data'"
      ]
     },
     "execution_count": null,
     "metadata": {},
     "output_type": "execute_result"
    }
   ],
   "source": [
    "# hide\n",
    "from nbdev.showdoc import *\n",
    "from nbdev.export import *\n",
    "from nbdev.imports import Config as NbdevConfig\n",
    "\n",
    "nbdev_path = str(NbdevConfig().path(\"nbs_path\")/'data')\n",
    "nbdev_path"
   ]
  },
  {
   "cell_type": "markdown",
   "metadata": {},
   "source": [
    "# Learning Rate Schedules\n",
    "> LRSchedulers to scheduler learning rate."
   ]
  },
  {
   "cell_type": "code",
   "execution_count": null,
   "metadata": {},
   "outputs": [],
   "source": [
    "# export\n",
    "from typing import *\n",
    "import math\n",
    "import torch\n",
    "\n",
    "from fvcore.common.param_scheduler import *"
   ]
  },
  {
   "cell_type": "code",
   "execution_count": null,
   "metadata": {},
   "outputs": [],
   "source": [
    "# hide\n",
    "# for test\n",
    "import matplotlib.pyplot as plt\n",
    "import numpy as np"
   ]
  },
  {
   "cell_type": "code",
   "execution_count": null,
   "metadata": {},
   "outputs": [],
   "source": [
    "# export\n",
    "class LRMultiplier(torch.optim.lr_scheduler._LRScheduler):\n",
    "    \"\"\"\n",
    "    A LRScheduler which uses fvcore  `ParamScheduler` to multiply the\n",
    "    learning rate of each param in the optimizer.\n",
    "    Every step, the learning rate of each parameter becomes its initial value\n",
    "    multiplied by the output of the given `ParamScheduler`.\n",
    "    The absolute learning rate value of each parameter can be different.\n",
    "    This scheduler can be used as long as the relative scale among them do\n",
    "    not change during training.\n",
    "    \"\"\"\n",
    "\n",
    "    # NOTES: in the most general case, every LR can use its own scheduler.\n",
    "    # Supporting this requires interaction with the optimizer when its parameter\n",
    "    # group is initialized. For example, classyvision implements its own optimizer\n",
    "    # that allows different schedulers for every parameter group.\n",
    "    # To avoid this complexity, we use this class to support the most common cases\n",
    "    # where the relative scale among all LRs stay unchanged during training.  In this\n",
    "    # case we only need a total of one scheduler that defines the relative LR multiplier.\n",
    "\n",
    "    def __init__(self, optimizer: torch.optim.Optimizer, multiplier: ParamScheduler, max_iter: int, last_iter: int = -1,):\n",
    "        \"\"\"\n",
    "        Args:\n",
    "            optimizer, last_iter: See ``torch.optim.lr_scheduler._LRScheduler``.\n",
    "                ``last_iter`` is the same as ``last_epoch``.\n",
    "            multiplier: a fvcore ParamScheduler that defines the multiplier on\n",
    "                every LR of the optimizer\n",
    "            max_iter: the total number of training iterations\n",
    "        \"\"\"\n",
    "        if not isinstance(multiplier, ParamScheduler):\n",
    "            raise ValueError(\n",
    "                \"_LRMultiplier(multiplier=) must be an instance of fvcore \"\n",
    "                f\"ParamScheduler. Got {multiplier} instead.\"\n",
    "            )\n",
    "        self._multiplier = multiplier\n",
    "        self._max_iter = max_iter\n",
    "        super().__init__(optimizer, last_epoch=last_iter)\n",
    "\n",
    "    def state_dict(self):\n",
    "        # fvcore schedulers are stateless. Only keep pytorch scheduler states\n",
    "        return {\"base_lrs\": self.base_lrs, \"last_epoch\": self.last_epoch}\n",
    "\n",
    "    def get_lr(self) -> List[float]:\n",
    "        multiplier = self._multiplier(self.last_epoch / self._max_iter)\n",
    "        return [base_lr * multiplier for base_lr in self.base_lrs]"
   ]
  },
  {
   "cell_type": "code",
   "execution_count": null,
   "metadata": {},
   "outputs": [
    {
     "data": {
      "text/markdown": [
       "<h2 id=\"LRMultiplier\" class=\"doc_header\"><code>class</code> <code>LRMultiplier</code><a href=\"\" class=\"source_link\" style=\"float:right\">[source]</a></h2>\n",
       "\n",
       "> <code>LRMultiplier</code>(**`optimizer`**:`Optimizer`, **`multiplier`**:`ParamScheduler`, **`max_iter`**:`int`, **`last_iter`**:`int`=*`-1`*) :: `_LRScheduler`\n",
       "\n",
       "A LRScheduler which uses fvcore  `ParamScheduler` to multiply the\n",
       "learning rate of each param in the optimizer.\n",
       "Every step, the learning rate of each parameter becomes its initial value\n",
       "multiplied by the output of the given `ParamScheduler`.\n",
       "The absolute learning rate value of each parameter can be different.\n",
       "This scheduler can be used as long as the relative scale among them do\n",
       "not change during training."
      ],
      "text/plain": [
       "<IPython.core.display.Markdown object>"
      ]
     },
     "metadata": {},
     "output_type": "display_data"
    }
   ],
   "source": [
    "show_doc(LRMultiplier)"
   ]
  },
  {
   "cell_type": "markdown",
   "metadata": {},
   "source": [
    "Example - "
   ]
  },
  {
   "cell_type": "code",
   "execution_count": null,
   "metadata": {},
   "outputs": [],
   "source": [
    "lrs   = []\n",
    "\n",
    "epoch = 10\n",
    "batch_nb = 10\n",
    "\n",
    "model = [torch.nn.Parameter(torch.randn(2, 2, requires_grad=True))]\n",
    "optim = torch.optim.Adam(model, lr=0.1)\n",
    "\n",
    "scheduler = LRMultiplier(optim, max_iter=epoch*batch_nb, multiplier=CosineParamScheduler(1, 0))\n",
    "\n",
    "for _ in range(epoch):\n",
    "    for _ in range(batch_nb):\n",
    "        scheduler.step()\n",
    "        lrs.append(scheduler.get_lr())"
   ]
  },
  {
   "cell_type": "code",
   "execution_count": null,
   "metadata": {},
   "outputs": [
    {
     "data": {
      "image/png": "[encoded data removed]",
      "text/plain": [
       "<Figure size 432x288 with 1 Axes>"
      ]
     },
     "metadata": {
      "needs_background": "light"
     },
     "output_type": "display_data"
    }
   ],
   "source": [
    "#hide-input\n",
    "plt.plot(lrs);"
   ]
  },
  {
   "cell_type": "markdown",
   "metadata": {},
   "source": [
    "## FlatCos scheduling"
   ]
  },
  {
   "cell_type": "code",
   "execution_count": null,
   "metadata": {},
   "outputs": [],
   "source": [
    "#export\n",
    "def FlatCos(optimizer: torch.optim.Optimizer, pct_start: float, max_iters: int):\n",
    "    \"\"\"\n",
    "    Schedule the LearningRate at flat `lr` for `pct_start` of `max_iters` before cosine annealing.  \n",
    "    Inspired From - https://docs.fast.ai/callback.schedule.html#Learner.fit_flat_cos\n",
    "    \"\"\"\n",
    "    \n",
    "    schedulers = [LinearParamScheduler(1, 1), CosineParamScheduler(1, 0)]\n",
    "    # create CompositeParamScheduler Class\n",
    "    sched = CompositeParamScheduler(schedulers, lengths=[pct_start, 1-pct_start], \n",
    "                                    interval_scaling=['rescaled', 'rescaled'])\n",
    "    \n",
    "    # Wrap Param Scheduler under LRMultiplier class\n",
    "    sched = LRMultiplier(optimizer, sched, max_iter=max_iters)\n",
    "    return sched"
   ]
  },
  {
   "cell_type": "code",
   "execution_count": null,
   "metadata": {},
   "outputs": [
    {
     "data": {
      "text/markdown": [
       "<h4 id=\"FlatCos\" class=\"doc_header\"><code>FlatCos</code><a href=\"__main__.py#L2\" class=\"source_link\" style=\"float:right\">[source]</a></h4>\n",
       "\n",
       "> <code>FlatCos</code>(**`optimizer`**:`Optimizer`, **`pct_start`**:`float`, **`max_iters`**:`int`)\n",
       "\n",
       "Schedule the LearningRate at flat `lr` for `pct_start` of `max_iters` before cosine annealing.  \n",
       "Inspired From - https://docs.fast.ai/callback.schedule.html#Learner.fit_flat_cos"
      ],
      "text/plain": [
       "<IPython.core.display.Markdown object>"
      ]
     },
     "metadata": {},
     "output_type": "display_data"
    }
   ],
   "source": [
    "show_doc(FlatCos)"
   ]
  },
  {
   "cell_type": "code",
   "execution_count": null,
   "metadata": {},
   "outputs": [],
   "source": [
    "lrs = []\n",
    "\n",
    "epochs   = 10\n",
    "batch_nb = 10\n",
    "\n",
    "optim = torch.optim.Adam(model, lr=0.1)\n",
    "scheduler = FlatCos(optim, pct_start=0.75, max_iters=epochs*batch_nb)\n",
    "\n",
    "for _ in range(epoch):\n",
    "    for _ in range(batch_nb):\n",
    "        optim.step()\n",
    "        # call scheduler after a single training step\n",
    "        scheduler.step()\n",
    "        lrs.append(scheduler.get_lr())"
   ]
  },
  {
   "cell_type": "code",
   "execution_count": null,
   "metadata": {},
   "outputs": [
    {
     "data": {
      "image/png": "[encoded data removed]",
      "text/plain": [
       "<Figure size 432x288 with 1 Axes>"
      ]
     },
     "metadata": {
      "needs_background": "light"
     },
     "output_type": "display_data"
    }
   ],
   "source": [
    "#hide-input\n",
    "plt.plot(lrs);"
   ]
  },
  {
   "cell_type": "markdown",
   "metadata": {},
   "source": [
    "## WarmupParamScheduler"
   ]
  },
  {
   "cell_type": "code",
   "execution_count": null,
   "metadata": {},
   "outputs": [],
   "source": [
    "# export\n",
    "class WarmupParamScheduler(CompositeParamScheduler):\n",
    "    \"\"\"\n",
    "    Add an initial warmup stage to another scheduler.\n",
    "    From - https://github.com/facebookresearch/fvcore/blob/master/fvcore/common/param_scheduler.py\n",
    "    \"\"\"\n",
    "\n",
    "    def __init__(self, scheduler: ParamScheduler, warmup_factor: float, warmup_length: float, warmup_method: str = \"linear\",):\n",
    "        \"\"\"\n",
    "        Args:\n",
    "            scheduler: warmup will be added at the beginning of this scheduler\n",
    "            warmup_factor: the factor w.r.t the initial value of ``scheduler``, e.g. 0.001\n",
    "            warmup_length: the relative length (in [0, 1]) of warmup steps w.r.t the entire\n",
    "                training, e.g. 0.01\n",
    "            warmup_method: one of \"linear\" or \"constant\"\n",
    "        \"\"\"\n",
    "        end_value   = scheduler(warmup_length)  # the value to reach when warmup ends\n",
    "        start_value = warmup_factor * scheduler(0.0)\n",
    "        if warmup_method == \"constant\":\n",
    "            warmup = ConstantParamScheduler(start_value)\n",
    "        elif warmup_method == \"linear\":\n",
    "            warmup = LinearParamScheduler(start_value, end_value)\n",
    "        else:\n",
    "            raise ValueError(\"Unknown warmup method: {}\".format(warmup_method))\n",
    "        super().__init__([warmup, scheduler], interval_scaling=[\"rescaled\", \"fixed\"],\n",
    "                         lengths=[warmup_length, 1 - warmup_length],)"
   ]
  },
  {
   "cell_type": "code",
   "execution_count": null,
   "metadata": {},
   "outputs": [
    {
     "data": {
      "text/markdown": [
       "<h2 id=\"WarmupParamScheduler\" class=\"doc_header\"><code>class</code> <code>WarmupParamScheduler</code><a href=\"\" class=\"source_link\" style=\"float:right\">[source]</a></h2>\n",
       "\n",
       "> <code>WarmupParamScheduler</code>(**`scheduler`**:`ParamScheduler`, **`warmup_factor`**:`float`, **`warmup_length`**:`float`, **`warmup_method`**:`str`=*`'linear'`*) :: `CompositeParamScheduler`\n",
       "\n",
       "Add an initial warmup stage to another scheduler.\n",
       "From - https://github.com/facebookresearch/fvcore/blob/master/fvcore/common/param_scheduler.py"
      ],
      "text/plain": [
       "<IPython.core.display.Markdown object>"
      ]
     },
     "metadata": {},
     "output_type": "display_data"
    }
   ],
   "source": [
    "show_doc(WarmupParamScheduler)"
   ]
  },
  {
   "cell_type": "code",
   "execution_count": null,
   "metadata": {},
   "outputs": [],
   "source": [
    "# export\n",
    "def WarmupCosineLR(optimizer: torch.optim.Optimizer, warmup_iters: int, max_iters: int):\n",
    "    \"Linearly increase `lr` for `warmup_iters` before cosine annealing. \"\n",
    "    sched = CosineParamScheduler(1, 0)\n",
    "    sched = WarmupParamScheduler(sched, warmup_factor=(1.0 / 1000), \n",
    "                                 warmup_length=warmup_iters/max_iters, \n",
    "                                 warmup_method=\"linear\")\n",
    "    return LRMultiplier(optimizer, multiplier=sched, max_iter=max_iters)"
   ]
  },
  {
   "cell_type": "code",
   "execution_count": null,
   "metadata": {},
   "outputs": [
    {
     "data": {
      "text/markdown": [
       "<h4 id=\"WarmupCosineLR\" class=\"doc_header\"><code>WarmupCosineLR</code><a href=\"__main__.py#L2\" class=\"source_link\" style=\"float:right\">[source]</a></h4>\n",
       "\n",
       "> <code>WarmupCosineLR</code>(**`optimizer`**:`Optimizer`, **`warmup_iters`**:`int`, **`max_iters`**:`int`)\n",
       "\n",
       "Linearly increase `lr` for `warmup_iters` before cosine annealing. "
      ],
      "text/plain": [
       "<IPython.core.display.Markdown object>"
      ]
     },
     "metadata": {},
     "output_type": "display_data"
    }
   ],
   "source": [
    "show_doc(WarmupCosineLR)"
   ]
  },
  {
   "cell_type": "code",
   "execution_count": null,
   "metadata": {},
   "outputs": [],
   "source": [
    "lrs = []\n",
    "\n",
    "epochs   = 10\n",
    "batch_nb = 20\n",
    "\n",
    "scheduler = WarmupCosineLR(optim, warmup_iters=20, max_iters=epochs*batch_nb)\n",
    "\n",
    "for _ in range(epoch):\n",
    "    for _ in range(batch_nb):\n",
    "        optim.step()\n",
    "        # call scheduler after a single training step\n",
    "        scheduler.step()\n",
    "        lrs.append(scheduler.get_lr())"
   ]
  },
  {
   "cell_type": "code",
   "execution_count": null,
   "metadata": {},
   "outputs": [
    {
     "data": {
      "image/png": "[encoded data removed]",
      "text/plain": [
       "<Figure size 432x288 with 1 Axes>"
      ]
     },
     "metadata": {
      "needs_background": "light"
     },
     "output_type": "display_data"
    }
   ],
   "source": [
    "#hide-input\n",
    "plt.plot(lrs);"
   ]
  },
  {
   "cell_type": "code",
   "execution_count": null,
   "metadata": {},
   "outputs": [],
   "source": [
    "# export\n",
    "def WarmupLinearLR(optimizer: torch.optim.Optimizer, warmup_iters: int, max_iters: int):\n",
    "    \"Linearly increase `lr` for `warmup_iters` before linearly decreasing the `lr`\"\n",
    "    sched = LinearParamScheduler(1, 0)\n",
    "    sched = WarmupParamScheduler(sched, warmup_factor=(1.0 / 1000), \n",
    "                                 warmup_length=warmup_iters/max_iters, \n",
    "                                 warmup_method=\"linear\")\n",
    "    return LRMultiplier(optimizer, multiplier=sched, max_iter=max_iters)"
   ]
  },
  {
   "cell_type": "code",
   "execution_count": null,
   "metadata": {},
   "outputs": [
    {
     "data": {
      "text/markdown": [
       "<h4 id=\"WarmupLinearLR\" class=\"doc_header\"><code>WarmupLinearLR</code><a href=\"__main__.py#L2\" class=\"source_link\" style=\"float:right\">[source]</a></h4>\n",
       "\n",
       "> <code>WarmupLinearLR</code>(**`optimizer`**:`Optimizer`, **`warmup_iters`**:`int`, **`max_iters`**:`int`)\n",
       "\n",
       "Linearly increase `lr` for `warmup_iters` before linearly decreasing the `lr`"
      ],
      "text/plain": [
       "<IPython.core.display.Markdown object>"
      ]
     },
     "metadata": {},
     "output_type": "display_data"
    }
   ],
   "source": [
    "show_doc(WarmupLinearLR)"
   ]
  },
  {
   "cell_type": "code",
   "execution_count": null,
   "metadata": {},
   "outputs": [],
   "source": [
    "lrs = []\n",
    "\n",
    "epochs   = 10\n",
    "batch_nb = 20\n",
    "\n",
    "scheduler = WarmupLinearLR(optim, warmup_iters=20, max_iters=epochs*batch_nb)\n",
    "\n",
    "for _ in range(epoch):\n",
    "    for _ in range(batch_nb):\n",
    "        optim.step()\n",
    "        # call scheduler after a single training step\n",
    "        scheduler.step()\n",
    "        lrs.append(scheduler.get_lr())"
   ]
  },
  {
   "cell_type": "code",
   "execution_count": null,
   "metadata": {},
   "outputs": [
    {
     "data": {
      "image/png": "[encoded data removed]",
      "text/plain": [
       "<Figure size 432x288 with 1 Axes>"
      ]
     },
     "metadata": {
      "needs_background": "light"
     },
     "output_type": "display_data"
    }
   ],
   "source": [
    "#hide-input\n",
    "plt.plot(lrs);"
   ]
  },
  {
   "cell_type": "code",
   "execution_count": null,
   "metadata": {},
   "outputs": [],
   "source": [
    "# export\n",
    "def WarmupConstantLR(optimizer: torch.optim.Optimizer, warmup_iters: int, max_iters: int):\n",
    "    \"Linearly increase `lr` for `warmup_iters` after which keep `lr` at constant value\"\n",
    "    sched = LinearParamScheduler(1, 1)\n",
    "    sched = WarmupParamScheduler(sched, warmup_factor=(1.0 / 1000), \n",
    "                                 warmup_length=warmup_iters/max_iters, \n",
    "                                 warmup_method=\"linear\")\n",
    "    return LRMultiplier(optimizer, multiplier=sched, max_iter=max_iters)"
   ]
  },
  {
   "cell_type": "code",
   "execution_count": null,
   "metadata": {},
   "outputs": [
    {
     "data": {
      "text/markdown": [
       "<h4 id=\"WarmupConstantLR\" class=\"doc_header\"><code>WarmupConstantLR</code><a href=\"__main__.py#L2\" class=\"source_link\" style=\"float:right\">[source]</a></h4>\n",
       "\n",
       "> <code>WarmupConstantLR</code>(**`optimizer`**:`Optimizer`, **`warmup_iters`**:`int`, **`max_iters`**:`int`)\n",
       "\n",
       "Linearly increase `lr` for `warmup_iters` after which keep `lr` at constant value"
      ],
      "text/plain": [
       "<IPython.core.display.Markdown object>"
      ]
     },
     "metadata": {},
     "output_type": "display_data"
    }
   ],
   "source": [
    "show_doc(WarmupConstantLR)"
   ]
  },
  {
   "cell_type": "code",
   "execution_count": null,
   "metadata": {},
   "outputs": [],
   "source": [
    "lrs = []\n",
    "\n",
    "epochs   = 10\n",
    "batch_nb = 20\n",
    "\n",
    "scheduler = WarmupConstantLR(optim, warmup_iters=20, max_iters=epochs*batch_nb)\n",
    "\n",
    "for _ in range(epoch):\n",
    "    for _ in range(batch_nb):\n",
    "        optim.step()\n",
    "        # call scheduler after a single training step\n",
    "        scheduler.step()\n",
    "        lrs.append(scheduler.get_lr())"
   ]
  },
  {
   "cell_type": "code",
   "execution_count": null,
   "metadata": {},
   "outputs": [
    {
     "data": {
      "image/png": "[encoded data removed]",
      "text/plain": [
       "<Figure size 432x288 with 1 Axes>"
      ]
     },
     "metadata": {
      "needs_background": "light"
     },
     "output_type": "display_data"
    }
   ],
   "source": [
    "#hide-input\n",
    "plt.plot(lrs);"
   ]
  },
  {
   "cell_type": "markdown",
   "metadata": {},
   "source": [
    "## LR_SCHEDULER_REGISTERY\n",
    "> Registery of LRSchedulers"
   ]
  },
  {
   "cell_type": "code",
   "execution_count": null,
   "metadata": {},
   "outputs": [],
   "source": [
    "# export\n",
    "from torch.optim import Optimizer\n",
    "from omegaconf import DictConfig\n",
    "from lightning_cv.core.common import Registry\n",
    "from torch.optim.lr_scheduler import (OneCycleLR, CosineAnnealingWarmRestarts, StepLR, MultiStepLR, ExponentialLR, ReduceLROnPlateau, MultiplicativeLR)"
   ]
  },
  {
   "cell_type": "code",
   "execution_count": null,
   "metadata": {},
   "outputs": [],
   "source": [
    "# export\n",
    "LR_SCHEDULER_REGISTERY = Registry(\"LRSchedulers\")"
   ]
  },
  {
   "cell_type": "code",
   "execution_count": null,
   "metadata": {},
   "outputs": [],
   "source": [
    "# export\n",
    "# torch schedulers\n",
    "LR_SCHEDULER_REGISTERY.register(OneCycleLR)\n",
    "LR_SCHEDULER_REGISTERY.register(CosineAnnealingWarmRestarts)\n",
    "LR_SCHEDULER_REGISTERY.register(StepLR)\n",
    "LR_SCHEDULER_REGISTERY.register(MultiStepLR)\n",
    "LR_SCHEDULER_REGISTERY.register(ExponentialLR)\n",
    "LR_SCHEDULER_REGISTERY.register(ReduceLROnPlateau)\n",
    "LR_SCHEDULER_REGISTERY.register(MultiplicativeLR)\n",
    "\n",
    "# custom schedulers\n",
    "LR_SCHEDULER_REGISTERY.register(FlatCos)\n",
    "LR_SCHEDULER_REGISTERY.register(WarmupCosineLR)\n",
    "LR_SCHEDULER_REGISTERY.register(WarmupLinearLR)\n",
    "LR_SCHEDULER_REGISTERY.register(WarmupConstantLR)"
   ]
  },
  {
   "cell_type": "code",
   "execution_count": null,
   "metadata": {},
   "outputs": [
    {
     "data": {
      "text/plain": [
       "Registry of LRSchedulers:\n",
       "╒═════════════════════════════╤════════════════════════════════════════════════════════════════╕\n",
       "│ Names                       │ Objects                                                        │\n",
       "╞═════════════════════════════╪════════════════════════════════════════════════════════════════╡\n",
       "│ OneCycleLR                  │ <class 'torch.optim.lr_scheduler.OneCycleLR'>                  │\n",
       "├─────────────────────────────┼────────────────────────────────────────────────────────────────┤\n",
       "│ CosineAnnealingWarmRestarts │ <class 'torch.optim.lr_scheduler.CosineAnnealingWarmRestarts'> │\n",
       "├─────────────────────────────┼────────────────────────────────────────────────────────────────┤\n",
       "│ StepLR                      │ <class 'torch.optim.lr_scheduler.StepLR'>                      │\n",
       "├─────────────────────────────┼────────────────────────────────────────────────────────────────┤\n",
       "│ MultiStepLR                 │ <class 'torch.optim.lr_scheduler.MultiStepLR'>                 │\n",
       "├─────────────────────────────┼────────────────────────────────────────────────────────────────┤\n",
       "│ ExponentialLR               │ <class 'torch.optim.lr_scheduler.ExponentialLR'>               │\n",
       "├─────────────────────────────┼────────────────────────────────────────────────────────────────┤\n",
       "│ ReduceLROnPlateau           │ <class 'torch.optim.lr_scheduler.ReduceLROnPlateau'>           │\n",
       "├─────────────────────────────┼────────────────────────────────────────────────────────────────┤\n",
       "│ MultiplicativeLR            │ <class 'torch.optim.lr_scheduler.MultiplicativeLR'>            │\n",
       "├─────────────────────────────┼────────────────────────────────────────────────────────────────┤\n",
       "│ FlatCos                     │ <function FlatCos at 0x7f8371b22670>                           │\n",
       "├─────────────────────────────┼────────────────────────────────────────────────────────────────┤\n",
       "│ WarmupCosineLR              │ <function WarmupCosineLR at 0x7f8371dc7820>                    │\n",
       "├─────────────────────────────┼────────────────────────────────────────────────────────────────┤\n",
       "│ WarmupLinearLR              │ <function WarmupLinearLR at 0x7f8371dd9b80>                    │\n",
       "├─────────────────────────────┼────────────────────────────────────────────────────────────────┤\n",
       "│ WarmupConstantLR            │ <function WarmupConstantLR at 0x7f8371dc7af0>                  │\n",
       "╘═════════════════════════════╧════════════════════════════════════════════════════════════════╛"
      ]
     },
     "execution_count": null,
     "metadata": {},
     "output_type": "execute_result"
    }
   ],
   "source": [
    "#hide-inputs\n",
    "LR_SCHEDULER_REGISTERY"
   ]
  },
  {
   "cell_type": "code",
   "execution_count": null,
   "metadata": {},
   "outputs": [],
   "source": [
    "# export\n",
    "def create_scheduler(opt: Optimizer,  cfg: DictConfig, n_epochs: int, n_steps: int) -> Dict:\n",
    "    \"\"\"\n",
    "    Instantiate a scheduler from `LR_SCHEDULER_REGISTERY` given `opt` from `cfg`, `n_epochs` & `n_steps`.\n",
    "    \n",
    "    > Note: Returned scheduler will be in a format similar\n",
    "    [scheduler configuration](https://pytorch-lightning.readthedocs.io/en/latest/common/optimizers.html) \n",
    "    in pytorch lightning.\n",
    "    \"\"\"\n",
    "    opt_cls = LR_SCHEDULER_REGISTERY.get(cfg.SCHEDULER.NAME)\n",
    "    \n",
    "    max_iters = n_epochs * n_steps\n",
    "    \n",
    "    keys = [\"max_iters\", \"epochs\", \"steps_per_epoch\"]\n",
    "    \n",
    "    for key in keys:\n",
    "        if key in cfg.SCHEDULER.ARGUMENTS.keys():\n",
    "            if cfg.SCHEDULER.ARGUMENTS[\"key\"] is None:\n",
    "                if key == \"max_iters\":\n",
    "                    cfg.SCHEDULER.ARGUMENTS.max_iters = max_iters\n",
    "                elif key == \"epochs\":\n",
    "                    cfg.SCHEDULER.ARGUMENTS.epochs = n_epochs\n",
    "                else:\n",
    "                    cfg.SCHEDULER.ARGUMENTS.steps_per_epoch = n_steps\n",
    "        \n",
    "    sched = opt_cls(optimizer=opt, **cfg.SCHEDULER.ARGUMENTS)\n",
    "    \n",
    "    # convert scheduler to lightning format\n",
    "    return dict(scheduler=sched, monitor=cfg.SCHEDULER.MONITOR, interval=cfg.SCHEDULER.INTERVAL, \n",
    "                frequency=cfg.SCHEDULER.FREQUENCY)"
   ]
  },
  {
   "cell_type": "code",
   "execution_count": null,
   "metadata": {},
   "outputs": [
    {
     "data": {
      "text/markdown": [
       "<h4 id=\"create_scheduler\" class=\"doc_header\"><code>create_scheduler</code><a href=\"__main__.py#L2\" class=\"source_link\" style=\"float:right\">[source]</a></h4>\n",
       "\n",
       "> <code>create_scheduler</code>(**`opt`**:`Optimizer`, **`cfg`**:`DictConfig`, **`n_epochs`**:`int`, **`n_steps`**:`int`)\n",
       "\n",
       "Instantiate a scheduler from `LR_SCHEDULER_REGISTERY` given `opt` from `cfg`, `n_epochs` & `n_steps`.\n",
       "\n",
       "> Note: Returned scheduler will be in a format similar\n",
       "[scheduler configuration](https://pytorch-lightning.readthedocs.io/en/latest/common/optimizers.html) \n",
       "in pytorch lightning."
      ],
      "text/plain": [
       "<IPython.core.display.Markdown object>"
      ]
     },
     "metadata": {},
     "output_type": "display_data"
    }
   ],
   "source": [
    "show_doc(create_scheduler)"
   ]
  },
  {
   "cell_type": "code",
   "execution_count": null,
   "metadata": {},
   "outputs": [
    {
     "name": "stdout",
     "output_type": "stream",
     "text": [
      "NAME: FlatCos\n",
      "ARGUMENTS:\n",
      "  pct_start: 0.72\n",
      "  max_iters: null\n",
      "INTERVAL: step\n",
      "FREQUENCY: 1\n",
      "MONITOR: null\n",
      "\n"
     ]
    }
   ],
   "source": [
    "from lightning_cv.config import get_cfg\n",
    "from omegaconf import OmegaConf\n",
    "\n",
    "cfg = get_cfg(strict=False)\n",
    "print(OmegaConf.to_yaml(cfg.SCHEDULER))"
   ]
  },
  {
   "cell_type": "code",
   "execution_count": null,
   "metadata": {},
   "outputs": [
    {
     "name": "stdout",
     "output_type": "stream",
     "text": [
      "{'scheduler': <__main__.LRMultiplier object at 0x7f8376169dc0>, 'monitor': None, 'interval': 'step', 'frequency': 1}\n"
     ]
    }
   ],
   "source": [
    "epoch = 10\n",
    "batch_nb = 10\n",
    "\n",
    "model = [torch.nn.Parameter(torch.randn(2, 2, requires_grad=True))]\n",
    "optim = torch.optim.Adam(model, lr=0.1)\n",
    "\n",
    "scheduler = create_scheduler(optim, cfg, n_epochs=epoch, n_steps=batch_nb)\n",
    "print(scheduler)"
   ]
  },
  {
   "cell_type": "code",
   "execution_count": null,
   "metadata": {},
   "outputs": [
    {
     "data": {
      "image/png": "[encoded data removed]",
      "text/plain": [
       "<Figure size 432x288 with 1 Axes>"
      ]
     },
     "metadata": {
      "needs_background": "light"
     },
     "output_type": "display_data"
    }
   ],
   "source": [
    "lrs = []\n",
    "\n",
    "for _ in range(epoch):\n",
    "    for _ in range(batch_nb):\n",
    "        scheduler[\"scheduler\"].step()\n",
    "        lrs.append(scheduler[\"scheduler\"].get_lr())\n",
    "\n",
    "plt.plot(lrs);"
   ]
  },
  {
   "cell_type": "markdown",
   "metadata": {},
   "source": [
    "If you want to use `OneCycleScheduler`"
   ]
  },
  {
   "cell_type": "markdown",
   "metadata": {},
   "source": [
    "> Note: The scheduler that you want to use must be registerd in the `LR_SCHEDULER_REGISTERY` registery for `create_scheduler` to work. Also if the scheduler you use requires `max_iters`, `epochs`, `steps_per_epoch` in `ARGUMENTS` and if these are None then `lightning_cv` will automatically set these values for you."
   ]
  },
  {
   "cell_type": "code",
   "execution_count": null,
   "metadata": {},
   "outputs": [
    {
     "name": "stdout",
     "output_type": "stream",
     "text": [
      "NAME: OneCycleLR\n",
      "ARGUMENTS:\n",
      "  max_lr: 0.001\n",
      "  epochs: null\n",
      "  steps_per_epoch: null\n",
      "  anneal_strategy: cos\n",
      "  cycle_momentum: true\n",
      "INTERVAL: step\n",
      "FREQUENCY: 1\n",
      "MONITOR: null\n",
      "\n"
     ]
    }
   ],
   "source": [
    "cfg = get_cfg(strict=False)\n",
    "cfg.SCHEDULER.NAME = \"OneCycleLR\"\n",
    "cfg.SCHEDULER.ARGUMENTS = dict(max_lr=1e-03, epochs=None, steps_per_epoch=None, anneal_strategy='cos', cycle_momentum=True,)\n",
    "cfg.SCHEDULER.INTERVAL = \"step\"\n",
    "cfg.SCHEDULER.FREQUENCY = 1\n",
    "print(OmegaConf.to_yaml(cfg.SCHEDULER))"
   ]
  },
  {
   "cell_type": "code",
   "execution_count": null,
   "metadata": {},
   "outputs": [
    {
     "data": {
      "image/png": "[encoded data removed]",
      "text/plain": [
       "<Figure size 432x288 with 1 Axes>"
      ]
     },
     "metadata": {
      "needs_background": "light"
     },
     "output_type": "display_data"
    }
   ],
   "source": [
    "epoch = 10\n",
    "batch_nb = 10\n",
    "\n",
    "model = [torch.nn.Parameter(torch.randn(2, 2, requires_grad=True))]\n",
    "optim = torch.optim.Adam(model, lr=0.1)\n",
    "\n",
    "scheduler = create_scheduler(optim, cfg, n_epochs=epoch, n_steps=batch_nb)\n",
    "\n",
    "lrs = []\n",
    "\n",
    "for _ in range(epoch):\n",
    "    for _ in range(batch_nb):\n",
    "        scheduler[\"scheduler\"].step()\n",
    "        lrs.append(scheduler[\"scheduler\"].get_lr())\n",
    "\n",
    "plt.plot(lrs);"
   ]
  },
  {
   "cell_type": "code",
   "execution_count": null,
   "metadata": {},
   "outputs": [
    {
     "name": "stdout",
     "output_type": "stream",
     "text": [
      "Converted 00_config.ipynb.\n",
      "Converted 00a_core.common.ipynb.\n",
      "Converted 00b_core.data_utils.ipynb.\n",
      "Converted 00c_core.optim.ipynb.\n",
      "Converted 00d_core.schedules.ipynb.\n",
      "Converted 00e_core.layers.ipynb.\n",
      "Converted 01a_classification.data.transforms.ipynb.\n",
      "Converted 01b_classification.data.datasets.ipynb.\n",
      "Converted 01c_classification.modelling.body.ipynb.\n",
      "Converted index.ipynb.\n"
     ]
    }
   ],
   "source": [
    "#hide\n",
    "notebook2script()"
   ]
  },
  {
   "cell_type": "code",
   "execution_count": null,
   "metadata": {},
   "outputs": [],
   "source": []
  }
 ],
 "metadata": {
  "kernelspec": {
   "display_name": "lightning_cv",
   "language": "python",
   "name": "lightning_cv"
  }
 },
 "nbformat": 4,
 "nbformat_minor": 4
}

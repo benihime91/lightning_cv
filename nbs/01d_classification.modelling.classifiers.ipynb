{
 "cells": [
  {
   "cell_type": "code",
   "execution_count": null,
   "id": "operational-vector",
   "metadata": {},
   "outputs": [],
   "source": [
    "# default_exp classification.modelling.classifiers"
   ]
  },
  {
   "cell_type": "code",
   "execution_count": null,
   "id": "blessed-tucson",
   "metadata": {},
   "outputs": [
    {
     "data": {
      "application/javascript": [
       "\n",
       "            setTimeout(function() {\n",
       "                var nbb_cell_id = 2;\n",
       "                var nbb_unformatted_code = \"# hide\\nimport warnings\\n\\nwarnings.filterwarnings(\\\"ignore\\\")\\n\\n%load_ext nb_black\";\n",
       "                var nbb_formatted_code = \"# hide\\nimport warnings\\n\\nwarnings.filterwarnings(\\\"ignore\\\")\\n\\n%load_ext nb_black\";\n",
       "                var nbb_cells = Jupyter.notebook.get_cells();\n",
       "                for (var i = 0; i < nbb_cells.length; ++i) {\n",
       "                    if (nbb_cells[i].input_prompt_number == nbb_cell_id) {\n",
       "                        if (nbb_cells[i].get_text() == nbb_unformatted_code) {\n",
       "                             nbb_cells[i].set_text(nbb_formatted_code);\n",
       "                        }\n",
       "                        break;\n",
       "                    }\n",
       "                }\n",
       "            }, 500);\n",
       "            "
      ],
      "text/plain": [
       "<IPython.core.display.Javascript object>"
      ]
     },
     "metadata": {},
     "output_type": "display_data"
    }
   ],
   "source": [
    "# hide\n",
    "import warnings\n",
    "\n",
    "warnings.filterwarnings(\"ignore\")\n",
    "\n",
    "%load_ext nb_black"
   ]
  },
  {
   "cell_type": "code",
   "execution_count": null,
   "id": "enormous-julian",
   "metadata": {},
   "outputs": [
    {
     "data": {
      "text/plain": [
       "'/Users/ayushman/Desktop/lightning_cv/nbs/data'"
      ]
     },
     "execution_count": null,
     "metadata": {},
     "output_type": "execute_result"
    },
    {
     "data": {
      "application/javascript": [
       "\n",
       "            setTimeout(function() {\n",
       "                var nbb_cell_id = 3;\n",
       "                var nbb_unformatted_code = \"# hide\\nfrom nbdev.showdoc import *\\nfrom nbdev.export import *\\nfrom nbdev.imports import Config as NbdevConfig\\n\\nnbdev_path = str(NbdevConfig().path(\\\"nbs_path\\\") / \\\"data\\\")\\nnbdev_path\";\n",
       "                var nbb_formatted_code = \"# hide\\nfrom nbdev.showdoc import *\\nfrom nbdev.export import *\\nfrom nbdev.imports import Config as NbdevConfig\\n\\nnbdev_path = str(NbdevConfig().path(\\\"nbs_path\\\") / \\\"data\\\")\\nnbdev_path\";\n",
       "                var nbb_cells = Jupyter.notebook.get_cells();\n",
       "                for (var i = 0; i < nbb_cells.length; ++i) {\n",
       "                    if (nbb_cells[i].input_prompt_number == nbb_cell_id) {\n",
       "                        if (nbb_cells[i].get_text() == nbb_unformatted_code) {\n",
       "                             nbb_cells[i].set_text(nbb_formatted_code);\n",
       "                        }\n",
       "                        break;\n",
       "                    }\n",
       "                }\n",
       "            }, 500);\n",
       "            "
      ],
      "text/plain": [
       "<IPython.core.display.Javascript object>"
      ]
     },
     "metadata": {},
     "output_type": "display_data"
    }
   ],
   "source": [
    "# hide\n",
    "from nbdev.showdoc import *\n",
    "from nbdev.export import *\n",
    "from nbdev.imports import Config as NbdevConfig\n",
    "\n",
    "nbdev_path = str(NbdevConfig().path(\"nbs_path\") / \"data\")\n",
    "nbdev_path"
   ]
  },
  {
   "cell_type": "markdown",
   "id": "liable-inclusion",
   "metadata": {},
   "source": [
    "# Image Classification Classifiers\n",
    "> Set of Classifiers for Image Classification."
   ]
  },
  {
   "cell_type": "code",
   "execution_count": null,
   "id": "academic-questionnaire",
   "metadata": {},
   "outputs": [
    {
     "data": {
      "application/javascript": [
       "\n",
       "            setTimeout(function() {\n",
       "                var nbb_cell_id = 6;\n",
       "                var nbb_unformatted_code = \"# export\\nfrom typing import *\\nimport torch\\nfrom torch import nn\\nimport torch.nn.functional as F\\n\\nfrom timm.models.layers import create_classifier\\n\\nfrom omegaconf import DictConfig\\nfrom fastcore.all import delegates, L\\n\\nfrom lightning_cv.core.layers import *\\nfrom lightning_cv.core import Registry, ACTIVATION_REGISTERY\";\n",
       "                var nbb_formatted_code = \"# export\\nfrom typing import *\\nimport torch\\nfrom torch import nn\\nimport torch.nn.functional as F\\n\\nfrom timm.models.layers import create_classifier\\n\\nfrom omegaconf import DictConfig\\nfrom fastcore.all import delegates, L\\n\\nfrom lightning_cv.core.layers import *\\nfrom lightning_cv.core import Registry, ACTIVATION_REGISTERY\";\n",
       "                var nbb_cells = Jupyter.notebook.get_cells();\n",
       "                for (var i = 0; i < nbb_cells.length; ++i) {\n",
       "                    if (nbb_cells[i].input_prompt_number == nbb_cell_id) {\n",
       "                        if (nbb_cells[i].get_text() == nbb_unformatted_code) {\n",
       "                             nbb_cells[i].set_text(nbb_formatted_code);\n",
       "                        }\n",
       "                        break;\n",
       "                    }\n",
       "                }\n",
       "            }, 500);\n",
       "            "
      ],
      "text/plain": [
       "<IPython.core.display.Javascript object>"
      ]
     },
     "metadata": {},
     "output_type": "display_data"
    }
   ],
   "source": [
    "# export\n",
    "from typing import *\n",
    "import torch\n",
    "from torch import nn\n",
    "import torch.nn.functional as F\n",
    "\n",
    "from timm.models.layers import create_classifier\n",
    "\n",
    "from omegaconf import DictConfig\n",
    "from fastcore.all import delegates, L\n",
    "\n",
    "from lightning_cv.core.layers import *\n",
    "from lightning_cv.core import Registry, ACTIVATION_REGISTERY"
   ]
  },
  {
   "cell_type": "code",
   "execution_count": null,
   "id": "demographic-pearl",
   "metadata": {},
   "outputs": [
    {
     "data": {
      "application/javascript": [
       "\n",
       "            setTimeout(function() {\n",
       "                var nbb_cell_id = 7;\n",
       "                var nbb_unformatted_code = \"# export\\nfrom fastcore.all import *\";\n",
       "                var nbb_formatted_code = \"# export\\nfrom fastcore.all import *\";\n",
       "                var nbb_cells = Jupyter.notebook.get_cells();\n",
       "                for (var i = 0; i < nbb_cells.length; ++i) {\n",
       "                    if (nbb_cells[i].input_prompt_number == nbb_cell_id) {\n",
       "                        if (nbb_cells[i].get_text() == nbb_unformatted_code) {\n",
       "                             nbb_cells[i].set_text(nbb_formatted_code);\n",
       "                        }\n",
       "                        break;\n",
       "                    }\n",
       "                }\n",
       "            }, 500);\n",
       "            "
      ],
      "text/plain": [
       "<IPython.core.display.Javascript object>"
      ]
     },
     "metadata": {},
     "output_type": "display_data"
    }
   ],
   "source": [
    "# export\n",
    "from fastcore.all import *"
   ]
  },
  {
   "cell_type": "code",
   "execution_count": null,
   "id": "nuclear-layout",
   "metadata": {},
   "outputs": [
    {
     "data": {
      "application/javascript": [
       "\n",
       "            setTimeout(function() {\n",
       "                var nbb_cell_id = 8;\n",
       "                var nbb_unformatted_code = \"# export\\nclass GeneralClassifier(nn.Module):\\n    \\\"A classification head w/ configurable global pooling and dropout that is similar to the one created by the timm library\\\"\\n\\n    @delegates(create_classifier)\\n    def __init__(\\n        self, num_features: int, num_classes: int, drop_rate: float = 0.0, **kwargs\\n    ):\\n        super(GeneralClassifier, self).__init__()\\n        self.global_pool, self.fc = create_classifier(\\n            num_features, num_classes, **kwargs\\n        )\\n        self.drop_rate = drop_rate\\n\\n    def forward(self, x):\\n        x = self.global_pool(x)\\n        if self.drop_rate:\\n            x = F.dropout(x, p=float(self.drop_rate), training=self.training)\\n        x = self.fc(x)\\n        return x\\n\\n    @classmethod\\n    def from_config(cls, cfg: DictConfig):\\n        return cls(**cfg)\";\n",
       "                var nbb_formatted_code = \"# export\\nclass GeneralClassifier(nn.Module):\\n    \\\"A classification head w/ configurable global pooling and dropout that is similar to the one created by the timm library\\\"\\n\\n    @delegates(create_classifier)\\n    def __init__(\\n        self, num_features: int, num_classes: int, drop_rate: float = 0.0, **kwargs\\n    ):\\n        super(GeneralClassifier, self).__init__()\\n        self.global_pool, self.fc = create_classifier(\\n            num_features, num_classes, **kwargs\\n        )\\n        self.drop_rate = drop_rate\\n\\n    def forward(self, x):\\n        x = self.global_pool(x)\\n        if self.drop_rate:\\n            x = F.dropout(x, p=float(self.drop_rate), training=self.training)\\n        x = self.fc(x)\\n        return x\\n\\n    @classmethod\\n    def from_config(cls, cfg: DictConfig):\\n        return cls(**cfg)\";\n",
       "                var nbb_cells = Jupyter.notebook.get_cells();\n",
       "                for (var i = 0; i < nbb_cells.length; ++i) {\n",
       "                    if (nbb_cells[i].input_prompt_number == nbb_cell_id) {\n",
       "                        if (nbb_cells[i].get_text() == nbb_unformatted_code) {\n",
       "                             nbb_cells[i].set_text(nbb_formatted_code);\n",
       "                        }\n",
       "                        break;\n",
       "                    }\n",
       "                }\n",
       "            }, 500);\n",
       "            "
      ],
      "text/plain": [
       "<IPython.core.display.Javascript object>"
      ]
     },
     "metadata": {},
     "output_type": "display_data"
    }
   ],
   "source": [
    "# export\n",
    "class GeneralClassifier(nn.Module):\n",
    "    \"A classification head w/ configurable global pooling and dropout that is similar to the one created by the timm library\"\n",
    "\n",
    "    @delegates(create_classifier)\n",
    "    def __init__(\n",
    "        self, num_features: int, num_classes: int, drop_rate: float = 0.0, **kwargs\n",
    "    ):\n",
    "        super(GeneralClassifier, self).__init__()\n",
    "        self.global_pool, self.fc = create_classifier(\n",
    "            num_features, num_classes, **kwargs\n",
    "        )\n",
    "        self.drop_rate = drop_rate\n",
    "\n",
    "    def forward(self, x):\n",
    "        x = self.global_pool(x)\n",
    "        if self.drop_rate:\n",
    "            x = F.dropout(x, p=float(self.drop_rate), training=self.training)\n",
    "        x = self.fc(x)\n",
    "        return x\n",
    "\n",
    "    @classmethod\n",
    "    def from_config(cls, cfg: DictConfig):\n",
    "        return cls(**cfg)"
   ]
  },
  {
   "cell_type": "code",
   "execution_count": null,
   "id": "naughty-humor",
   "metadata": {},
   "outputs": [
    {
     "data": {
      "application/javascript": [
       "\n",
       "            setTimeout(function() {\n",
       "                var nbb_cell_id = 9;\n",
       "                var nbb_unformatted_code = \"from lightning_cv.config import get_cfg\\nfrom lightning_cv.classification.modelling.backbones import create_cnn_backbone\\n\\ncfg = get_cfg()\\ncfg.MODEL.BACKBONE.NAME = \\\"TimmBackBoneBase\\\"\\ncfg.MODEL.BACKBONE.ARGUMENTS = dict(\\n    model_name=\\\"efficientnet_b0\\\", pretrained=True, cut=None, act_layer=None\\n)\";\n",
       "                var nbb_formatted_code = \"from lightning_cv.config import get_cfg\\nfrom lightning_cv.classification.modelling.backbones import create_cnn_backbone\\n\\ncfg = get_cfg()\\ncfg.MODEL.BACKBONE.NAME = \\\"TimmBackBoneBase\\\"\\ncfg.MODEL.BACKBONE.ARGUMENTS = dict(\\n    model_name=\\\"efficientnet_b0\\\", pretrained=True, cut=None, act_layer=None\\n)\";\n",
       "                var nbb_cells = Jupyter.notebook.get_cells();\n",
       "                for (var i = 0; i < nbb_cells.length; ++i) {\n",
       "                    if (nbb_cells[i].input_prompt_number == nbb_cell_id) {\n",
       "                        if (nbb_cells[i].get_text() == nbb_unformatted_code) {\n",
       "                             nbb_cells[i].set_text(nbb_formatted_code);\n",
       "                        }\n",
       "                        break;\n",
       "                    }\n",
       "                }\n",
       "            }, 500);\n",
       "            "
      ],
      "text/plain": [
       "<IPython.core.display.Javascript object>"
      ]
     },
     "metadata": {},
     "output_type": "display_data"
    }
   ],
   "source": [
    "from lightning_cv.config import get_cfg\n",
    "from lightning_cv.classification.modelling.backbones import create_cnn_backbone\n",
    "\n",
    "cfg = get_cfg()\n",
    "cfg.MODEL.BACKBONE.NAME = \"TimmBackBoneBase\"\n",
    "cfg.MODEL.BACKBONE.ARGUMENTS = dict(\n",
    "    model_name=\"efficientnet_b0\", pretrained=True, cut=None, act_layer=None\n",
    ")"
   ]
  },
  {
   "cell_type": "code",
   "execution_count": null,
   "id": "diagnostic-curtis",
   "metadata": {},
   "outputs": [
    {
     "name": "stdout",
     "output_type": "stream",
     "text": [
      "GeneralClassifier(\n",
      "  (global_pool): SelectAdaptivePool2d (pool_type=avg, flatten=True)\n",
      "  (fc): Linear(in_features=1280, out_features=1000, bias=True)\n",
      ")\n"
     ]
    },
    {
     "data": {
      "application/javascript": [
       "\n",
       "            setTimeout(function() {\n",
       "                var nbb_cell_id = 10;\n",
       "                var nbb_unformatted_code = \"backbone = create_cnn_backbone(cfg)\\nfeatures = num_features_model(backbone)\\n\\ncfg.MODEL.CLASSIFIER.ARGUMENTS = dict(\\n    num_features=features, num_classes=1000, drop_rate=0.25, pool_type=\\\"avg\\\"\\n)\\ntst = GeneralClassifier.from_config(cfg.MODEL.CLASSIFIER.ARGUMENTS)\\n\\nprint(tst)\\n\\nmods = list(tst.children())\\ntest_eq(len(mods), 2)\";\n",
       "                var nbb_formatted_code = \"backbone = create_cnn_backbone(cfg)\\nfeatures = num_features_model(backbone)\\n\\ncfg.MODEL.CLASSIFIER.ARGUMENTS = dict(\\n    num_features=features, num_classes=1000, drop_rate=0.25, pool_type=\\\"avg\\\"\\n)\\ntst = GeneralClassifier.from_config(cfg.MODEL.CLASSIFIER.ARGUMENTS)\\n\\nprint(tst)\\n\\nmods = list(tst.children())\\ntest_eq(len(mods), 2)\";\n",
       "                var nbb_cells = Jupyter.notebook.get_cells();\n",
       "                for (var i = 0; i < nbb_cells.length; ++i) {\n",
       "                    if (nbb_cells[i].input_prompt_number == nbb_cell_id) {\n",
       "                        if (nbb_cells[i].get_text() == nbb_unformatted_code) {\n",
       "                             nbb_cells[i].set_text(nbb_formatted_code);\n",
       "                        }\n",
       "                        break;\n",
       "                    }\n",
       "                }\n",
       "            }, 500);\n",
       "            "
      ],
      "text/plain": [
       "<IPython.core.display.Javascript object>"
      ]
     },
     "metadata": {},
     "output_type": "display_data"
    }
   ],
   "source": [
    "backbone = create_cnn_backbone(cfg)\n",
    "features = num_features_model(backbone)\n",
    "\n",
    "cfg.MODEL.CLASSIFIER.ARGUMENTS = dict(\n",
    "    num_features=features, num_classes=1000, drop_rate=0.25, pool_type=\"avg\"\n",
    ")\n",
    "tst = GeneralClassifier.from_config(cfg.MODEL.CLASSIFIER.ARGUMENTS)\n",
    "\n",
    "print(tst)\n",
    "\n",
    "mods = list(tst.children())\n",
    "test_eq(len(mods), 2)"
   ]
  },
  {
   "cell_type": "code",
   "execution_count": null,
   "id": "billion-england",
   "metadata": {},
   "outputs": [
    {
     "name": "stdout",
     "output_type": "stream",
     "text": [
      "GeneralClassifier(\n",
      "  (global_pool): SelectAdaptivePool2d (pool_type=catavgmax, flatten=True)\n",
      "  (fc): Linear(in_features=2560, out_features=1000, bias=True)\n",
      ")\n"
     ]
    },
    {
     "data": {
      "application/javascript": [
       "\n",
       "            setTimeout(function() {\n",
       "                var nbb_cell_id = 11;\n",
       "                var nbb_unformatted_code = \"backbone = create_cnn_backbone(cfg)\\nfeatures = num_features_model(backbone)\\n\\ncfg.MODEL.CLASSIFIER.ARGUMENTS = dict(\\n    num_features=features, num_classes=1000, drop_rate=0.25, pool_type=\\\"catavgmax\\\"\\n)\\ntst = GeneralClassifier.from_config(cfg.MODEL.CLASSIFIER.ARGUMENTS)\\n\\nprint(tst)\\n\\nmods = list(tst.children())\\ntest_eq(len(mods), 2)\";\n",
       "                var nbb_formatted_code = \"backbone = create_cnn_backbone(cfg)\\nfeatures = num_features_model(backbone)\\n\\ncfg.MODEL.CLASSIFIER.ARGUMENTS = dict(\\n    num_features=features, num_classes=1000, drop_rate=0.25, pool_type=\\\"catavgmax\\\"\\n)\\ntst = GeneralClassifier.from_config(cfg.MODEL.CLASSIFIER.ARGUMENTS)\\n\\nprint(tst)\\n\\nmods = list(tst.children())\\ntest_eq(len(mods), 2)\";\n",
       "                var nbb_cells = Jupyter.notebook.get_cells();\n",
       "                for (var i = 0; i < nbb_cells.length; ++i) {\n",
       "                    if (nbb_cells[i].input_prompt_number == nbb_cell_id) {\n",
       "                        if (nbb_cells[i].get_text() == nbb_unformatted_code) {\n",
       "                             nbb_cells[i].set_text(nbb_formatted_code);\n",
       "                        }\n",
       "                        break;\n",
       "                    }\n",
       "                }\n",
       "            }, 500);\n",
       "            "
      ],
      "text/plain": [
       "<IPython.core.display.Javascript object>"
      ]
     },
     "metadata": {},
     "output_type": "display_data"
    }
   ],
   "source": [
    "backbone = create_cnn_backbone(cfg)\n",
    "features = num_features_model(backbone)\n",
    "\n",
    "cfg.MODEL.CLASSIFIER.ARGUMENTS = dict(\n",
    "    num_features=features, num_classes=1000, drop_rate=0.25, pool_type=\"catavgmax\"\n",
    ")\n",
    "tst = GeneralClassifier.from_config(cfg.MODEL.CLASSIFIER.ARGUMENTS)\n",
    "\n",
    "print(tst)\n",
    "\n",
    "mods = list(tst.children())\n",
    "test_eq(len(mods), 2)"
   ]
  },
  {
   "cell_type": "code",
   "execution_count": null,
   "id": "duplicate-glasgow",
   "metadata": {},
   "outputs": [
    {
     "data": {
      "application/javascript": [
       "\n",
       "            setTimeout(function() {\n",
       "                var nbb_cell_id = 12;\n",
       "                var nbb_unformatted_code = \"# export\\nclass FastaiClassifier(nn.Sequential):\\n    \\\"A classification head same as head generated from : https://github.com/fastai/fastai/blob/master/fastai/vision/learner.py#L76\\\"\\n\\n    def __init__(\\n        self,\\n        num_features: int,\\n        num_classes: int,\\n        lin_ftrs: Optional[List] = None,\\n        ps: float = 0.5,\\n        concat_pool: bool = True,\\n        first_bn: bool = True,\\n        bn_final: bool = False,\\n        lin_first: bool = False,\\n        act_layer: str = \\\"ReLU\\\",\\n    ):\\n\\n        # if using concat_pool then mult the number of features\\n        if concat_pool:\\n            num_features *= 2\\n\\n        # features of the linear layers\\n        lin_ftrs = (\\n            [num_features, 512, num_classes]\\n            if lin_ftrs is None\\n            else [num_features] + lin_ftrs + [num_classes]\\n        )\\n\\n        bns = [first_bn] + [True] * len(lin_ftrs[1:])\\n\\n        ps = L(ps)\\n\\n        if len(ps) == 1:\\n            ps = [ps[0] / 2] * (len(lin_ftrs) - 2) + ps\\n\\n        act_layer = [ACTIVATION_REGISTERY.get(act_layer)(inplace=True)]\\n        actns = act_layer * (len(lin_ftrs) - 2) + [None]\\n        pool = AdaptiveConcatPool2d() if concat_pool else nn.AdaptiveAvgPool2d(1)\\n\\n        layers = [pool, nn.Flatten()]\\n\\n        if lin_first:\\n            layers.append(nn.Dropout(ps.pop(0)))\\n\\n        for ni, no, bn, p, actn in zip(lin_ftrs[:-1], lin_ftrs[1:], bns, ps, actns):\\n            layers += LinBnDrop(ni, no, bn=bn, p=p, act=actn, lin_first=lin_first)\\n\\n        if lin_first:\\n            layers.append(nn.Linear(lin_ftrs[-2], num_classes))\\n\\n        if bn_final:\\n            layers.append(nn.BatchNorm1d(lin_ftrs[-1], momentum=0.01))\\n\\n        super(FastaiClassifier, self).__init__(*layers)\\n\\n    @classmethod\\n    def from_config(cls, cfg: DictConfig):\\n        return cls(**cfg)\";\n",
       "                var nbb_formatted_code = \"# export\\nclass FastaiClassifier(nn.Sequential):\\n    \\\"A classification head same as head generated from : https://github.com/fastai/fastai/blob/master/fastai/vision/learner.py#L76\\\"\\n\\n    def __init__(\\n        self,\\n        num_features: int,\\n        num_classes: int,\\n        lin_ftrs: Optional[List] = None,\\n        ps: float = 0.5,\\n        concat_pool: bool = True,\\n        first_bn: bool = True,\\n        bn_final: bool = False,\\n        lin_first: bool = False,\\n        act_layer: str = \\\"ReLU\\\",\\n    ):\\n\\n        # if using concat_pool then mult the number of features\\n        if concat_pool:\\n            num_features *= 2\\n\\n        # features of the linear layers\\n        lin_ftrs = (\\n            [num_features, 512, num_classes]\\n            if lin_ftrs is None\\n            else [num_features] + lin_ftrs + [num_classes]\\n        )\\n\\n        bns = [first_bn] + [True] * len(lin_ftrs[1:])\\n\\n        ps = L(ps)\\n\\n        if len(ps) == 1:\\n            ps = [ps[0] / 2] * (len(lin_ftrs) - 2) + ps\\n\\n        act_layer = [ACTIVATION_REGISTERY.get(act_layer)(inplace=True)]\\n        actns = act_layer * (len(lin_ftrs) - 2) + [None]\\n        pool = AdaptiveConcatPool2d() if concat_pool else nn.AdaptiveAvgPool2d(1)\\n\\n        layers = [pool, nn.Flatten()]\\n\\n        if lin_first:\\n            layers.append(nn.Dropout(ps.pop(0)))\\n\\n        for ni, no, bn, p, actn in zip(lin_ftrs[:-1], lin_ftrs[1:], bns, ps, actns):\\n            layers += LinBnDrop(ni, no, bn=bn, p=p, act=actn, lin_first=lin_first)\\n\\n        if lin_first:\\n            layers.append(nn.Linear(lin_ftrs[-2], num_classes))\\n\\n        if bn_final:\\n            layers.append(nn.BatchNorm1d(lin_ftrs[-1], momentum=0.01))\\n\\n        super(FastaiClassifier, self).__init__(*layers)\\n\\n    @classmethod\\n    def from_config(cls, cfg: DictConfig):\\n        return cls(**cfg)\";\n",
       "                var nbb_cells = Jupyter.notebook.get_cells();\n",
       "                for (var i = 0; i < nbb_cells.length; ++i) {\n",
       "                    if (nbb_cells[i].input_prompt_number == nbb_cell_id) {\n",
       "                        if (nbb_cells[i].get_text() == nbb_unformatted_code) {\n",
       "                             nbb_cells[i].set_text(nbb_formatted_code);\n",
       "                        }\n",
       "                        break;\n",
       "                    }\n",
       "                }\n",
       "            }, 500);\n",
       "            "
      ],
      "text/plain": [
       "<IPython.core.display.Javascript object>"
      ]
     },
     "metadata": {},
     "output_type": "display_data"
    }
   ],
   "source": [
    "# export\n",
    "class FastaiClassifier(nn.Sequential):\n",
    "    \"A classification head same as head generated from : https://github.com/fastai/fastai/blob/master/fastai/vision/learner.py#L76\"\n",
    "\n",
    "    def __init__(\n",
    "        self,\n",
    "        num_features: int,\n",
    "        num_classes: int,\n",
    "        lin_ftrs: Optional[List] = None,\n",
    "        ps: float = 0.5,\n",
    "        concat_pool: bool = True,\n",
    "        first_bn: bool = True,\n",
    "        bn_final: bool = False,\n",
    "        lin_first: bool = False,\n",
    "        act_layer: str = \"ReLU\",\n",
    "    ):\n",
    "\n",
    "        # if using concat_pool then mult the number of features\n",
    "        if concat_pool:\n",
    "            num_features *= 2\n",
    "\n",
    "        # features of the linear layers\n",
    "        lin_ftrs = (\n",
    "            [num_features, 512, num_classes]\n",
    "            if lin_ftrs is None\n",
    "            else [num_features] + lin_ftrs + [num_classes]\n",
    "        )\n",
    "\n",
    "        bns = [first_bn] + [True] * len(lin_ftrs[1:])\n",
    "\n",
    "        ps = L(ps)\n",
    "\n",
    "        if len(ps) == 1:\n",
    "            ps = [ps[0] / 2] * (len(lin_ftrs) - 2) + ps\n",
    "\n",
    "        act_layer = [ACTIVATION_REGISTERY.get(act_layer)(inplace=True)]\n",
    "        actns = act_layer * (len(lin_ftrs) - 2) + [None]\n",
    "        pool = AdaptiveConcatPool2d() if concat_pool else nn.AdaptiveAvgPool2d(1)\n",
    "\n",
    "        layers = [pool, nn.Flatten()]\n",
    "\n",
    "        if lin_first:\n",
    "            layers.append(nn.Dropout(ps.pop(0)))\n",
    "\n",
    "        for ni, no, bn, p, actn in zip(lin_ftrs[:-1], lin_ftrs[1:], bns, ps, actns):\n",
    "            layers += LinBnDrop(ni, no, bn=bn, p=p, act=actn, lin_first=lin_first)\n",
    "\n",
    "        if lin_first:\n",
    "            layers.append(nn.Linear(lin_ftrs[-2], num_classes))\n",
    "\n",
    "        if bn_final:\n",
    "            layers.append(nn.BatchNorm1d(lin_ftrs[-1], momentum=0.01))\n",
    "\n",
    "        super(FastaiClassifier, self).__init__(*layers)\n",
    "\n",
    "    @classmethod\n",
    "    def from_config(cls, cfg: DictConfig):\n",
    "        return cls(**cfg)"
   ]
  },
  {
   "cell_type": "markdown",
   "id": "material-morrison",
   "metadata": {},
   "source": [
    "The head begins with with a `AdaptiveConcatPool2d` (adapted from fastai) if `concat_pool=True` otherwise, it uses traditional average pooling. Then it uses a Flatten layer before going on blocks of BatchNorm, Dropout and Linear layers `(if lin_first=True, those are Linear, BatchNorm, Dropout)`.\n",
    "\n",
    "Those blocks start at `num_features`, then every element of `lin_ftrs` (defaults to [512]) and end at `num_classes`. `ps` is a list of probabilities used for the dropouts (if you only pass 1, it will use half the value then that value as many times as necessary).\n",
    "\n",
    "If `first_bn=True`, a BatchNorm added just after the pooling operations. If `bn_final=True`, a final BatchNorm layer is added.\n",
    "\n",
    "Activation functions are added after every blocks of BatchNorm, Dropout and Linear layers. The function is inferred from `ACTIVATION_REGISTERY` using `act_layer` (defaults to ReLU)."
   ]
  },
  {
   "cell_type": "code",
   "execution_count": null,
   "id": "promotional-twenty",
   "metadata": {},
   "outputs": [
    {
     "data": {
      "text/plain": [
       "FastaiClassifier(\n",
       "  (0): AdaptiveConcatPool2d(\n",
       "    (ap): AdaptiveAvgPool2d(output_size=1)\n",
       "    (mp): AdaptiveMaxPool2d(output_size=1)\n",
       "  )\n",
       "  (1): Flatten(start_dim=1, end_dim=-1)\n",
       "  (2): BatchNorm1d(2560, eps=1e-05, momentum=0.1, affine=True, track_running_stats=True)\n",
       "  (3): Dropout(p=0.25, inplace=False)\n",
       "  (4): Linear(in_features=2560, out_features=512, bias=False)\n",
       "  (5): ReLU(inplace=True)\n",
       "  (6): BatchNorm1d(512, eps=1e-05, momentum=0.1, affine=True, track_running_stats=True)\n",
       "  (7): Dropout(p=0.5, inplace=False)\n",
       "  (8): Linear(in_features=512, out_features=10, bias=False)\n",
       ")"
      ]
     },
     "execution_count": null,
     "metadata": {},
     "output_type": "execute_result"
    },
    {
     "data": {
      "application/javascript": [
       "\n",
       "            setTimeout(function() {\n",
       "                var nbb_cell_id = 13;\n",
       "                var nbb_unformatted_code = \"tst = FastaiClassifier(features, 10)\\ntst\";\n",
       "                var nbb_formatted_code = \"tst = FastaiClassifier(features, 10)\\ntst\";\n",
       "                var nbb_cells = Jupyter.notebook.get_cells();\n",
       "                for (var i = 0; i < nbb_cells.length; ++i) {\n",
       "                    if (nbb_cells[i].input_prompt_number == nbb_cell_id) {\n",
       "                        if (nbb_cells[i].get_text() == nbb_unformatted_code) {\n",
       "                             nbb_cells[i].set_text(nbb_formatted_code);\n",
       "                        }\n",
       "                        break;\n",
       "                    }\n",
       "                }\n",
       "            }, 500);\n",
       "            "
      ],
      "text/plain": [
       "<IPython.core.display.Javascript object>"
      ]
     },
     "metadata": {},
     "output_type": "display_data"
    }
   ],
   "source": [
    "tst = FastaiClassifier(features, 10)\n",
    "tst"
   ]
  },
  {
   "cell_type": "code",
   "execution_count": null,
   "id": "equivalent-thread",
   "metadata": {},
   "outputs": [
    {
     "data": {
      "application/javascript": [
       "\n",
       "            setTimeout(function() {\n",
       "                var nbb_cell_id = 14;\n",
       "                var nbb_unformatted_code = \"# hide\\nmods = list(tst.children())\\ntest_eq(len(mods), 9)\\nassert isinstance(mods[2], nn.BatchNorm1d)\\nassert isinstance(mods[-1], nn.Linear)\\n\\ntst = FastaiClassifier(5, 10, lin_first=True)\\nmods = list(tst.children())\\ntest_eq(len(mods), 8)\\nassert isinstance(mods[2], nn.Dropout)\\n\\ntst = FastaiClassifier(5, 10, first_bn=False)\\nmods = list(tst.children())\\ntest_eq(len(mods), 8)\\nassert isinstance(mods[2], nn.Dropout)\\n\\ntst = FastaiClassifier(5, 10, concat_pool=True)\\nmodes = list(tst.children())\\ntest_eq(modes[4].in_features, 10)\\n\\ntst = FastaiClassifier(5, 10, concat_pool=False)\\nmodes = list(tst.children())\\ntest_eq(modes[4].in_features, 5)\";\n",
       "                var nbb_formatted_code = \"# hide\\nmods = list(tst.children())\\ntest_eq(len(mods), 9)\\nassert isinstance(mods[2], nn.BatchNorm1d)\\nassert isinstance(mods[-1], nn.Linear)\\n\\ntst = FastaiClassifier(5, 10, lin_first=True)\\nmods = list(tst.children())\\ntest_eq(len(mods), 8)\\nassert isinstance(mods[2], nn.Dropout)\\n\\ntst = FastaiClassifier(5, 10, first_bn=False)\\nmods = list(tst.children())\\ntest_eq(len(mods), 8)\\nassert isinstance(mods[2], nn.Dropout)\\n\\ntst = FastaiClassifier(5, 10, concat_pool=True)\\nmodes = list(tst.children())\\ntest_eq(modes[4].in_features, 10)\\n\\ntst = FastaiClassifier(5, 10, concat_pool=False)\\nmodes = list(tst.children())\\ntest_eq(modes[4].in_features, 5)\";\n",
       "                var nbb_cells = Jupyter.notebook.get_cells();\n",
       "                for (var i = 0; i < nbb_cells.length; ++i) {\n",
       "                    if (nbb_cells[i].input_prompt_number == nbb_cell_id) {\n",
       "                        if (nbb_cells[i].get_text() == nbb_unformatted_code) {\n",
       "                             nbb_cells[i].set_text(nbb_formatted_code);\n",
       "                        }\n",
       "                        break;\n",
       "                    }\n",
       "                }\n",
       "            }, 500);\n",
       "            "
      ],
      "text/plain": [
       "<IPython.core.display.Javascript object>"
      ]
     },
     "metadata": {},
     "output_type": "display_data"
    }
   ],
   "source": [
    "# hide\n",
    "mods = list(tst.children())\n",
    "test_eq(len(mods), 9)\n",
    "assert isinstance(mods[2], nn.BatchNorm1d)\n",
    "assert isinstance(mods[-1], nn.Linear)\n",
    "\n",
    "tst = FastaiClassifier(5, 10, lin_first=True)\n",
    "mods = list(tst.children())\n",
    "test_eq(len(mods), 8)\n",
    "assert isinstance(mods[2], nn.Dropout)\n",
    "\n",
    "tst = FastaiClassifier(5, 10, first_bn=False)\n",
    "mods = list(tst.children())\n",
    "test_eq(len(mods), 8)\n",
    "assert isinstance(mods[2], nn.Dropout)\n",
    "\n",
    "tst = FastaiClassifier(5, 10, concat_pool=True)\n",
    "modes = list(tst.children())\n",
    "test_eq(modes[4].in_features, 10)\n",
    "\n",
    "tst = FastaiClassifier(5, 10, concat_pool=False)\n",
    "modes = list(tst.children())\n",
    "test_eq(modes[4].in_features, 5)"
   ]
  },
  {
   "cell_type": "code",
   "execution_count": null,
   "id": "demonstrated-brother",
   "metadata": {},
   "outputs": [
    {
     "data": {
      "text/plain": [
       "FastaiClassifier(\n",
       "  (0): AdaptiveConcatPool2d(\n",
       "    (ap): AdaptiveAvgPool2d(output_size=1)\n",
       "    (mp): AdaptiveMaxPool2d(output_size=1)\n",
       "  )\n",
       "  (1): Flatten(start_dim=1, end_dim=-1)\n",
       "  (2): BatchNorm1d(2560, eps=1e-05, momentum=0.1, affine=True, track_running_stats=True)\n",
       "  (3): Dropout(p=0.25, inplace=False)\n",
       "  (4): Linear(in_features=2560, out_features=512, bias=False)\n",
       "  (5): Mish()\n",
       "  (6): BatchNorm1d(512, eps=1e-05, momentum=0.1, affine=True, track_running_stats=True)\n",
       "  (7): Dropout(p=0.25, inplace=False)\n",
       "  (8): Linear(in_features=512, out_features=155, bias=False)\n",
       "  (9): Mish()\n",
       "  (10): BatchNorm1d(155, eps=1e-05, momentum=0.1, affine=True, track_running_stats=True)\n",
       "  (11): Dropout(p=0.5, inplace=False)\n",
       "  (12): Linear(in_features=155, out_features=10, bias=False)\n",
       ")"
      ]
     },
     "execution_count": null,
     "metadata": {},
     "output_type": "execute_result"
    },
    {
     "data": {
      "application/javascript": [
       "\n",
       "            setTimeout(function() {\n",
       "                var nbb_cell_id = 15;\n",
       "                var nbb_unformatted_code = \"tst = FastaiClassifier(features, 10, act_layer=\\\"Mish\\\", lin_ftrs=[512, 155])\\ntst\";\n",
       "                var nbb_formatted_code = \"tst = FastaiClassifier(features, 10, act_layer=\\\"Mish\\\", lin_ftrs=[512, 155])\\ntst\";\n",
       "                var nbb_cells = Jupyter.notebook.get_cells();\n",
       "                for (var i = 0; i < nbb_cells.length; ++i) {\n",
       "                    if (nbb_cells[i].input_prompt_number == nbb_cell_id) {\n",
       "                        if (nbb_cells[i].get_text() == nbb_unformatted_code) {\n",
       "                             nbb_cells[i].set_text(nbb_formatted_code);\n",
       "                        }\n",
       "                        break;\n",
       "                    }\n",
       "                }\n",
       "            }, 500);\n",
       "            "
      ],
      "text/plain": [
       "<IPython.core.display.Javascript object>"
      ]
     },
     "metadata": {},
     "output_type": "display_data"
    }
   ],
   "source": [
    "tst = FastaiClassifier(features, 10, act_layer=\"Mish\", lin_ftrs=[512, 155])\n",
    "tst"
   ]
  },
  {
   "cell_type": "markdown",
   "id": "heated-lecture",
   "metadata": {},
   "source": [
    "## Classifier Registery "
   ]
  },
  {
   "cell_type": "code",
   "execution_count": null,
   "id": "facial-wyoming",
   "metadata": {},
   "outputs": [
    {
     "data": {
      "application/javascript": [
       "\n",
       "            setTimeout(function() {\n",
       "                var nbb_cell_id = 21;\n",
       "                var nbb_unformatted_code = \"# export\\nCLASSIFICATION_CLASSIFIER_REGISTRY = Registry(\\n    \\\"Classification Classifiers\\\"\\n)\\n\\nCLASSIFICATION_CLASSIFIER_REGISTRY.__doc__ = \\\"Registry of Classifiers for Image Classification\\\"\\nCLASSIFICATION_CLASSIFIER_REGISTRY.register(FastaiClassifier)\\nCLASSIFICATION_CLASSIFIER_REGISTRY.register(GeneralClassifier)\";\n",
       "                var nbb_formatted_code = \"# export\\nCLASSIFICATION_CLASSIFIER_REGISTRY = Registry(\\\"Classification Classifiers\\\")\\n\\nCLASSIFICATION_CLASSIFIER_REGISTRY.__doc__ = (\\n    \\\"Registry of Classifiers for Image Classification\\\"\\n)\\nCLASSIFICATION_CLASSIFIER_REGISTRY.register(FastaiClassifier)\\nCLASSIFICATION_CLASSIFIER_REGISTRY.register(GeneralClassifier)\";\n",
       "                var nbb_cells = Jupyter.notebook.get_cells();\n",
       "                for (var i = 0; i < nbb_cells.length; ++i) {\n",
       "                    if (nbb_cells[i].input_prompt_number == nbb_cell_id) {\n",
       "                        if (nbb_cells[i].get_text() == nbb_unformatted_code) {\n",
       "                             nbb_cells[i].set_text(nbb_formatted_code);\n",
       "                        }\n",
       "                        break;\n",
       "                    }\n",
       "                }\n",
       "            }, 500);\n",
       "            "
      ],
      "text/plain": [
       "<IPython.core.display.Javascript object>"
      ]
     },
     "metadata": {},
     "output_type": "display_data"
    }
   ],
   "source": [
    "# export\n",
    "CLASSIFICATION_CLASSIFIER_REGISTRY = Registry(\"Classification Classifiers\")\n",
    "\n",
    "CLASSIFICATION_CLASSIFIER_REGISTRY.__doc__ = (\n",
    "    \"Registry of Classifiers for Image Classification\"\n",
    ")\n",
    "CLASSIFICATION_CLASSIFIER_REGISTRY.register(FastaiClassifier)\n",
    "CLASSIFICATION_CLASSIFIER_REGISTRY.register(GeneralClassifier)"
   ]
  },
  {
   "cell_type": "code",
   "execution_count": null,
   "id": "metric-wednesday",
   "metadata": {},
   "outputs": [
    {
     "data": {
      "text/markdown": [
       "<h4 id=\"Classification Classifiers\" class=\"doc_header\"><code>Classification Classifiers</code><a href=\"\" class=\"source_link\" style=\"float:right\">[source]</a></h4>\n",
       "\n",
       "Registry of Classifiers for Image Classification"
      ],
      "text/plain": [
       "<IPython.core.display.Markdown object>"
      ]
     },
     "metadata": {},
     "output_type": "display_data"
    },
    {
     "data": {
      "application/javascript": [
       "\n",
       "            setTimeout(function() {\n",
       "                var nbb_cell_id = 22;\n",
       "                var nbb_unformatted_code = \"show_doc(CLASSIFICATION_CLASSIFIER_REGISTRY)\";\n",
       "                var nbb_formatted_code = \"show_doc(CLASSIFICATION_CLASSIFIER_REGISTRY)\";\n",
       "                var nbb_cells = Jupyter.notebook.get_cells();\n",
       "                for (var i = 0; i < nbb_cells.length; ++i) {\n",
       "                    if (nbb_cells[i].input_prompt_number == nbb_cell_id) {\n",
       "                        if (nbb_cells[i].get_text() == nbb_unformatted_code) {\n",
       "                             nbb_cells[i].set_text(nbb_formatted_code);\n",
       "                        }\n",
       "                        break;\n",
       "                    }\n",
       "                }\n",
       "            }, 500);\n",
       "            "
      ],
      "text/plain": [
       "<IPython.core.display.Javascript object>"
      ]
     },
     "metadata": {},
     "output_type": "display_data"
    }
   ],
   "source": [
    "show_doc(CLASSIFICATION_CLASSIFIER_REGISTRY)"
   ]
  },
  {
   "cell_type": "code",
   "execution_count": null,
   "id": "sitting-agent",
   "metadata": {},
   "outputs": [
    {
     "data": {
      "text/plain": [
       "Registry of Classification Classifiers:\n",
       "╒═══════════════════╤══════════════════════════════════════╕\n",
       "│ Names             │ Objects                              │\n",
       "╞═══════════════════╪══════════════════════════════════════╡\n",
       "│ FastaiClassifier  │ <class '__main__.FastaiClassifier'>  │\n",
       "├───────────────────┼──────────────────────────────────────┤\n",
       "│ GeneralClassifier │ <class '__main__.GeneralClassifier'> │\n",
       "╘═══════════════════╧══════════════════════════════════════╛"
      ]
     },
     "execution_count": null,
     "metadata": {},
     "output_type": "execute_result"
    },
    {
     "data": {
      "application/javascript": [
       "\n",
       "            setTimeout(function() {\n",
       "                var nbb_cell_id = 23;\n",
       "                var nbb_unformatted_code = \"# collapse-output\\nCLASSIFICATION_CLASSIFIER_REGISTRY\";\n",
       "                var nbb_formatted_code = \"# collapse-output\\nCLASSIFICATION_CLASSIFIER_REGISTRY\";\n",
       "                var nbb_cells = Jupyter.notebook.get_cells();\n",
       "                for (var i = 0; i < nbb_cells.length; ++i) {\n",
       "                    if (nbb_cells[i].input_prompt_number == nbb_cell_id) {\n",
       "                        if (nbb_cells[i].get_text() == nbb_unformatted_code) {\n",
       "                             nbb_cells[i].set_text(nbb_formatted_code);\n",
       "                        }\n",
       "                        break;\n",
       "                    }\n",
       "                }\n",
       "            }, 500);\n",
       "            "
      ],
      "text/plain": [
       "<IPython.core.display.Javascript object>"
      ]
     },
     "metadata": {},
     "output_type": "display_data"
    }
   ],
   "source": [
    "# collapse-output\n",
    "CLASSIFICATION_CLASSIFIER_REGISTRY"
   ]
  },
  {
   "cell_type": "code",
   "execution_count": null,
   "id": "meaningful-screw",
   "metadata": {},
   "outputs": [
    {
     "data": {
      "application/javascript": [
       "\n",
       "            setTimeout(function() {\n",
       "                var nbb_cell_id = 24;\n",
       "                var nbb_unformatted_code = \"# export\\ndef create_classifier_head(cfg: DictConfig):\\n    \\\"instante an obj from `CNN_CLASSIFIER_REGISTRY` registery using lightning_cv.config\\\"\\n    classifier_cls = CLASSIFICATION_CLASSIFIER_REGISTRY.get(cfg.MODEL.CLASSIFIER.NAME)\\n    classifier = classifier_cls.from_config(cfg.MODEL.CLASSIFIER.ARGUMENTS)\\n    return classifier\";\n",
       "                var nbb_formatted_code = \"# export\\ndef create_classifier_head(cfg: DictConfig):\\n    \\\"instante an obj from `CNN_CLASSIFIER_REGISTRY` registery using lightning_cv.config\\\"\\n    classifier_cls = CLASSIFICATION_CLASSIFIER_REGISTRY.get(cfg.MODEL.CLASSIFIER.NAME)\\n    classifier = classifier_cls.from_config(cfg.MODEL.CLASSIFIER.ARGUMENTS)\\n    return classifier\";\n",
       "                var nbb_cells = Jupyter.notebook.get_cells();\n",
       "                for (var i = 0; i < nbb_cells.length; ++i) {\n",
       "                    if (nbb_cells[i].input_prompt_number == nbb_cell_id) {\n",
       "                        if (nbb_cells[i].get_text() == nbb_unformatted_code) {\n",
       "                             nbb_cells[i].set_text(nbb_formatted_code);\n",
       "                        }\n",
       "                        break;\n",
       "                    }\n",
       "                }\n",
       "            }, 500);\n",
       "            "
      ],
      "text/plain": [
       "<IPython.core.display.Javascript object>"
      ]
     },
     "metadata": {},
     "output_type": "display_data"
    }
   ],
   "source": [
    "# export\n",
    "def create_classifier_head(cfg: DictConfig):\n",
    "    \"instante an obj from `CNN_CLASSIFIER_REGISTRY` registery using lightning_cv.config\"\n",
    "    classifier_cls = CLASSIFICATION_CLASSIFIER_REGISTRY.get(cfg.MODEL.CLASSIFIER.NAME)\n",
    "    classifier = classifier_cls.from_config(cfg.MODEL.CLASSIFIER.ARGUMENTS)\n",
    "    return classifier"
   ]
  },
  {
   "cell_type": "markdown",
   "id": "local-myanmar",
   "metadata": {},
   "source": [
    "Create a `classification_head` from `lightning_cv.config` -"
   ]
  },
  {
   "cell_type": "code",
   "execution_count": null,
   "id": "blond-moldova",
   "metadata": {},
   "outputs": [
    {
     "name": "stdout",
     "output_type": "stream",
     "text": [
      "BACKBONE:\n",
      "  NAME: TimmBackBoneBase\n",
      "  ARGUMENTS:\n",
      "    model_name: efficientnet_b0\n",
      "    cut: null\n",
      "    act_layer: null\n",
      "    pretrained: true\n",
      "    drop_path_rate: 0.3\n",
      "CLASSIFIER:\n",
      "  NAME: GeneralClassifier\n",
      "  ARGUMENTS:\n",
      "    num_features: ???\n",
      "    num_classes: ???\n",
      "    drop_rate: 0.25\n",
      "    pool_type: avg\n",
      "    use_conv: false\n",
      "\n"
     ]
    },
    {
     "data": {
      "application/javascript": [
       "\n",
       "            setTimeout(function() {\n",
       "                var nbb_cell_id = 29;\n",
       "                var nbb_unformatted_code = \"from lightning_cv.config import get_cfg\\nfrom omegaconf import OmegaConf\\n\\ncfg = get_cfg()\\ncfg.MODEL.CLASSIFIER.NAME = \\\"GeneralClassifier\\\"\\nprint(OmegaConf.to_yaml(cfg.MODEL))\";\n",
       "                var nbb_formatted_code = \"from lightning_cv.config import get_cfg\\nfrom omegaconf import OmegaConf\\n\\ncfg = get_cfg()\\ncfg.MODEL.CLASSIFIER.NAME = \\\"GeneralClassifier\\\"\\nprint(OmegaConf.to_yaml(cfg.MODEL))\";\n",
       "                var nbb_cells = Jupyter.notebook.get_cells();\n",
       "                for (var i = 0; i < nbb_cells.length; ++i) {\n",
       "                    if (nbb_cells[i].input_prompt_number == nbb_cell_id) {\n",
       "                        if (nbb_cells[i].get_text() == nbb_unformatted_code) {\n",
       "                             nbb_cells[i].set_text(nbb_formatted_code);\n",
       "                        }\n",
       "                        break;\n",
       "                    }\n",
       "                }\n",
       "            }, 500);\n",
       "            "
      ],
      "text/plain": [
       "<IPython.core.display.Javascript object>"
      ]
     },
     "metadata": {},
     "output_type": "display_data"
    }
   ],
   "source": [
    "from lightning_cv.config import get_cfg\n",
    "from omegaconf import OmegaConf\n",
    "\n",
    "cfg = get_cfg()\n",
    "cfg.MODEL.CLASSIFIER.NAME = \"GeneralClassifier\"\n",
    "print(OmegaConf.to_yaml(cfg.MODEL))"
   ]
  },
  {
   "cell_type": "markdown",
   "id": "aboriginal-transfer",
   "metadata": {},
   "source": [
    "Building your model from config -"
   ]
  },
  {
   "cell_type": "code",
   "execution_count": null,
   "id": "hairy-stockholm",
   "metadata": {},
   "outputs": [
    {
     "name": "stdout",
     "output_type": "stream",
     "text": [
      "GeneralClassifier(\n",
      "  (global_pool): SelectAdaptivePool2d (pool_type=avg, flatten=True)\n",
      "  (fc): Linear(in_features=1280, out_features=10, bias=True)\n",
      ")\n"
     ]
    },
    {
     "data": {
      "application/javascript": [
       "\n",
       "            setTimeout(function() {\n",
       "                var nbb_cell_id = 30;\n",
       "                var nbb_unformatted_code = \"from lightning_cv.classification.modelling.backbones import create_cnn_backbone\\n\\nbackbone = create_cnn_backbone(cfg)\\nfeatures = num_features_model(backbone)\\n\\ncfg.MODEL.CLASSIFIER.NAME = \\\"GeneralClassifier\\\"\\ncfg.MODEL.CLASSIFIER.ARGUMENTS.num_features = features\\ncfg.MODEL.CLASSIFIER.ARGUMENTS.num_classes = 10\\n\\nclassifier = create_classifier_head(cfg)\\nprint(classifier)\";\n",
       "                var nbb_formatted_code = \"from lightning_cv.classification.modelling.backbones import create_cnn_backbone\\n\\nbackbone = create_cnn_backbone(cfg)\\nfeatures = num_features_model(backbone)\\n\\ncfg.MODEL.CLASSIFIER.NAME = \\\"GeneralClassifier\\\"\\ncfg.MODEL.CLASSIFIER.ARGUMENTS.num_features = features\\ncfg.MODEL.CLASSIFIER.ARGUMENTS.num_classes = 10\\n\\nclassifier = create_classifier_head(cfg)\\nprint(classifier)\";\n",
       "                var nbb_cells = Jupyter.notebook.get_cells();\n",
       "                for (var i = 0; i < nbb_cells.length; ++i) {\n",
       "                    if (nbb_cells[i].input_prompt_number == nbb_cell_id) {\n",
       "                        if (nbb_cells[i].get_text() == nbb_unformatted_code) {\n",
       "                             nbb_cells[i].set_text(nbb_formatted_code);\n",
       "                        }\n",
       "                        break;\n",
       "                    }\n",
       "                }\n",
       "            }, 500);\n",
       "            "
      ],
      "text/plain": [
       "<IPython.core.display.Javascript object>"
      ]
     },
     "metadata": {},
     "output_type": "display_data"
    }
   ],
   "source": [
    "from lightning_cv.classification.modelling.backbones import create_cnn_backbone\n",
    "\n",
    "backbone = create_cnn_backbone(cfg)\n",
    "features = num_features_model(backbone)\n",
    "\n",
    "cfg.MODEL.CLASSIFIER.NAME = \"GeneralClassifier\"\n",
    "cfg.MODEL.CLASSIFIER.ARGUMENTS.num_features = features\n",
    "cfg.MODEL.CLASSIFIER.ARGUMENTS.num_classes = 10\n",
    "\n",
    "classifier = create_classifier_head(cfg)\n",
    "print(classifier)"
   ]
  },
  {
   "cell_type": "code",
   "execution_count": null,
   "id": "cheap-imperial",
   "metadata": {},
   "outputs": [
    {
     "data": {
      "application/javascript": [
       "\n",
       "            setTimeout(function() {\n",
       "                var nbb_cell_id = 31;\n",
       "                var nbb_unformatted_code = \"inputs = torch.randn(1, 3, 255, 255)\\ntst = nn.Sequential(backbone, classifier)\\noutput = tst(inputs)\\ntest_eq(output.shape, [1, 10])\";\n",
       "                var nbb_formatted_code = \"inputs = torch.randn(1, 3, 255, 255)\\ntst = nn.Sequential(backbone, classifier)\\noutput = tst(inputs)\\ntest_eq(output.shape, [1, 10])\";\n",
       "                var nbb_cells = Jupyter.notebook.get_cells();\n",
       "                for (var i = 0; i < nbb_cells.length; ++i) {\n",
       "                    if (nbb_cells[i].input_prompt_number == nbb_cell_id) {\n",
       "                        if (nbb_cells[i].get_text() == nbb_unformatted_code) {\n",
       "                             nbb_cells[i].set_text(nbb_formatted_code);\n",
       "                        }\n",
       "                        break;\n",
       "                    }\n",
       "                }\n",
       "            }, 500);\n",
       "            "
      ],
      "text/plain": [
       "<IPython.core.display.Javascript object>"
      ]
     },
     "metadata": {},
     "output_type": "display_data"
    }
   ],
   "source": [
    "inputs = torch.randn(1, 3, 255, 255)\n",
    "tst = nn.Sequential(backbone, classifier)\n",
    "output = tst(inputs)\n",
    "test_eq(output.shape, [1, 10])"
   ]
  },
  {
   "cell_type": "markdown",
   "id": "permanent-density",
   "metadata": {},
   "source": [
    "You can also create your custom classifier head like so -"
   ]
  },
  {
   "cell_type": "code",
   "execution_count": null,
   "id": "genuine-problem",
   "metadata": {},
   "outputs": [
    {
     "data": {
      "application/javascript": [
       "\n",
       "            setTimeout(function() {\n",
       "                var nbb_cell_id = 32;\n",
       "                var nbb_unformatted_code = \"@CLASSIFICATION_CLASSIFIER_REGISTRY.register()\\nclass MyCustomClassifier(nn.Sequential):\\n    def __init__(self, num_features: int, num_classes: int):\\n        fc1 = nn.Linear(num_features, num_classes, bias=False)\\n        super(MyCustomClassifier, self).__init__(fc1)\\n\\n    @classmethod\\n    def from_config(cls, cfg: DictConfig):\\n        return cls(**cfg)\";\n",
       "                var nbb_formatted_code = \"@CLASSIFICATION_CLASSIFIER_REGISTRY.register()\\nclass MyCustomClassifier(nn.Sequential):\\n    def __init__(self, num_features: int, num_classes: int):\\n        fc1 = nn.Linear(num_features, num_classes, bias=False)\\n        super(MyCustomClassifier, self).__init__(fc1)\\n\\n    @classmethod\\n    def from_config(cls, cfg: DictConfig):\\n        return cls(**cfg)\";\n",
       "                var nbb_cells = Jupyter.notebook.get_cells();\n",
       "                for (var i = 0; i < nbb_cells.length; ++i) {\n",
       "                    if (nbb_cells[i].input_prompt_number == nbb_cell_id) {\n",
       "                        if (nbb_cells[i].get_text() == nbb_unformatted_code) {\n",
       "                             nbb_cells[i].set_text(nbb_formatted_code);\n",
       "                        }\n",
       "                        break;\n",
       "                    }\n",
       "                }\n",
       "            }, 500);\n",
       "            "
      ],
      "text/plain": [
       "<IPython.core.display.Javascript object>"
      ]
     },
     "metadata": {},
     "output_type": "display_data"
    }
   ],
   "source": [
    "@CLASSIFICATION_CLASSIFIER_REGISTRY.register()\n",
    "class MyCustomClassifier(nn.Sequential):\n",
    "    def __init__(self, num_features: int, num_classes: int):\n",
    "        fc1 = nn.Linear(num_features, num_classes, bias=False)\n",
    "        super(MyCustomClassifier, self).__init__(fc1)\n",
    "\n",
    "    @classmethod\n",
    "    def from_config(cls, cfg: DictConfig):\n",
    "        return cls(**cfg)"
   ]
  },
  {
   "cell_type": "markdown",
   "id": "stuffed-state",
   "metadata": {},
   "source": [
    "> Important: You custom classifier must have a `.from_config` classmethod with takes in a Omegaconf config and instantiates the class."
   ]
  },
  {
   "cell_type": "code",
   "execution_count": null,
   "id": "massive-tamil",
   "metadata": {},
   "outputs": [
    {
     "data": {
      "text/plain": [
       "MyCustomClassifier(\n",
       "  (0): Linear(in_features=5, out_features=10, bias=False)\n",
       ")"
      ]
     },
     "execution_count": null,
     "metadata": {},
     "output_type": "execute_result"
    },
    {
     "data": {
      "application/javascript": [
       "\n",
       "            setTimeout(function() {\n",
       "                var nbb_cell_id = 33;\n",
       "                var nbb_unformatted_code = \"cfg.MODEL.CLASSIFIER.NAME = \\\"MyCustomClassifier\\\"\\ncfg.MODEL.CLASSIFIER.ARGUMENTS = dict(num_features=5, num_classes=10)\\ncreate_classifier_head(cfg)\";\n",
       "                var nbb_formatted_code = \"cfg.MODEL.CLASSIFIER.NAME = \\\"MyCustomClassifier\\\"\\ncfg.MODEL.CLASSIFIER.ARGUMENTS = dict(num_features=5, num_classes=10)\\ncreate_classifier_head(cfg)\";\n",
       "                var nbb_cells = Jupyter.notebook.get_cells();\n",
       "                for (var i = 0; i < nbb_cells.length; ++i) {\n",
       "                    if (nbb_cells[i].input_prompt_number == nbb_cell_id) {\n",
       "                        if (nbb_cells[i].get_text() == nbb_unformatted_code) {\n",
       "                             nbb_cells[i].set_text(nbb_formatted_code);\n",
       "                        }\n",
       "                        break;\n",
       "                    }\n",
       "                }\n",
       "            }, 500);\n",
       "            "
      ],
      "text/plain": [
       "<IPython.core.display.Javascript object>"
      ]
     },
     "metadata": {},
     "output_type": "display_data"
    }
   ],
   "source": [
    "cfg.MODEL.CLASSIFIER.NAME = \"MyCustomClassifier\"\n",
    "cfg.MODEL.CLASSIFIER.ARGUMENTS = dict(num_features=5, num_classes=10)\n",
    "create_classifier_head(cfg)"
   ]
  },
  {
   "cell_type": "code",
   "execution_count": null,
   "id": "involved-topic",
   "metadata": {},
   "outputs": [
    {
     "name": "stdout",
     "output_type": "stream",
     "text": [
      "Converted 00_config.ipynb.\n",
      "Converted 00a_core.utils.common.ipynb.\n",
      "Converted 00b_core.utils.data.ipynb.\n",
      "Converted 00c_core.optim.ipynb.\n",
      "Converted 00d_core.schedules.ipynb.\n",
      "Converted 00e_core.layers.ipynb.\n",
      "Converted 01a_classification.data.transforms.ipynb.\n",
      "Converted 01b_classification.data.datasets.ipynb.\n",
      "Converted 01c_classification.modelling.backbones.ipynb.\n",
      "Converted 01d_classification.modelling.classifiers.ipynb.\n",
      "Converted index.ipynb.\n"
     ]
    },
    {
     "data": {
      "application/javascript": [
       "\n",
       "            setTimeout(function() {\n",
       "                var nbb_cell_id = 34;\n",
       "                var nbb_unformatted_code = \"# hide\\nnotebook2script()\";\n",
       "                var nbb_formatted_code = \"# hide\\nnotebook2script()\";\n",
       "                var nbb_cells = Jupyter.notebook.get_cells();\n",
       "                for (var i = 0; i < nbb_cells.length; ++i) {\n",
       "                    if (nbb_cells[i].input_prompt_number == nbb_cell_id) {\n",
       "                        if (nbb_cells[i].get_text() == nbb_unformatted_code) {\n",
       "                             nbb_cells[i].set_text(nbb_formatted_code);\n",
       "                        }\n",
       "                        break;\n",
       "                    }\n",
       "                }\n",
       "            }, 500);\n",
       "            "
      ],
      "text/plain": [
       "<IPython.core.display.Javascript object>"
      ]
     },
     "metadata": {},
     "output_type": "display_data"
    }
   ],
   "source": [
    "# hide\n",
    "notebook2script()"
   ]
  },
  {
   "cell_type": "code",
   "execution_count": null,
   "id": "statutory-nirvana",
   "metadata": {},
   "outputs": [],
   "source": []
  }
 ],
 "metadata": {
  "kernelspec": {
   "display_name": "lightning_cv",
   "language": "python",
   "name": "lightning_cv"
  }
 },
 "nbformat": 4,
 "nbformat_minor": 5
}

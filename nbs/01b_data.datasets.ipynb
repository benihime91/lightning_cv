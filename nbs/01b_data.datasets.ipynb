{
 "cells": [
  {
   "cell_type": "code",
   "execution_count": null,
   "id": "discrete-ebony",
   "metadata": {},
   "outputs": [],
   "source": [
    "# default_exp data.datasets"
   ]
  },
  {
   "cell_type": "code",
   "execution_count": null,
   "id": "scheduled-syntax",
   "metadata": {},
   "outputs": [],
   "source": []
  }
 ],
 "metadata": {
  "kernelspec": {
   "display_name": "lightning_cv",
   "language": "python",
   "name": "lightning_cv"
  }
 },
 "nbformat": 4,
 "nbformat_minor": 5
}

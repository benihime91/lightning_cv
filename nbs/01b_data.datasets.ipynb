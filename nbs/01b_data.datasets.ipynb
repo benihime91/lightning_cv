{
 "cells": [
  {
   "cell_type": "code",
   "execution_count": null,
   "id": "recorded-disorder",
   "metadata": {},
   "outputs": [],
   "source": [
    "#default_exp data.datasets"
   ]
  },
  {
   "cell_type": "code",
   "execution_count": null,
   "id": "experienced-brazil",
   "metadata": {},
   "outputs": [
    {
     "data": {
      "text/plain": [
       "'/Users/ayushman/Desktop/lightning_cv/nbs/data'"
      ]
     },
     "execution_count": null,
     "metadata": {},
     "output_type": "execute_result"
    }
   ],
   "source": [
    "# hide\n",
    "from nbdev.showdoc import *\n",
    "from nbdev.export import *\n",
    "from nbdev.imports import Config as NbdevConfig\n",
    "from lightning_cv.utils.data import download_data, folder2df\n",
    "\n",
    "nbdev_path = str(NbdevConfig().path(\"nbs_path\")/'data')\n",
    "nbdev_path"
   ]
  },
  {
   "cell_type": "code",
   "execution_count": null,
   "id": "personalized-current",
   "metadata": {},
   "outputs": [],
   "source": [
    "# export\n",
    "import torch\n",
    "from lightning_cv.utils.common import get_default_logger\n",
    "from lightning_cv.utils.data import pil_loader, cv2_loader"
   ]
  }
 ],
 "metadata": {
  "kernelspec": {
   "display_name": "lightning_cv",
   "language": "python",
   "name": "lightning_cv"
  }
 },
 "nbformat": 4,
 "nbformat_minor": 5
}

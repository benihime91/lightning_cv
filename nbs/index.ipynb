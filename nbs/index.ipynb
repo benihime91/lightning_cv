{
 "cells": [
  {
   "cell_type": "markdown",
   "metadata": {},
   "source": [
    "# Welcome to LightningCV\n",
    "\n",
    "> LightningCV is a thin wrapper over [PyTorch Lightning](https://github.com/PyTorchLightning/pytorch-lightning) for tackling computer vision tasks with SOTA techniques."
   ]
  },
  {
   "cell_type": "markdown",
   "metadata": {},
   "source": [
    "This library is a collection of models, optimizers, schedulers, data-loaders / augmentations that aim to pull together a wide variety of SOTA models. In this library we aim to gather SOTA work already done and put then together is one place."
   ]
  },
  {
   "cell_type": "markdown",
   "metadata": {},
   "source": [
    "We use ideas from `fastai`, `timm` and integrate them in the `pytorch-lightning` ecosystem."
   ]
  },
  {
   "cell_type": "markdown",
   "metadata": {},
   "source": [
    "`LightningCV` is just plain `pytorch` wrapped with `pytorch-lightning`. Any thing that can be done in `pytorch`/ `pytorch-lightning` can be achieved in `LightningCV`."
   ]
  },
  {
   "cell_type": "markdown",
   "metadata": {},
   "source": [
    "## What is this project?"
   ]
  },
  {
   "cell_type": "markdown",
   "metadata": {},
   "source": [
    "This project was started by me (Ayushman Buragohain) as way to collect interesting techniques that were documented in `Kaggle`, deeplearning forums, ideas released during `Kaggle Competions` and the fantastic work of others (mostly from fastai and timm) into one centralized place.\n",
    "\n",
    "All credits go the original authors and I have tried to reference the code wherever possible. "
   ]
  },
  {
   "cell_type": "code",
   "execution_count": null,
   "metadata": {},
   "outputs": [],
   "source": []
  }
 ],
 "metadata": {
  "kernelspec": {
   "display_name": "Python 3",
   "language": "python",
   "name": "python3"
  }
 },
 "nbformat": 4,
 "nbformat_minor": 2
}
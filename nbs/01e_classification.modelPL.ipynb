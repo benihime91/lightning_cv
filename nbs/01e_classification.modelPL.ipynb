{
 "cells": [
  {
   "cell_type": "code",
   "execution_count": null,
   "id": "random-tissue",
   "metadata": {},
   "outputs": [],
   "source": [
    "# default_exp classification.modelPL"
   ]
  },
  {
   "cell_type": "code",
   "execution_count": null,
   "id": "eligible-plant",
   "metadata": {},
   "outputs": [
    {
     "data": {
      "application/javascript": [
       "\n",
       "            setTimeout(function() {\n",
       "                var nbb_cell_id = 2;\n",
       "                var nbb_unformatted_code = \"# hide\\nimport warnings\\n\\nwarnings.filterwarnings(\\\"ignore\\\")\\n\\n%load_ext nb_black\";\n",
       "                var nbb_formatted_code = \"# hide\\nimport warnings\\n\\nwarnings.filterwarnings(\\\"ignore\\\")\\n\\n%load_ext nb_black\";\n",
       "                var nbb_cells = Jupyter.notebook.get_cells();\n",
       "                for (var i = 0; i < nbb_cells.length; ++i) {\n",
       "                    if (nbb_cells[i].input_prompt_number == nbb_cell_id) {\n",
       "                        if (nbb_cells[i].get_text() == nbb_unformatted_code) {\n",
       "                             nbb_cells[i].set_text(nbb_formatted_code);\n",
       "                        }\n",
       "                        break;\n",
       "                    }\n",
       "                }\n",
       "            }, 500);\n",
       "            "
      ],
      "text/plain": [
       "<IPython.core.display.Javascript object>"
      ]
     },
     "metadata": {},
     "output_type": "display_data"
    }
   ],
   "source": [
    "# hide\n",
    "import warnings\n",
    "\n",
    "warnings.filterwarnings(\"ignore\")\n",
    "\n",
    "%load_ext nb_black"
   ]
  },
  {
   "cell_type": "code",
   "execution_count": null,
   "id": "earlier-vertical",
   "metadata": {},
   "outputs": [
    {
     "data": {
      "text/plain": [
       "'/Users/ayushman/Desktop/lightning_cv/nbs/data'"
      ]
     },
     "execution_count": null,
     "metadata": {},
     "output_type": "execute_result"
    },
    {
     "data": {
      "application/javascript": [
       "\n",
       "            setTimeout(function() {\n",
       "                var nbb_cell_id = 3;\n",
       "                var nbb_unformatted_code = \"# hide\\nfrom nbdev.showdoc import *\\nfrom nbdev.export import *\\nfrom nbdev.imports import Config as NbdevConfig\\n\\nnbdev_path = str(NbdevConfig().path(\\\"nbs_path\\\") / \\\"data\\\")\\nnbdev_path\";\n",
       "                var nbb_formatted_code = \"# hide\\nfrom nbdev.showdoc import *\\nfrom nbdev.export import *\\nfrom nbdev.imports import Config as NbdevConfig\\n\\nnbdev_path = str(NbdevConfig().path(\\\"nbs_path\\\") / \\\"data\\\")\\nnbdev_path\";\n",
       "                var nbb_cells = Jupyter.notebook.get_cells();\n",
       "                for (var i = 0; i < nbb_cells.length; ++i) {\n",
       "                    if (nbb_cells[i].input_prompt_number == nbb_cell_id) {\n",
       "                        if (nbb_cells[i].get_text() == nbb_unformatted_code) {\n",
       "                             nbb_cells[i].set_text(nbb_formatted_code);\n",
       "                        }\n",
       "                        break;\n",
       "                    }\n",
       "                }\n",
       "            }, 500);\n",
       "            "
      ],
      "text/plain": [
       "<IPython.core.display.Javascript object>"
      ]
     },
     "metadata": {},
     "output_type": "display_data"
    }
   ],
   "source": [
    "# hide\n",
    "from nbdev.showdoc import *\n",
    "from nbdev.export import *\n",
    "from nbdev.imports import Config as NbdevConfig\n",
    "\n",
    "nbdev_path = str(NbdevConfig().path(\"nbs_path\") / \"data\")\n",
    "nbdev_path"
   ]
  },
  {
   "cell_type": "markdown",
   "id": "frozen-mayor",
   "metadata": {},
   "source": [
    "# LightningModule for Image Classification\n",
    "> All the functions necessary to build `ClassificationModule` suitable for image classification in computer vision"
   ]
  },
  {
   "cell_type": "code",
   "execution_count": null,
   "id": "guilty-sequence",
   "metadata": {},
   "outputs": [],
   "source": [
    "# export\n",
    "from typing import Callable, Dict, List, Optional, Union\n",
    "\n",
    "import torch\n",
    "from torch import optim\n",
    "\n",
    "import hydra\n",
    "from omegaconf import DictConfig\n",
    "\n",
    "import matplotlib.pyplot as plt\n",
    "\n",
    "from pytorch_lightning import LightningModule, Trainer\n",
    "from pytorch_lightning.utilities import rank_zero_only\n",
    "\n",
    "from lightning_cv.core.utils.common import default_logger, imshow_tensor\n",
    "from lightning_cv.core.optim import create_optimizer\n",
    "from lightning_cv.core.schedules import create_scheduler\n",
    "from lightning_cv.classification.data.transforms import create_transform\n",
    "from lightning_cv.classification.data.datasets import create_dataset\n",
    "from lightning_cv.classification.modelling.backbones import create_cnn_backbone\n",
    "from lightning_cv.classification.modelling.classifiers import create_classifier_head "
   ]
  }
 ],
 "metadata": {
  "kernelspec": {
   "display_name": "lightning_cv",
   "language": "python",
   "name": "lightning_cv"
  }
 },
 "nbformat": 4,
 "nbformat_minor": 5
}

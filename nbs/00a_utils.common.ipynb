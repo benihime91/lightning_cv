{
 "cells": [
  {
   "cell_type": "code",
   "execution_count": null,
   "metadata": {},
   "outputs": [],
   "source": [
    "# default_exp utils.common"
   ]
  },
  {
   "cell_type": "markdown",
   "metadata": {},
   "source": [
    "# Common utility functions\n",
    "\n",
    "> Set of utility functions used in the library"
   ]
  },
  {
   "cell_type": "code",
   "execution_count": null,
   "metadata": {},
   "outputs": [],
   "source": [
    "#hide\n",
    "from nbdev.showdoc import *\n",
    "from nbdev.export import *"
   ]
  },
  {
   "cell_type": "code",
   "execution_count": null,
   "metadata": {},
   "outputs": [],
   "source": [
    "# export\n",
    "import sys\n",
    "import uuid\n",
    "import matplotlib.pyplot as plt\n",
    "from fvcore.common.registry import Registry\n",
    "from fastcore.all import ifnone, delegates\n",
    "from torchvision.utils import make_grid"
   ]
  },
  {
   "cell_type": "markdown",
   "metadata": {},
   "source": [
    "## Logging -"
   ]
  },
  {
   "cell_type": "code",
   "execution_count": null,
   "metadata": {},
   "outputs": [],
   "source": [
    "# export\n",
    "def default_logger():\n",
    "    \"default logger for the Library\"\n",
    "    from loguru import logger\n",
    "    \n",
    "    __root_name = \"lightning_cv\"\n",
    "    __abbrev_name = \"Lcv\"\n",
    "\n",
    "    fmt = \"<level>{level}</level>:<green>{name:}</green>:{message}\"\n",
    "    logger.remove()\n",
    "    logger.add(sys.stdout, format=fmt, colorize=True)\n",
    "    logger = logger.patch(lambda record: record.update(name=record[\"name\"].replace(__root_name, __abbrev_name)))\n",
    "    return logger"
   ]
  },
  {
   "cell_type": "code",
   "execution_count": null,
   "metadata": {},
   "outputs": [
    {
     "name": "stdout",
     "output_type": "stream",
     "text": [
      "\u001b[1mINFO\u001b[0m:\u001b[32m__main__\u001b[0m:This is an INFO message !\n",
      "\u001b[34m\u001b[1mDEBUG\u001b[0m:\u001b[32m__main__\u001b[0m:This is an DEBUG message !\n",
      "\u001b[33m\u001b[1mWARNING\u001b[0m:\u001b[32m__main__\u001b[0m:This is an WARNING message !\n"
     ]
    }
   ],
   "source": [
    "# hide\n",
    "logger = default_logger()\n",
    "\n",
    "logger.info(\"This is an INFO message !\")\n",
    "logger.debug(\"This is an DEBUG message !\")\n",
    "logger.warning(\"This is an WARNING message !\")"
   ]
  },
  {
   "cell_type": "markdown",
   "metadata": {},
   "source": [
    "## Display Tensors -\n",
    "\n",
    "Plotting utilies to display a grid of Images -"
   ]
  },
  {
   "cell_type": "code",
   "execution_count": null,
   "metadata": {},
   "outputs": [],
   "source": [
    "# export\n",
    "@delegates(make_grid)\n",
    "def imshow_tensor(inp, title=None, **kwargs):\n",
    "    \"\"\"Imshow for Tensor and optionally add a `title`\"\"\"\n",
    "    grid = make_grid(inp, **kwargs)\n",
    "    grid = grid.permute(1, 2, 0).data.numpy()\n",
    "    plt.imshow(grid)\n",
    "\n",
    "    if title is not None:\n",
    "        plt.title(title)\n",
    "\n",
    "    plt.pause(0.001)"
   ]
  },
  {
   "cell_type": "markdown",
   "metadata": {},
   "source": [
    "Generate a random-id , this can be used to track differenct experiments - "
   ]
  },
  {
   "cell_type": "code",
   "execution_count": null,
   "metadata": {},
   "outputs": [],
   "source": [
    "# export\n",
    "# hide\n",
    "def generate_random_id() -> str:\n",
    "    \"generates a random id\"\n",
    "    idx = uuid.uuid1()\n",
    "    idx = str(idx).split(\"-\")[0]\n",
    "    return idx"
   ]
  },
  {
   "cell_type": "code",
   "execution_count": null,
   "metadata": {},
   "outputs": [
    {
     "data": {
      "text/plain": [
       "'ad14c330'"
      ]
     },
     "execution_count": null,
     "metadata": {},
     "output_type": "execute_result"
    }
   ],
   "source": [
    "# hide\n",
    "generate_random_id()"
   ]
  },
  {
   "cell_type": "markdown",
   "metadata": {},
   "source": [
    "## Registery -\n",
    "Registery from `fvcore` to store objects/ modules and load them from the config -"
   ]
  },
  {
   "cell_type": "code",
   "execution_count": null,
   "metadata": {},
   "outputs": [
    {
     "data": {
      "text/markdown": [
       "<h2 id=\"Registry\" class=\"doc_header\"><code>class</code> <code>Registry</code><a href=\"fvcore/common/registry.py#L8\" class=\"source_link\" style=\"float:right\">[source]</a></h2>\n",
       "\n",
       "> <code>Registry</code>(**\\*`args`**, **\\*\\*`kwds`**) :: `Iterable`\n",
       "\n",
       "The registry that provides name -> object mapping, to support third-party\n",
       "users' custom modules.\n",
       "\n",
       "To create a registry (e.g. a backbone registry):\n",
       "\n",
       ".. code-block:: python\n",
       "\n",
       "    BACKBONE_REGISTRY = Registry('BACKBONE')\n",
       "\n",
       "To register an object:\n",
       "\n",
       ".. code-block:: python\n",
       "\n",
       "    @BACKBONE_REGISTRY.register()\n",
       "    class MyBackbone():\n",
       "        ...\n",
       "\n",
       "Or:\n",
       "\n",
       ".. code-block:: python\n",
       "\n",
       "    BACKBONE_REGISTRY.register(MyBackbone)"
      ],
      "text/plain": [
       "<IPython.core.display.Markdown object>"
      ]
     },
     "metadata": {},
     "output_type": "display_data"
    }
   ],
   "source": [
    "show_doc(Registry)"
   ]
  },
  {
   "cell_type": "markdown",
   "metadata": {},
   "source": [
    "## Export -"
   ]
  },
  {
   "cell_type": "code",
   "execution_count": null,
   "metadata": {},
   "outputs": [
    {
     "name": "stdout",
     "output_type": "stream",
     "text": [
      "Converted 00a_utils.common.ipynb.\n",
      "Converted 00b_utils.data.ipynb.\n",
      "Converted 01a_data.transforms.ipynb.\n",
      "Converted 01b_data.datasets.ipynb.\n",
      "Converted index.ipynb.\n"
     ]
    }
   ],
   "source": [
    "# hide \n",
    "notebook2script()"
   ]
  },
  {
   "cell_type": "code",
   "execution_count": null,
   "metadata": {},
   "outputs": [],
   "source": []
  }
 ],
 "metadata": {
  "kernelspec": {
   "display_name": "lightning_cv",
   "language": "python",
   "name": "lightning_cv"
  }
 },
 "nbformat": 4,
 "nbformat_minor": 2
}

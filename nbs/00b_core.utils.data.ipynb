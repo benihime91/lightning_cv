{
 "cells": [
  {
   "cell_type": "code",
   "execution_count": null,
   "id": "shared-lesbian",
   "metadata": {},
   "outputs": [],
   "source": [
    "# default_exp core.utils.data"
   ]
  },
  {
   "cell_type": "markdown",
   "id": "elder-progressive",
   "metadata": {},
   "source": [
    "# Data Utility\n",
    "> Functions for Data Downloading , Loading Images"
   ]
  },
  {
   "cell_type": "code",
   "execution_count": null,
   "id": "greenhouse-apache",
   "metadata": {},
   "outputs": [],
   "source": [
    "#hide\n",
    "from nbdev.showdoc import *\n",
    "from nbdev.export import *"
   ]
  },
  {
   "cell_type": "code",
   "execution_count": null,
   "id": "informative-girlfriend",
   "metadata": {},
   "outputs": [
    {
     "data": {
      "application/javascript": [
       "\n",
       "            setTimeout(function() {\n",
       "                var nbb_cell_id = 3;\n",
       "                var nbb_unformatted_code = \"%load_ext autoreload\\n%autoreload 2\\n%load_ext nb_black\";\n",
       "                var nbb_formatted_code = \"%load_ext autoreload\\n%autoreload 2\\n%load_ext nb_black\";\n",
       "                var nbb_cells = Jupyter.notebook.get_cells();\n",
       "                for (var i = 0; i < nbb_cells.length; ++i) {\n",
       "                    if (nbb_cells[i].input_prompt_number == nbb_cell_id) {\n",
       "                        if (nbb_cells[i].get_text() == nbb_unformatted_code) {\n",
       "                             nbb_cells[i].set_text(nbb_formatted_code);\n",
       "                        }\n",
       "                        break;\n",
       "                    }\n",
       "                }\n",
       "            }, 500);\n",
       "            "
      ],
      "text/plain": [
       "<IPython.core.display.Javascript object>"
      ]
     },
     "metadata": {},
     "output_type": "display_data"
    }
   ],
   "source": [
    "%load_ext autoreload\n",
    "%autoreload 2\n",
    "%load_ext nb_black"
   ]
  },
  {
   "cell_type": "code",
   "execution_count": null,
   "id": "ordered-monday",
   "metadata": {},
   "outputs": [
    {
     "data": {
      "application/javascript": [
       "\n",
       "            setTimeout(function() {\n",
       "                var nbb_cell_id = 4;\n",
       "                var nbb_unformatted_code = \"# export\\nfrom collections import UserDict\\nfrom typing import *\\n\\nimport os\\nimport cv2\\nfrom PIL import Image\\n\\nimport pandas as pd\\nfrom sklearn.model_selection import StratifiedKFold\\nfrom fastcore.all import ifnone, delegates, Path\\n\\nfrom torchvision.datasets.utils import download_and_extract_archive\\nfrom torchvision.datasets.folder import IMG_EXTENSIONS\\n\\nfrom lightning_cv.core.utils.common import Registry, default_logger, show_images\";\n",
       "                var nbb_formatted_code = \"# export\\nfrom collections import UserDict\\nfrom typing import *\\n\\nimport os\\nimport cv2\\nfrom PIL import Image\\n\\nimport pandas as pd\\nfrom sklearn.model_selection import StratifiedKFold\\nfrom fastcore.all import ifnone, delegates, Path\\n\\nfrom torchvision.datasets.utils import download_and_extract_archive\\nfrom torchvision.datasets.folder import IMG_EXTENSIONS\\n\\nfrom lightning_cv.core.utils.common import Registry, default_logger, show_images\";\n",
       "                var nbb_cells = Jupyter.notebook.get_cells();\n",
       "                for (var i = 0; i < nbb_cells.length; ++i) {\n",
       "                    if (nbb_cells[i].input_prompt_number == nbb_cell_id) {\n",
       "                        if (nbb_cells[i].get_text() == nbb_unformatted_code) {\n",
       "                             nbb_cells[i].set_text(nbb_formatted_code);\n",
       "                        }\n",
       "                        break;\n",
       "                    }\n",
       "                }\n",
       "            }, 500);\n",
       "            "
      ],
      "text/plain": [
       "<IPython.core.display.Javascript object>"
      ]
     },
     "metadata": {},
     "output_type": "display_data"
    }
   ],
   "source": [
    "# export\n",
    "from collections import UserDict\n",
    "from typing import *\n",
    "\n",
    "import os\n",
    "import cv2\n",
    "from PIL import Image\n",
    "\n",
    "import pandas as pd\n",
    "from sklearn.model_selection import StratifiedKFold\n",
    "from fastcore.all import ifnone, delegates, Path\n",
    "\n",
    "from torchvision.datasets.utils import download_and_extract_archive\n",
    "from torchvision.datasets.folder import IMG_EXTENSIONS\n",
    "\n",
    "from lightning_cv.core.utils.common import Registry, default_logger, show_images"
   ]
  },
  {
   "cell_type": "code",
   "execution_count": null,
   "id": "shaped-litigation",
   "metadata": {},
   "outputs": [
    {
     "data": {
      "application/javascript": [
       "\n",
       "            setTimeout(function() {\n",
       "                var nbb_cell_id = 5;\n",
       "                var nbb_unformatted_code = \"# hide\\n# export\\n# initalize logger\\nlogger = default_logger()\";\n",
       "                var nbb_formatted_code = \"# hide\\n# export\\n# initalize logger\\nlogger = default_logger()\";\n",
       "                var nbb_cells = Jupyter.notebook.get_cells();\n",
       "                for (var i = 0; i < nbb_cells.length; ++i) {\n",
       "                    if (nbb_cells[i].input_prompt_number == nbb_cell_id) {\n",
       "                        if (nbb_cells[i].get_text() == nbb_unformatted_code) {\n",
       "                             nbb_cells[i].set_text(nbb_formatted_code);\n",
       "                        }\n",
       "                        break;\n",
       "                    }\n",
       "                }\n",
       "            }, 500);\n",
       "            "
      ],
      "text/plain": [
       "<IPython.core.display.Javascript object>"
      ]
     },
     "metadata": {},
     "output_type": "display_data"
    }
   ],
   "source": [
    "# hide\n",
    "# export\n",
    "# initalize logger\n",
    "logger = default_logger()"
   ]
  },
  {
   "cell_type": "code",
   "execution_count": null,
   "id": "aggressive-alignment",
   "metadata": {},
   "outputs": [
    {
     "data": {
      "application/javascript": [
       "\n",
       "            setTimeout(function() {\n",
       "                var nbb_cell_id = 22;\n",
       "                var nbb_unformatted_code = \"# export\\ndef norm_ip(img, low, high):\\n    \\\"normalize `img` with low and high\\\"\\n    img.clamp_(min=low, max=high)\\n    img.sub_(low).div_(max(high - low, 1e-5))\\n\\n\\ndef norm_range(t, value_range):\\n    \\\"normalize tensor t for given value range\\\"\\n    if value_range is not None:\\n        norm_ip(t, value_range[0], value_range[1])\\n    else:\\n        norm_ip(t, float(t.min()), float(t.max()))\";\n",
       "                var nbb_formatted_code = \"# export\\ndef norm_ip(img, low, high):\\n    \\\"normalize `img` with low and high\\\"\\n    img.clamp_(min=low, max=high)\\n    img.sub_(low).div_(max(high - low, 1e-5))\\n\\n\\ndef norm_range(t, value_range):\\n    \\\"normalize tensor t for given value range\\\"\\n    if value_range is not None:\\n        norm_ip(t, value_range[0], value_range[1])\\n    else:\\n        norm_ip(t, float(t.min()), float(t.max()))\";\n",
       "                var nbb_cells = Jupyter.notebook.get_cells();\n",
       "                for (var i = 0; i < nbb_cells.length; ++i) {\n",
       "                    if (nbb_cells[i].input_prompt_number == nbb_cell_id) {\n",
       "                        if (nbb_cells[i].get_text() == nbb_unformatted_code) {\n",
       "                             nbb_cells[i].set_text(nbb_formatted_code);\n",
       "                        }\n",
       "                        break;\n",
       "                    }\n",
       "                }\n",
       "            }, 500);\n",
       "            "
      ],
      "text/plain": [
       "<IPython.core.display.Javascript object>"
      ]
     },
     "metadata": {},
     "output_type": "display_data"
    }
   ],
   "source": [
    "# export\n",
    "def norm_ip(img, low, high):\n",
    "    \"normalize `img` with low and high\"\n",
    "    img.clamp_(min=low, max=high)\n",
    "    img.sub_(low).div_(max(high - low, 1e-5))\n",
    "\n",
    "\n",
    "def norm_range(t, value_range):\n",
    "    \"normalize tensor t for given value range\"\n",
    "    if value_range is not None:\n",
    "        norm_ip(t, value_range[0], value_range[1])\n",
    "    else:\n",
    "        norm_ip(t, float(t.min()), float(t.max()))"
   ]
  },
  {
   "cell_type": "code",
   "execution_count": null,
   "id": "sticky-closer",
   "metadata": {},
   "outputs": [
    {
     "data": {
      "application/javascript": [
       "\n",
       "            setTimeout(function() {\n",
       "                var nbb_cell_id = 6;\n",
       "                var nbb_unformatted_code = \"# export\\n# copy from : https://github.com/fastai/fastai/blob/master/nbs/04_data.external.ipynb\\n# a thin wrapper over the original fastai.URLs\\nclass Urls:\\n    \\\"Global constants for dataset and model URLs.\\\"\\n    LOCAL_PATH = Path.cwd() / \\\"data\\\"\\n    DOGS = \\\"https://storage.googleapis.com/mledu-datasets/cats_and_dogs_filtered.zip\\\"\\n    BEES = \\\"https://download.pytorch.org/tutorial/hymenoptera_data.zip\\\"\";\n",
       "                var nbb_formatted_code = \"# export\\n# copy from : https://github.com/fastai/fastai/blob/master/nbs/04_data.external.ipynb\\n# a thin wrapper over the original fastai.URLs\\nclass Urls:\\n    \\\"Global constants for dataset and model URLs.\\\"\\n    LOCAL_PATH = Path.cwd() / \\\"data\\\"\\n    DOGS = \\\"https://storage.googleapis.com/mledu-datasets/cats_and_dogs_filtered.zip\\\"\\n    BEES = \\\"https://download.pytorch.org/tutorial/hymenoptera_data.zip\\\"\";\n",
       "                var nbb_cells = Jupyter.notebook.get_cells();\n",
       "                for (var i = 0; i < nbb_cells.length; ++i) {\n",
       "                    if (nbb_cells[i].input_prompt_number == nbb_cell_id) {\n",
       "                        if (nbb_cells[i].get_text() == nbb_unformatted_code) {\n",
       "                             nbb_cells[i].set_text(nbb_formatted_code);\n",
       "                        }\n",
       "                        break;\n",
       "                    }\n",
       "                }\n",
       "            }, 500);\n",
       "            "
      ],
      "text/plain": [
       "<IPython.core.display.Javascript object>"
      ]
     },
     "metadata": {},
     "output_type": "display_data"
    }
   ],
   "source": [
    "# export\n",
    "# copy from : https://github.com/fastai/fastai/blob/master/nbs/04_data.external.ipynb\n",
    "# a thin wrapper over the original fastai.URLs\n",
    "class Urls:\n",
    "    \"Global constants for dataset and model URLs.\"\n",
    "    LOCAL_PATH = Path.cwd() / \"data\"\n",
    "    DOGS = \"https://storage.googleapis.com/mledu-datasets/cats_and_dogs_filtered.zip\"\n",
    "    BEES = \"https://download.pytorch.org/tutorial/hymenoptera_data.zip\""
   ]
  },
  {
   "cell_type": "markdown",
   "id": "stable-badge",
   "metadata": {},
   "source": [
    "## Downloading"
   ]
  },
  {
   "cell_type": "markdown",
   "id": "nominated-netscape",
   "metadata": {},
   "source": [
    "download a data from links in `Urls`"
   ]
  },
  {
   "cell_type": "code",
   "execution_count": null,
   "id": "focused-editing",
   "metadata": {},
   "outputs": [
    {
     "data": {
      "application/javascript": [
       "\n",
       "            setTimeout(function() {\n",
       "                var nbb_cell_id = 7;\n",
       "                var nbb_unformatted_code = \"# export\\n@delegates(download_and_extract_archive)\\ndef download_data(url: str, data_path: str = None, **kwargs):\\n    \\\"downloads and extracts the data at `Urls.LOCAL_PATH` if datapath is None\\\"\\n    data_path = ifnone(data_path, Urls.LOCAL_PATH)\\n    os.makedirs(Urls.LOCAL_PATH, exist_ok=True)\\n    download_and_extract_archive(url, Urls.LOCAL_PATH, **kwargs)\\n    logger.info(f\\\"Data downloaded to {Path(data_path)}\\\")\";\n",
       "                var nbb_formatted_code = \"# export\\n@delegates(download_and_extract_archive)\\ndef download_data(url: str, data_path: str = None, **kwargs):\\n    \\\"downloads and extracts the data at `Urls.LOCAL_PATH` if datapath is None\\\"\\n    data_path = ifnone(data_path, Urls.LOCAL_PATH)\\n    os.makedirs(Urls.LOCAL_PATH, exist_ok=True)\\n    download_and_extract_archive(url, Urls.LOCAL_PATH, **kwargs)\\n    logger.info(f\\\"Data downloaded to {Path(data_path)}\\\")\";\n",
       "                var nbb_cells = Jupyter.notebook.get_cells();\n",
       "                for (var i = 0; i < nbb_cells.length; ++i) {\n",
       "                    if (nbb_cells[i].input_prompt_number == nbb_cell_id) {\n",
       "                        if (nbb_cells[i].get_text() == nbb_unformatted_code) {\n",
       "                             nbb_cells[i].set_text(nbb_formatted_code);\n",
       "                        }\n",
       "                        break;\n",
       "                    }\n",
       "                }\n",
       "            }, 500);\n",
       "            "
      ],
      "text/plain": [
       "<IPython.core.display.Javascript object>"
      ]
     },
     "metadata": {},
     "output_type": "display_data"
    }
   ],
   "source": [
    "# export\n",
    "@delegates(download_and_extract_archive)\n",
    "def download_data(url: str, data_path: str = None, **kwargs):\n",
    "    \"downloads and extracts the data at `Urls.LOCAL_PATH` if datapath is None\"\n",
    "    data_path = ifnone(data_path, Urls.LOCAL_PATH)\n",
    "    os.makedirs(Urls.LOCAL_PATH, exist_ok=True)\n",
    "    download_and_extract_archive(url, Urls.LOCAL_PATH, **kwargs)\n",
    "    logger.info(f\"Data downloaded to {Path(data_path)}\")"
   ]
  },
  {
   "cell_type": "code",
   "execution_count": null,
   "id": "atmospheric-biotechnology",
   "metadata": {},
   "outputs": [
    {
     "data": {
      "text/plain": [
       "'/Users/ayushman/Desktop/lightning_cv/nbs/data'"
      ]
     },
     "execution_count": null,
     "metadata": {},
     "output_type": "execute_result"
    },
    {
     "data": {
      "application/javascript": [
       "\n",
       "            setTimeout(function() {\n",
       "                var nbb_cell_id = 8;\n",
       "                var nbb_unformatted_code = \"# hide\\nfrom nbdev.imports import Config as NbdevConfig\\nimport matplotlib.pyplot as plt\\n\\nnbdev_path = str(NbdevConfig().path(\\\"nbs_path\\\") / \\\"data\\\")\\nnbdev_path\";\n",
       "                var nbb_formatted_code = \"# hide\\nfrom nbdev.imports import Config as NbdevConfig\\nimport matplotlib.pyplot as plt\\n\\nnbdev_path = str(NbdevConfig().path(\\\"nbs_path\\\") / \\\"data\\\")\\nnbdev_path\";\n",
       "                var nbb_cells = Jupyter.notebook.get_cells();\n",
       "                for (var i = 0; i < nbb_cells.length; ++i) {\n",
       "                    if (nbb_cells[i].input_prompt_number == nbb_cell_id) {\n",
       "                        if (nbb_cells[i].get_text() == nbb_unformatted_code) {\n",
       "                             nbb_cells[i].set_text(nbb_formatted_code);\n",
       "                        }\n",
       "                        break;\n",
       "                    }\n",
       "                }\n",
       "            }, 500);\n",
       "            "
      ],
      "text/plain": [
       "<IPython.core.display.Javascript object>"
      ]
     },
     "metadata": {},
     "output_type": "display_data"
    }
   ],
   "source": [
    "# hide\n",
    "from nbdev.imports import Config as NbdevConfig\n",
    "import matplotlib.pyplot as plt\n",
    "\n",
    "nbdev_path = str(NbdevConfig().path(\"nbs_path\") / \"data\")\n",
    "nbdev_path"
   ]
  },
  {
   "cell_type": "code",
   "execution_count": null,
   "id": "elder-farming",
   "metadata": {},
   "outputs": [
    {
     "name": "stdout",
     "output_type": "stream",
     "text": [
      "Using downloaded and verified file: /Users/ayushman/Desktop/lightning_cv/nbs/data/cats_and_dogs_filtered.zip\n",
      "Extracting /Users/ayushman/Desktop/lightning_cv/nbs/data/cats_and_dogs_filtered.zip to /Users/ayushman/Desktop/lightning_cv/nbs/data\n",
      "\u001b[1mINFO\u001b[0m \u001b[32m[03/13 20:25:44 __main__]\u001b[0m: Data downloaded to /Users/ayushman/Desktop/lightning_cv/nbs/data\n"
     ]
    },
    {
     "data": {
      "application/javascript": [
       "\n",
       "            setTimeout(function() {\n",
       "                var nbb_cell_id = 9;\n",
       "                var nbb_unformatted_code = \"# hide\\ndownload_data(Urls.DOGS, data_path=nbdev_path)\";\n",
       "                var nbb_formatted_code = \"# hide\\ndownload_data(Urls.DOGS, data_path=nbdev_path)\";\n",
       "                var nbb_cells = Jupyter.notebook.get_cells();\n",
       "                for (var i = 0; i < nbb_cells.length; ++i) {\n",
       "                    if (nbb_cells[i].input_prompt_number == nbb_cell_id) {\n",
       "                        if (nbb_cells[i].get_text() == nbb_unformatted_code) {\n",
       "                             nbb_cells[i].set_text(nbb_formatted_code);\n",
       "                        }\n",
       "                        break;\n",
       "                    }\n",
       "                }\n",
       "            }, 500);\n",
       "            "
      ],
      "text/plain": [
       "<IPython.core.display.Javascript object>"
      ]
     },
     "metadata": {},
     "output_type": "display_data"
    }
   ],
   "source": [
    "# hide\n",
    "download_data(Urls.DOGS, data_path=nbdev_path)"
   ]
  },
  {
   "cell_type": "code",
   "execution_count": null,
   "id": "latin-relaxation",
   "metadata": {},
   "outputs": [
    {
     "data": {
      "application/javascript": [
       "\n",
       "            setTimeout(function() {\n",
       "                var nbb_cell_id = 10;\n",
       "                var nbb_unformatted_code = \"# hide\\ndata = Path(nbdev_path) / \\\"cats_and_dogs_filtered/train\\\"\\nimage = data / \\\"dogs/dog.0.jpg\\\"\";\n",
       "                var nbb_formatted_code = \"# hide\\ndata = Path(nbdev_path) / \\\"cats_and_dogs_filtered/train\\\"\\nimage = data / \\\"dogs/dog.0.jpg\\\"\";\n",
       "                var nbb_cells = Jupyter.notebook.get_cells();\n",
       "                for (var i = 0; i < nbb_cells.length; ++i) {\n",
       "                    if (nbb_cells[i].input_prompt_number == nbb_cell_id) {\n",
       "                        if (nbb_cells[i].get_text() == nbb_unformatted_code) {\n",
       "                             nbb_cells[i].set_text(nbb_formatted_code);\n",
       "                        }\n",
       "                        break;\n",
       "                    }\n",
       "                }\n",
       "            }, 500);\n",
       "            "
      ],
      "text/plain": [
       "<IPython.core.display.Javascript object>"
      ]
     },
     "metadata": {},
     "output_type": "display_data"
    }
   ],
   "source": [
    "# hide\n",
    "data = Path(nbdev_path) / \"cats_and_dogs_filtered/train\"\n",
    "image = data / \"dogs/dog.0.jpg\""
   ]
  },
  {
   "cell_type": "code",
   "execution_count": null,
   "id": "intimate-inside",
   "metadata": {},
   "outputs": [
    {
     "data": {
      "image/png": "[encoded data removed]",
      "text/plain": [
       "<Figure size 216x216 with 1 Axes>"
      ]
     },
     "metadata": {
      "needs_background": "light"
     },
     "output_type": "display_data"
    },
    {
     "data": {
      "application/javascript": [
       "\n",
       "            setTimeout(function() {\n",
       "                var nbb_cell_id = 11;\n",
       "                var nbb_unformatted_code = \"# hide\\nimport numpy as np\\nfrom PIL import Image\\n\\nshow_images(ims=[np.array(Image.open(image))], titles=[\\\"Dog Image\\\"])\";\n",
       "                var nbb_formatted_code = \"# hide\\nimport numpy as np\\nfrom PIL import Image\\n\\nshow_images(ims=[np.array(Image.open(image))], titles=[\\\"Dog Image\\\"])\";\n",
       "                var nbb_cells = Jupyter.notebook.get_cells();\n",
       "                for (var i = 0; i < nbb_cells.length; ++i) {\n",
       "                    if (nbb_cells[i].input_prompt_number == nbb_cell_id) {\n",
       "                        if (nbb_cells[i].get_text() == nbb_unformatted_code) {\n",
       "                             nbb_cells[i].set_text(nbb_formatted_code);\n",
       "                        }\n",
       "                        break;\n",
       "                    }\n",
       "                }\n",
       "            }, 500);\n",
       "            "
      ],
      "text/plain": [
       "<IPython.core.display.Javascript object>"
      ]
     },
     "metadata": {},
     "output_type": "display_data"
    }
   ],
   "source": [
    "# hide\n",
    "import numpy as np\n",
    "from PIL import Image\n",
    "\n",
    "show_images(ims=[np.array(Image.open(image))], titles=[\"Dog Image\"])"
   ]
  },
  {
   "cell_type": "markdown",
   "id": "several-tender",
   "metadata": {},
   "source": [
    "## Loaders\n",
    "> Utils for reading Images"
   ]
  },
  {
   "cell_type": "code",
   "execution_count": null,
   "id": "promotional-terrain",
   "metadata": {},
   "outputs": [
    {
     "data": {
      "application/javascript": [
       "\n",
       "            setTimeout(function() {\n",
       "                var nbb_cell_id = 12;\n",
       "                var nbb_unformatted_code = \"# export\\nLOADER_REGISTERY = Registry(\\\"LOADERS\\\")\\nLOADER_REGISTERY.__doc__ = \\\"Registery of Loaders, `Loaders` are used to load in Images\\\"\";\n",
       "                var nbb_formatted_code = \"# export\\nLOADER_REGISTERY = Registry(\\\"LOADERS\\\")\\nLOADER_REGISTERY.__doc__ = \\\"Registery of Loaders, `Loaders` are used to load in Images\\\"\";\n",
       "                var nbb_cells = Jupyter.notebook.get_cells();\n",
       "                for (var i = 0; i < nbb_cells.length; ++i) {\n",
       "                    if (nbb_cells[i].input_prompt_number == nbb_cell_id) {\n",
       "                        if (nbb_cells[i].get_text() == nbb_unformatted_code) {\n",
       "                             nbb_cells[i].set_text(nbb_formatted_code);\n",
       "                        }\n",
       "                        break;\n",
       "                    }\n",
       "                }\n",
       "            }, 500);\n",
       "            "
      ],
      "text/plain": [
       "<IPython.core.display.Javascript object>"
      ]
     },
     "metadata": {},
     "output_type": "display_data"
    }
   ],
   "source": [
    "# export\n",
    "LOADER_REGISTERY = Registry(\"LOADERS\")\n",
    "LOADER_REGISTERY.__doc__ = \"Registery of Loaders, `Loaders` are used to load in Images\""
   ]
  },
  {
   "cell_type": "markdown",
   "id": "russian-white",
   "metadata": {},
   "source": [
    "Load an Image using PIL - "
   ]
  },
  {
   "cell_type": "code",
   "execution_count": null,
   "id": "relevant-albuquerque",
   "metadata": {},
   "outputs": [
    {
     "data": {
      "application/javascript": [
       "\n",
       "            setTimeout(function() {\n",
       "                var nbb_cell_id = 13;\n",
       "                var nbb_unformatted_code = \"# export\\n@LOADER_REGISTERY.register()\\ndef pil_loader(path) -> Image.Image:\\n    \\\"loads an image using PIL, mainly used for torchvision transformations\\\"\\n    with open(path, \\\"rb\\\") as f:\\n        img = Image.open(f)\\n        return img.convert(\\\"RGB\\\")\";\n",
       "                var nbb_formatted_code = \"# export\\n@LOADER_REGISTERY.register()\\ndef pil_loader(path) -> Image.Image:\\n    \\\"loads an image using PIL, mainly used for torchvision transformations\\\"\\n    with open(path, \\\"rb\\\") as f:\\n        img = Image.open(f)\\n        return img.convert(\\\"RGB\\\")\";\n",
       "                var nbb_cells = Jupyter.notebook.get_cells();\n",
       "                for (var i = 0; i < nbb_cells.length; ++i) {\n",
       "                    if (nbb_cells[i].input_prompt_number == nbb_cell_id) {\n",
       "                        if (nbb_cells[i].get_text() == nbb_unformatted_code) {\n",
       "                             nbb_cells[i].set_text(nbb_formatted_code);\n",
       "                        }\n",
       "                        break;\n",
       "                    }\n",
       "                }\n",
       "            }, 500);\n",
       "            "
      ],
      "text/plain": [
       "<IPython.core.display.Javascript object>"
      ]
     },
     "metadata": {},
     "output_type": "display_data"
    }
   ],
   "source": [
    "# export\n",
    "@LOADER_REGISTERY.register()\n",
    "def pil_loader(path) -> Image.Image:\n",
    "    \"loads an image using PIL, mainly used for torchvision transformations\"\n",
    "    with open(path, \"rb\") as f:\n",
    "        img = Image.open(f)\n",
    "        return img.convert(\"RGB\")"
   ]
  },
  {
   "cell_type": "code",
   "execution_count": null,
   "id": "current-dividend",
   "metadata": {},
   "outputs": [
    {
     "data": {
      "image/png": "[encoded data removed]",
      "text/plain": [
       "<Figure size 216x216 with 1 Axes>"
      ]
     },
     "metadata": {
      "needs_background": "light"
     },
     "output_type": "display_data"
    },
    {
     "data": {
      "application/javascript": [
       "\n",
       "            setTimeout(function() {\n",
       "                var nbb_cell_id = 14;\n",
       "                var nbb_unformatted_code = \"im = LOADER_REGISTERY.get(\\\"pil_loader\\\")(image)\\nshow_images([im])\";\n",
       "                var nbb_formatted_code = \"im = LOADER_REGISTERY.get(\\\"pil_loader\\\")(image)\\nshow_images([im])\";\n",
       "                var nbb_cells = Jupyter.notebook.get_cells();\n",
       "                for (var i = 0; i < nbb_cells.length; ++i) {\n",
       "                    if (nbb_cells[i].input_prompt_number == nbb_cell_id) {\n",
       "                        if (nbb_cells[i].get_text() == nbb_unformatted_code) {\n",
       "                             nbb_cells[i].set_text(nbb_formatted_code);\n",
       "                        }\n",
       "                        break;\n",
       "                    }\n",
       "                }\n",
       "            }, 500);\n",
       "            "
      ],
      "text/plain": [
       "<IPython.core.display.Javascript object>"
      ]
     },
     "metadata": {},
     "output_type": "display_data"
    }
   ],
   "source": [
    "im = LOADER_REGISTERY.get(\"pil_loader\")(image)\n",
    "show_images([im])"
   ]
  },
  {
   "cell_type": "markdown",
   "id": "dress-investor",
   "metadata": {},
   "source": [
    "Load Image using cv2 -"
   ]
  },
  {
   "cell_type": "code",
   "execution_count": null,
   "id": "distinguished-canon",
   "metadata": {},
   "outputs": [
    {
     "data": {
      "application/javascript": [
       "\n",
       "            setTimeout(function() {\n",
       "                var nbb_cell_id = 15;\n",
       "                var nbb_unformatted_code = \"# export\\n@LOADER_REGISTERY.register()\\ndef cv2_loader(path):\\n    \\\"loads an image using cv2, mainly used for albumentations transformations\\\"\\n    img = cv2.imread(path)\\n    return cv2.cvtColor(img, cv2.COLOR_BGR2RGB)\";\n",
       "                var nbb_formatted_code = \"# export\\n@LOADER_REGISTERY.register()\\ndef cv2_loader(path):\\n    \\\"loads an image using cv2, mainly used for albumentations transformations\\\"\\n    img = cv2.imread(path)\\n    return cv2.cvtColor(img, cv2.COLOR_BGR2RGB)\";\n",
       "                var nbb_cells = Jupyter.notebook.get_cells();\n",
       "                for (var i = 0; i < nbb_cells.length; ++i) {\n",
       "                    if (nbb_cells[i].input_prompt_number == nbb_cell_id) {\n",
       "                        if (nbb_cells[i].get_text() == nbb_unformatted_code) {\n",
       "                             nbb_cells[i].set_text(nbb_formatted_code);\n",
       "                        }\n",
       "                        break;\n",
       "                    }\n",
       "                }\n",
       "            }, 500);\n",
       "            "
      ],
      "text/plain": [
       "<IPython.core.display.Javascript object>"
      ]
     },
     "metadata": {},
     "output_type": "display_data"
    }
   ],
   "source": [
    "# export\n",
    "@LOADER_REGISTERY.register()\n",
    "def cv2_loader(path):\n",
    "    \"loads an image using cv2, mainly used for albumentations transformations\"\n",
    "    img = cv2.imread(path)\n",
    "    return cv2.cvtColor(img, cv2.COLOR_BGR2RGB)"
   ]
  },
  {
   "cell_type": "code",
   "execution_count": null,
   "id": "asian-burning",
   "metadata": {},
   "outputs": [
    {
     "data": {
      "image/png": "[encoded data removed]",
      "text/plain": [
       "<Figure size 216x216 with 1 Axes>"
      ]
     },
     "metadata": {
      "needs_background": "light"
     },
     "output_type": "display_data"
    },
    {
     "data": {
      "application/javascript": [
       "\n",
       "            setTimeout(function() {\n",
       "                var nbb_cell_id = 16;\n",
       "                var nbb_unformatted_code = \"im = LOADER_REGISTERY.get(\\\"cv2_loader\\\")(str(image))\\nim = cv2.resize(im, (255, 255))\\nshow_images(ims=[im])\";\n",
       "                var nbb_formatted_code = \"im = LOADER_REGISTERY.get(\\\"cv2_loader\\\")(str(image))\\nim = cv2.resize(im, (255, 255))\\nshow_images(ims=[im])\";\n",
       "                var nbb_cells = Jupyter.notebook.get_cells();\n",
       "                for (var i = 0; i < nbb_cells.length; ++i) {\n",
       "                    if (nbb_cells[i].input_prompt_number == nbb_cell_id) {\n",
       "                        if (nbb_cells[i].get_text() == nbb_unformatted_code) {\n",
       "                             nbb_cells[i].set_text(nbb_formatted_code);\n",
       "                        }\n",
       "                        break;\n",
       "                    }\n",
       "                }\n",
       "            }, 500);\n",
       "            "
      ],
      "text/plain": [
       "<IPython.core.display.Javascript object>"
      ]
     },
     "metadata": {},
     "output_type": "display_data"
    }
   ],
   "source": [
    "im = LOADER_REGISTERY.get(\"cv2_loader\")(str(image))\n",
    "im = cv2.resize(im, (255, 255))\n",
    "show_images(ims=[im])"
   ]
  },
  {
   "cell_type": "markdown",
   "id": "proved-momentum",
   "metadata": {},
   "source": [
    "## Utilities for Pandas\n",
    "> Set of utility functions for working with Image data and pandas"
   ]
  },
  {
   "cell_type": "code",
   "execution_count": null,
   "id": "experimental-bolivia",
   "metadata": {},
   "outputs": [
    {
     "data": {
      "application/javascript": [
       "\n",
       "            setTimeout(function() {\n",
       "                var nbb_cell_id = 17;\n",
       "                var nbb_unformatted_code = \"# export\\ndef folder2df(folder: str, extension: list = None, shuffle: bool = False):\\n    \\\"parses all the images in a folder into a pandas dataframe.\\\"\\n    extensions = ifnone(extension, IMG_EXTENSIONS)\\n\\n    image_list = []\\n    target_list = []\\n\\n    for f in os.listdir(folder):\\n        curr_path = os.path.join(folder, f)\\n        if os.path.isdir(curr_path):\\n            for image in os.listdir(curr_path):\\n                image_path = os.path.join(curr_path, image)\\n                image_tgt = f\\n                if image_path.lower().endswith(extensions):\\n                    image_list.append(image_path)\\n                    target_list.append(image_tgt)\\n\\n    logger.info(\\n        f\\\"Found {len(image_list)} files belonging to {len(set(target_list))} classes.\\\"\\n    )\\n\\n    dataframe = pd.DataFrame()\\n    dataframe[\\\"image_id\\\"] = image_list\\n    dataframe[\\\"target\\\"] = target_list\\n    if shuffle:\\n        dataframe = dataframe.sample(frac=1).reset_index(inplace=False, drop=True)\\n    return dataframe\";\n",
       "                var nbb_formatted_code = \"# export\\ndef folder2df(folder: str, extension: list = None, shuffle: bool = False):\\n    \\\"parses all the images in a folder into a pandas dataframe.\\\"\\n    extensions = ifnone(extension, IMG_EXTENSIONS)\\n\\n    image_list = []\\n    target_list = []\\n\\n    for f in os.listdir(folder):\\n        curr_path = os.path.join(folder, f)\\n        if os.path.isdir(curr_path):\\n            for image in os.listdir(curr_path):\\n                image_path = os.path.join(curr_path, image)\\n                image_tgt = f\\n                if image_path.lower().endswith(extensions):\\n                    image_list.append(image_path)\\n                    target_list.append(image_tgt)\\n\\n    logger.info(\\n        f\\\"Found {len(image_list)} files belonging to {len(set(target_list))} classes.\\\"\\n    )\\n\\n    dataframe = pd.DataFrame()\\n    dataframe[\\\"image_id\\\"] = image_list\\n    dataframe[\\\"target\\\"] = target_list\\n    if shuffle:\\n        dataframe = dataframe.sample(frac=1).reset_index(inplace=False, drop=True)\\n    return dataframe\";\n",
       "                var nbb_cells = Jupyter.notebook.get_cells();\n",
       "                for (var i = 0; i < nbb_cells.length; ++i) {\n",
       "                    if (nbb_cells[i].input_prompt_number == nbb_cell_id) {\n",
       "                        if (nbb_cells[i].get_text() == nbb_unformatted_code) {\n",
       "                             nbb_cells[i].set_text(nbb_formatted_code);\n",
       "                        }\n",
       "                        break;\n",
       "                    }\n",
       "                }\n",
       "            }, 500);\n",
       "            "
      ],
      "text/plain": [
       "<IPython.core.display.Javascript object>"
      ]
     },
     "metadata": {},
     "output_type": "display_data"
    }
   ],
   "source": [
    "# export\n",
    "def folder2df(folder: str, extension: list = None, shuffle: bool = False):\n",
    "    \"parses all the images in a folder into a pandas dataframe.\"\n",
    "    extensions = ifnone(extension, IMG_EXTENSIONS)\n",
    "\n",
    "    image_list = []\n",
    "    target_list = []\n",
    "\n",
    "    for f in os.listdir(folder):\n",
    "        curr_path = os.path.join(folder, f)\n",
    "        if os.path.isdir(curr_path):\n",
    "            for image in os.listdir(curr_path):\n",
    "                image_path = os.path.join(curr_path, image)\n",
    "                image_tgt = f\n",
    "                if image_path.lower().endswith(extensions):\n",
    "                    image_list.append(image_path)\n",
    "                    target_list.append(image_tgt)\n",
    "\n",
    "    logger.info(\n",
    "        f\"Found {len(image_list)} files belonging to {len(set(target_list))} classes.\"\n",
    "    )\n",
    "\n",
    "    dataframe = pd.DataFrame()\n",
    "    dataframe[\"image_id\"] = image_list\n",
    "    dataframe[\"target\"] = target_list\n",
    "    if shuffle:\n",
    "        dataframe = dataframe.sample(frac=1).reset_index(inplace=False, drop=True)\n",
    "    return dataframe"
   ]
  },
  {
   "cell_type": "markdown",
   "id": "disturbed-theorem",
   "metadata": {},
   "source": [
    "The folder stucture must be as follows - \n",
    "```\n",
    "folder\n",
    "|- class1\n",
    "| |- image1\n",
    "| |- image2\n",
    "| |- image3\n",
    "...\n",
    "|- class2\n",
    "| |- image1\n",
    "| |- image2\n",
    "| |- image3\n",
    "|- class2\n",
    "| |- image1\n",
    "| |- image2\n",
    "| |- image3\n",
    "...\n",
    "...\n",
    "```"
   ]
  },
  {
   "cell_type": "markdown",
   "id": "resident-milton",
   "metadata": {},
   "source": [
    "the `classes` in the folder will be given as `targets` and path of `image` will be stored in `image_id`"
   ]
  },
  {
   "cell_type": "code",
   "execution_count": null,
   "id": "convertible-louis",
   "metadata": {},
   "outputs": [
    {
     "name": "stdout",
     "output_type": "stream",
     "text": [
      "\u001b[1mINFO\u001b[0m \u001b[32m[03/13 20:25:49 __main__]\u001b[0m: Found 2000 files belonging to 2 classes.\n"
     ]
    },
    {
     "data": {
      "text/html": [
       "<div>\n",
       "<style scoped>\n",
       "    .dataframe tbody tr th:only-of-type {\n",
       "        vertical-align: middle;\n",
       "    }\n",
       "\n",
       "    .dataframe tbody tr th {\n",
       "        vertical-align: top;\n",
       "    }\n",
       "\n",
       "    .dataframe thead th {\n",
       "        text-align: right;\n",
       "    }\n",
       "</style>\n",
       "<table border=\"1\" class=\"dataframe\">\n",
       "  <thead>\n",
       "    <tr style=\"text-align: right;\">\n",
       "      <th></th>\n",
       "      <th>image_id</th>\n",
       "      <th>target</th>\n",
       "    </tr>\n",
       "  </thead>\n",
       "  <tbody>\n",
       "    <tr>\n",
       "      <th>0</th>\n",
       "      <td>/Users/ayushman/Desktop/lightning_cv/nbs/data/cats_and_dogs_filtered/train/cats/cat.875.jpg</td>\n",
       "      <td>cats</td>\n",
       "    </tr>\n",
       "    <tr>\n",
       "      <th>1</th>\n",
       "      <td>/Users/ayushman/Desktop/lightning_cv/nbs/data/cats_and_dogs_filtered/train/dogs/dog.560.jpg</td>\n",
       "      <td>dogs</td>\n",
       "    </tr>\n",
       "    <tr>\n",
       "      <th>2</th>\n",
       "      <td>/Users/ayushman/Desktop/lightning_cv/nbs/data/cats_and_dogs_filtered/train/dogs/dog.709.jpg</td>\n",
       "      <td>dogs</td>\n",
       "    </tr>\n",
       "    <tr>\n",
       "      <th>3</th>\n",
       "      <td>/Users/ayushman/Desktop/lightning_cv/nbs/data/cats_and_dogs_filtered/train/cats/cat.234.jpg</td>\n",
       "      <td>cats</td>\n",
       "    </tr>\n",
       "    <tr>\n",
       "      <th>4</th>\n",
       "      <td>/Users/ayushman/Desktop/lightning_cv/nbs/data/cats_and_dogs_filtered/train/cats/cat.770.jpg</td>\n",
       "      <td>cats</td>\n",
       "    </tr>\n",
       "  </tbody>\n",
       "</table>\n",
       "</div>"
      ],
      "text/plain": [
       "                                                                                      image_id  \\\n",
       "0  /Users/ayushman/Desktop/lightning_cv/nbs/data/cats_and_dogs_filtered/train/cats/cat.875.jpg   \n",
       "1  /Users/ayushman/Desktop/lightning_cv/nbs/data/cats_and_dogs_filtered/train/dogs/dog.560.jpg   \n",
       "2  /Users/ayushman/Desktop/lightning_cv/nbs/data/cats_and_dogs_filtered/train/dogs/dog.709.jpg   \n",
       "3  /Users/ayushman/Desktop/lightning_cv/nbs/data/cats_and_dogs_filtered/train/cats/cat.234.jpg   \n",
       "4  /Users/ayushman/Desktop/lightning_cv/nbs/data/cats_and_dogs_filtered/train/cats/cat.770.jpg   \n",
       "\n",
       "  target  \n",
       "0   cats  \n",
       "1   dogs  \n",
       "2   dogs  \n",
       "3   cats  \n",
       "4   cats  "
      ]
     },
     "execution_count": null,
     "metadata": {},
     "output_type": "execute_result"
    },
    {
     "data": {
      "application/javascript": [
       "\n",
       "            setTimeout(function() {\n",
       "                var nbb_cell_id = 18;\n",
       "                var nbb_unformatted_code = \"# hide\\npd.set_option(\\\"display.max_colwidth\\\", None)\\ndf = folder2df(data, shuffle=True)\\ndf.head()\";\n",
       "                var nbb_formatted_code = \"# hide\\npd.set_option(\\\"display.max_colwidth\\\", None)\\ndf = folder2df(data, shuffle=True)\\ndf.head()\";\n",
       "                var nbb_cells = Jupyter.notebook.get_cells();\n",
       "                for (var i = 0; i < nbb_cells.length; ++i) {\n",
       "                    if (nbb_cells[i].input_prompt_number == nbb_cell_id) {\n",
       "                        if (nbb_cells[i].get_text() == nbb_unformatted_code) {\n",
       "                             nbb_cells[i].set_text(nbb_formatted_code);\n",
       "                        }\n",
       "                        break;\n",
       "                    }\n",
       "                }\n",
       "            }, 500);\n",
       "            "
      ],
      "text/plain": [
       "<IPython.core.display.Javascript object>"
      ]
     },
     "metadata": {},
     "output_type": "display_data"
    }
   ],
   "source": [
    "# hide\n",
    "pd.set_option(\"display.max_colwidth\", None)\n",
    "df = folder2df(data, shuffle=True)\n",
    "df.head()"
   ]
  },
  {
   "cell_type": "code",
   "execution_count": null,
   "id": "cordless-security",
   "metadata": {},
   "outputs": [
    {
     "data": {
      "application/javascript": [
       "\n",
       "            setTimeout(function() {\n",
       "                var nbb_cell_id = 19;\n",
       "                var nbb_unformatted_code = \"# export\\n@delegates(StratifiedKFold)\\ndef stratify_df(\\n    df: pd.DataFrame,\\n    y: str = None,\\n    fold_col: str = None,\\n    shuffle: bool = False,\\n    **kwargs\\n):\\n    \\\"\\\"\\\"makes stratified folds in `df`. The Id of the OOF Validation\\n    fold will be inserted in `fold_col`. `y` is the name of the column to\\n    the dependent variable.\\n    \\\"\\\"\\\"\\n    # preserve the original copy of the dataframe\\n    data = df.copy()\\n    skf = StratifiedKFold(**kwargs)\\n    fold_col = ifnone(fold_col, \\\"kfold\\\")\\n\\n    ys = data[y]\\n    data[fold_col] = -1\\n\\n    for i, (train_index, test_index) in enumerate(skf.split(X=data, y=ys)):\\n        data.loc[test_index, \\\"kfold\\\"] = i\\n\\n    if shuffle:\\n        data = data.sample(frac=1).reset_index(drop=True)\\n    return data\";\n",
       "                var nbb_formatted_code = \"# export\\n@delegates(StratifiedKFold)\\ndef stratify_df(\\n    df: pd.DataFrame,\\n    y: str = None,\\n    fold_col: str = None,\\n    shuffle: bool = False,\\n    **kwargs\\n):\\n    \\\"\\\"\\\"makes stratified folds in `df`. The Id of the OOF Validation\\n    fold will be inserted in `fold_col`. `y` is the name of the column to\\n    the dependent variable.\\n    \\\"\\\"\\\"\\n    # preserve the original copy of the dataframe\\n    data = df.copy()\\n    skf = StratifiedKFold(**kwargs)\\n    fold_col = ifnone(fold_col, \\\"kfold\\\")\\n\\n    ys = data[y]\\n    data[fold_col] = -1\\n\\n    for i, (train_index, test_index) in enumerate(skf.split(X=data, y=ys)):\\n        data.loc[test_index, \\\"kfold\\\"] = i\\n\\n    if shuffle:\\n        data = data.sample(frac=1).reset_index(drop=True)\\n    return data\";\n",
       "                var nbb_cells = Jupyter.notebook.get_cells();\n",
       "                for (var i = 0; i < nbb_cells.length; ++i) {\n",
       "                    if (nbb_cells[i].input_prompt_number == nbb_cell_id) {\n",
       "                        if (nbb_cells[i].get_text() == nbb_unformatted_code) {\n",
       "                             nbb_cells[i].set_text(nbb_formatted_code);\n",
       "                        }\n",
       "                        break;\n",
       "                    }\n",
       "                }\n",
       "            }, 500);\n",
       "            "
      ],
      "text/plain": [
       "<IPython.core.display.Javascript object>"
      ]
     },
     "metadata": {},
     "output_type": "display_data"
    }
   ],
   "source": [
    "# export\n",
    "@delegates(StratifiedKFold)\n",
    "def stratify_df(\n",
    "    df: pd.DataFrame,\n",
    "    y: str = None,\n",
    "    fold_col: str = None,\n",
    "    shuffle: bool = False,\n",
    "    **kwargs\n",
    "):\n",
    "    \"\"\"makes stratified folds in `df`. The Id of the OOF Validation\n",
    "    fold will be inserted in `fold_col`. `y` is the name of the column to\n",
    "    the dependent variable.\n",
    "    \"\"\"\n",
    "    # preserve the original copy of the dataframe\n",
    "    data = df.copy()\n",
    "    skf = StratifiedKFold(**kwargs)\n",
    "    fold_col = ifnone(fold_col, \"kfold\")\n",
    "\n",
    "    ys = data[y]\n",
    "    data[fold_col] = -1\n",
    "\n",
    "    for i, (train_index, test_index) in enumerate(skf.split(X=data, y=ys)):\n",
    "        data.loc[test_index, \"kfold\"] = i\n",
    "\n",
    "    if shuffle:\n",
    "        data = data.sample(frac=1).reset_index(drop=True)\n",
    "    return data"
   ]
  },
  {
   "cell_type": "code",
   "execution_count": null,
   "id": "elegant-annotation",
   "metadata": {},
   "outputs": [
    {
     "data": {
      "text/html": [
       "<div>\n",
       "<style scoped>\n",
       "    .dataframe tbody tr th:only-of-type {\n",
       "        vertical-align: middle;\n",
       "    }\n",
       "\n",
       "    .dataframe tbody tr th {\n",
       "        vertical-align: top;\n",
       "    }\n",
       "\n",
       "    .dataframe thead th {\n",
       "        text-align: right;\n",
       "    }\n",
       "</style>\n",
       "<table border=\"1\" class=\"dataframe\">\n",
       "  <thead>\n",
       "    <tr style=\"text-align: right;\">\n",
       "      <th></th>\n",
       "      <th>image_id</th>\n",
       "      <th>target</th>\n",
       "      <th>kfold</th>\n",
       "    </tr>\n",
       "  </thead>\n",
       "  <tbody>\n",
       "    <tr>\n",
       "      <th>0</th>\n",
       "      <td>/Users/ayushman/Desktop/lightning_cv/nbs/data/cats_and_dogs_filtered/train/dogs/dog.115.jpg</td>\n",
       "      <td>dogs</td>\n",
       "      <td>1</td>\n",
       "    </tr>\n",
       "    <tr>\n",
       "      <th>1</th>\n",
       "      <td>/Users/ayushman/Desktop/lightning_cv/nbs/data/cats_and_dogs_filtered/train/cats/cat.213.jpg</td>\n",
       "      <td>cats</td>\n",
       "      <td>2</td>\n",
       "    </tr>\n",
       "    <tr>\n",
       "      <th>2</th>\n",
       "      <td>/Users/ayushman/Desktop/lightning_cv/nbs/data/cats_and_dogs_filtered/train/cats/cat.948.jpg</td>\n",
       "      <td>cats</td>\n",
       "      <td>1</td>\n",
       "    </tr>\n",
       "    <tr>\n",
       "      <th>3</th>\n",
       "      <td>/Users/ayushman/Desktop/lightning_cv/nbs/data/cats_and_dogs_filtered/train/cats/cat.681.jpg</td>\n",
       "      <td>cats</td>\n",
       "      <td>2</td>\n",
       "    </tr>\n",
       "    <tr>\n",
       "      <th>4</th>\n",
       "      <td>/Users/ayushman/Desktop/lightning_cv/nbs/data/cats_and_dogs_filtered/train/cats/cat.780.jpg</td>\n",
       "      <td>cats</td>\n",
       "      <td>1</td>\n",
       "    </tr>\n",
       "  </tbody>\n",
       "</table>\n",
       "</div>"
      ],
      "text/plain": [
       "                                                                                      image_id  \\\n",
       "0  /Users/ayushman/Desktop/lightning_cv/nbs/data/cats_and_dogs_filtered/train/dogs/dog.115.jpg   \n",
       "1  /Users/ayushman/Desktop/lightning_cv/nbs/data/cats_and_dogs_filtered/train/cats/cat.213.jpg   \n",
       "2  /Users/ayushman/Desktop/lightning_cv/nbs/data/cats_and_dogs_filtered/train/cats/cat.948.jpg   \n",
       "3  /Users/ayushman/Desktop/lightning_cv/nbs/data/cats_and_dogs_filtered/train/cats/cat.681.jpg   \n",
       "4  /Users/ayushman/Desktop/lightning_cv/nbs/data/cats_and_dogs_filtered/train/cats/cat.780.jpg   \n",
       "\n",
       "  target  kfold  \n",
       "0   dogs      1  \n",
       "1   cats      2  \n",
       "2   cats      1  \n",
       "3   cats      2  \n",
       "4   cats      1  "
      ]
     },
     "execution_count": null,
     "metadata": {},
     "output_type": "execute_result"
    },
    {
     "data": {
      "application/javascript": [
       "\n",
       "            setTimeout(function() {\n",
       "                var nbb_cell_id = 20;\n",
       "                var nbb_unformatted_code = \"# hide\\ndf1 = stratify_df(df, y=\\\"target\\\", shuffle=True)\\ndf1.head()\";\n",
       "                var nbb_formatted_code = \"# hide\\ndf1 = stratify_df(df, y=\\\"target\\\", shuffle=True)\\ndf1.head()\";\n",
       "                var nbb_cells = Jupyter.notebook.get_cells();\n",
       "                for (var i = 0; i < nbb_cells.length; ++i) {\n",
       "                    if (nbb_cells[i].input_prompt_number == nbb_cell_id) {\n",
       "                        if (nbb_cells[i].get_text() == nbb_unformatted_code) {\n",
       "                             nbb_cells[i].set_text(nbb_formatted_code);\n",
       "                        }\n",
       "                        break;\n",
       "                    }\n",
       "                }\n",
       "            }, 500);\n",
       "            "
      ],
      "text/plain": [
       "<IPython.core.display.Javascript object>"
      ]
     },
     "metadata": {},
     "output_type": "display_data"
    }
   ],
   "source": [
    "# hide\n",
    "df1 = stratify_df(df, y=\"target\", shuffle=True)\n",
    "df1.head()"
   ]
  },
  {
   "cell_type": "markdown",
   "id": "generic-export",
   "metadata": {},
   "source": [
    "## DatasetCalalog\n",
    "> A global dictionary that stores information about the `Datasets` and how to obtain them."
   ]
  },
  {
   "cell_type": "code",
   "execution_count": null,
   "id": "mature-layer",
   "metadata": {},
   "outputs": [
    {
     "data": {
      "application/javascript": [
       "\n",
       "            setTimeout(function() {\n",
       "                var nbb_cell_id = 21;\n",
       "                var nbb_unformatted_code = \"# export\\nclass _DatasetCatalog(UserDict):\\n    \\\"\\\"\\\"\\n    A global dictionary that stores information about the datasets and how to obtain them.\\n    It contains a mapping from strings\\n    (which are names that identify a dataset, e.g. \\\"my_dataset_train\\\")\\n    to a function which parses the instanitiates the `Dataset` obj.\\n\\n    From - https://github.com/facebookresearch/detectron2/blob/master/detectron2/data/catalog.py\\n    \\\"\\\"\\\"\\n\\n    def register(self, name, func):\\n        \\\"\\\"\\\"\\n        Args:\\n            name (str): the name that identifies a dataset, e.g. \\\"coco_2014_train\\\".\\n            func (callable): a callable which takes no arguments and returns a list of dicts.\\n                It must return the same results if called multiple times.\\n        \\\"\\\"\\\"\\n        assert callable(\\n            func\\n        ), \\\"You must register a function with `DatasetCatalog.register`!\\\"\\n        assert name not in self, \\\"Dataset '{}' is already registered!\\\".format(name)\\n        self[name] = func\\n\\n    def get(self, name, **kwargs):\\n        \\\"\\\"\\\"\\n        Call the registered function and return its results.\\n        Args:\\n            name (str): the name that identifies a dataset, e.g. \\\"coco_2014_train\\\".\\n        Returns:\\n            list[dict]: dataset annotations.\\n        \\\"\\\"\\\"\\n        try:\\n            f = self[name]\\n        except KeyError as e:\\n            raise KeyError(\\n                \\\"Dataset '{}' is not registered! Available datasets are: {}\\\".format(\\n                    name, \\\", \\\".join(list(self.keys()))\\n                )\\n            ) from e\\n        return f(**kwargs)\\n\\n    def list(self) -> List[str]:\\n        \\\"\\\"\\\"\\n        List all registered datasets.\\n        Returns:\\n            list[str]\\n        \\\"\\\"\\\"\\n        return list(self.keys())\\n\\n    def remove(self, name):\\n        \\\"\\\"\\\"\\n        Alias of ``pop``.\\n        \\\"\\\"\\\"\\n        self.pop(name)\\n\\n    def __str__(self):\\n        return \\\"DatasetCatalog(registered datasets: {})\\\".format(\\\", \\\".join(self.keys()))\\n\\n    __repr__ = __str__\";\n",
       "                var nbb_formatted_code = \"# export\\nclass _DatasetCatalog(UserDict):\\n    \\\"\\\"\\\"\\n    A global dictionary that stores information about the datasets and how to obtain them.\\n    It contains a mapping from strings\\n    (which are names that identify a dataset, e.g. \\\"my_dataset_train\\\")\\n    to a function which parses the instanitiates the `Dataset` obj.\\n\\n    From - https://github.com/facebookresearch/detectron2/blob/master/detectron2/data/catalog.py\\n    \\\"\\\"\\\"\\n\\n    def register(self, name, func):\\n        \\\"\\\"\\\"\\n        Args:\\n            name (str): the name that identifies a dataset, e.g. \\\"coco_2014_train\\\".\\n            func (callable): a callable which takes no arguments and returns a list of dicts.\\n                It must return the same results if called multiple times.\\n        \\\"\\\"\\\"\\n        assert callable(\\n            func\\n        ), \\\"You must register a function with `DatasetCatalog.register`!\\\"\\n        assert name not in self, \\\"Dataset '{}' is already registered!\\\".format(name)\\n        self[name] = func\\n\\n    def get(self, name, **kwargs):\\n        \\\"\\\"\\\"\\n        Call the registered function and return its results.\\n        Args:\\n            name (str): the name that identifies a dataset, e.g. \\\"coco_2014_train\\\".\\n        Returns:\\n            list[dict]: dataset annotations.\\n        \\\"\\\"\\\"\\n        try:\\n            f = self[name]\\n        except KeyError as e:\\n            raise KeyError(\\n                \\\"Dataset '{}' is not registered! Available datasets are: {}\\\".format(\\n                    name, \\\", \\\".join(list(self.keys()))\\n                )\\n            ) from e\\n        return f(**kwargs)\\n\\n    def list(self) -> List[str]:\\n        \\\"\\\"\\\"\\n        List all registered datasets.\\n        Returns:\\n            list[str]\\n        \\\"\\\"\\\"\\n        return list(self.keys())\\n\\n    def remove(self, name):\\n        \\\"\\\"\\\"\\n        Alias of ``pop``.\\n        \\\"\\\"\\\"\\n        self.pop(name)\\n\\n    def __str__(self):\\n        return \\\"DatasetCatalog(registered datasets: {})\\\".format(\\\", \\\".join(self.keys()))\\n\\n    __repr__ = __str__\";\n",
       "                var nbb_cells = Jupyter.notebook.get_cells();\n",
       "                for (var i = 0; i < nbb_cells.length; ++i) {\n",
       "                    if (nbb_cells[i].input_prompt_number == nbb_cell_id) {\n",
       "                        if (nbb_cells[i].get_text() == nbb_unformatted_code) {\n",
       "                             nbb_cells[i].set_text(nbb_formatted_code);\n",
       "                        }\n",
       "                        break;\n",
       "                    }\n",
       "                }\n",
       "            }, 500);\n",
       "            "
      ],
      "text/plain": [
       "<IPython.core.display.Javascript object>"
      ]
     },
     "metadata": {},
     "output_type": "display_data"
    }
   ],
   "source": [
    "# export\n",
    "class _DatasetCatalog(UserDict):\n",
    "    \"\"\"\n",
    "    A global dictionary that stores information about the datasets and how to obtain them.\n",
    "    It contains a mapping from strings\n",
    "    (which are names that identify a dataset, e.g. \"my_dataset_train\")\n",
    "    to a function which parses the instanitiates the `Dataset` obj.\n",
    "\n",
    "    From - https://github.com/facebookresearch/detectron2/blob/master/detectron2/data/catalog.py\n",
    "    \"\"\"\n",
    "\n",
    "    def register(self, name, func):\n",
    "        \"\"\"\n",
    "        Args:\n",
    "            name (str): the name that identifies a dataset, e.g. \"coco_2014_train\".\n",
    "            func (callable): a callable which takes no arguments and returns a list of dicts.\n",
    "                It must return the same results if called multiple times.\n",
    "        \"\"\"\n",
    "        assert callable(\n",
    "            func\n",
    "        ), \"You must register a function with `DatasetCatalog.register`!\"\n",
    "        assert name not in self, \"Dataset '{}' is already registered!\".format(name)\n",
    "        self[name] = func\n",
    "\n",
    "    def get(self, name, **kwargs):\n",
    "        \"\"\"\n",
    "        Call the registered function and return its results.\n",
    "        Args:\n",
    "            name (str): the name that identifies a dataset, e.g. \"coco_2014_train\".\n",
    "        Returns:\n",
    "            list[dict]: dataset annotations.\n",
    "        \"\"\"\n",
    "        try:\n",
    "            f = self[name]\n",
    "        except KeyError as e:\n",
    "            raise KeyError(\n",
    "                \"Dataset '{}' is not registered! Available datasets are: {}\".format(\n",
    "                    name, \", \".join(list(self.keys()))\n",
    "                )\n",
    "            ) from e\n",
    "        return f(**kwargs)\n",
    "\n",
    "    def list(self) -> List[str]:\n",
    "        \"\"\"\n",
    "        List all registered datasets.\n",
    "        Returns:\n",
    "            list[str]\n",
    "        \"\"\"\n",
    "        return list(self.keys())\n",
    "\n",
    "    def remove(self, name):\n",
    "        \"\"\"\n",
    "        Alias of ``pop``.\n",
    "        \"\"\"\n",
    "        self.pop(name)\n",
    "\n",
    "    def __str__(self):\n",
    "        return \"DatasetCatalog(registered datasets: {})\".format(\", \".join(self.keys()))\n",
    "\n",
    "    __repr__ = __str__"
   ]
  },
  {
   "cell_type": "markdown",
   "id": "blond-heart",
   "metadata": {},
   "source": [
    "## Export -"
   ]
  },
  {
   "cell_type": "code",
   "execution_count": null,
   "id": "selective-singer",
   "metadata": {},
   "outputs": [
    {
     "name": "stdout",
     "output_type": "stream",
     "text": [
      "Converted 00_config.ipynb.\n",
      "Converted 00a_core.utils.common.ipynb.\n",
      "Converted 00b_core.utils.data.ipynb.\n",
      "Converted 00c_core.optim.ipynb.\n",
      "Converted 00d_core.schedules.ipynb.\n",
      "Converted 00e_core.layers.ipynb.\n",
      "Converted 00f_core.losses.py.ipynb.\n",
      "Converted 01a_classification.data.transforms.ipynb.\n",
      "Converted 01b_classification.data.datasets.ipynb.\n",
      "Converted 01c_classification.modelling.backbones.ipynb.\n",
      "Converted 01d_classification.modelling.classifiers.ipynb.\n",
      "Converted 01e_classification.modelPL.ipynb.\n",
      "Converted index.ipynb.\n"
     ]
    },
    {
     "data": {
      "application/javascript": [
       "\n",
       "            setTimeout(function() {\n",
       "                var nbb_cell_id = 23;\n",
       "                var nbb_unformatted_code = \"# hide\\nnotebook2script()\";\n",
       "                var nbb_formatted_code = \"# hide\\nnotebook2script()\";\n",
       "                var nbb_cells = Jupyter.notebook.get_cells();\n",
       "                for (var i = 0; i < nbb_cells.length; ++i) {\n",
       "                    if (nbb_cells[i].input_prompt_number == nbb_cell_id) {\n",
       "                        if (nbb_cells[i].get_text() == nbb_unformatted_code) {\n",
       "                             nbb_cells[i].set_text(nbb_formatted_code);\n",
       "                        }\n",
       "                        break;\n",
       "                    }\n",
       "                }\n",
       "            }, 500);\n",
       "            "
      ],
      "text/plain": [
       "<IPython.core.display.Javascript object>"
      ]
     },
     "metadata": {},
     "output_type": "display_data"
    }
   ],
   "source": [
    "# hide\n",
    "notebook2script()"
   ]
  },
  {
   "cell_type": "code",
   "execution_count": null,
   "id": "promotional-spencer",
   "metadata": {},
   "outputs": [],
   "source": []
  }
 ],
 "metadata": {
  "kernelspec": {
   "display_name": "lightning_cv",
   "language": "python",
   "name": "lightning_cv"
  }
 },
 "nbformat": 4,
 "nbformat_minor": 5
}

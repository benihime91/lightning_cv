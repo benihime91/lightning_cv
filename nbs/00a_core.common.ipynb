{
 "cells": [
  {
   "cell_type": "code",
   "execution_count": null,
   "metadata": {},
   "outputs": [],
   "source": [
    "# default_exp core.common"
   ]
  },
  {
   "cell_type": "markdown",
   "metadata": {},
   "source": [
    "# Common Utilities\n",
    "\n",
    "> Set of core functions used in the library"
   ]
  },
  {
   "cell_type": "code",
   "execution_count": null,
   "metadata": {},
   "outputs": [],
   "source": [
    "#hide\n",
    "from nbdev.showdoc import *\n",
    "from nbdev.export import *"
   ]
  },
  {
   "cell_type": "code",
   "execution_count": null,
   "metadata": {},
   "outputs": [],
   "source": [
    "# export\n",
    "import sys\n",
    "import uuid\n",
    "import matplotlib.pyplot as plt\n",
    "import logging\n",
    "import loguru\n",
    "from fvcore.common.registry import Registry\n",
    "from fastcore.all import delegates\n",
    "from torchvision.utils import make_grid"
   ]
  },
  {
   "cell_type": "markdown",
   "metadata": {},
   "source": [
    "## Logging -"
   ]
  },
  {
   "cell_type": "code",
   "execution_count": null,
   "metadata": {},
   "outputs": [],
   "source": [
    "# export\n",
    "FORMAT      = \"<lvl>{level}</lvl> <green>[{time:MM/DD HH:mm:ss} {name}]</green>: {message}\"\n",
    "ROOT_NAME   = \"lightning_cv\"\n",
    "ABBREV_NAME = \"lcv\"\n",
    "\n",
    "@delegates(loguru.logger.add)\n",
    "def default_logger(sink=sys.stdout, level=logging.INFO, format=FORMAT, colorize=True, **kwargs):\n",
    "    \"default logger for the Library\"\n",
    "    logger = loguru.logger\n",
    "    logger.remove()\n",
    "    logger.add(sink, level=level, format=format, colorize=colorize, **kwargs)\n",
    "    logger = logger.patch(lambda record: record.update(name=record[\"name\"].replace(ROOT_NAME, ABBREV_NAME)))\n",
    "    return logger"
   ]
  },
  {
   "cell_type": "code",
   "execution_count": null,
   "metadata": {},
   "outputs": [
    {
     "data": {
      "text/markdown": [
       "<h4 id=\"default_logger\" class=\"doc_header\"><code>default_logger</code><a href=\"__main__.py#L6\" class=\"source_link\" style=\"float:right\">[source]</a></h4>\n",
       "\n",
       "> <code>default_logger</code>(**`sink`**=*`<ipykernel.iostream.OutStream object at 0x7f855567e790>`*, **`level`**=*`20`*, **`format`**=*`'<lvl>{level}</lvl> <green>[{time:MM/DD HH:mm:ss} {name}]</green>: {message}'`*, **`colorize`**=*`True`*, **`filter`**=*`None`*, **`serialize`**=*`False`*, **`backtrace`**=*`True`*, **`diagnose`**=*`True`*, **`enqueue`**=*`False`*, **`catch`**=*`True`*)\n",
       "\n",
       "default logger for the Library"
      ],
      "text/plain": [
       "<IPython.core.display.Markdown object>"
      ]
     },
     "metadata": {},
     "output_type": "display_data"
    }
   ],
   "source": [
    "show_doc(default_logger)"
   ]
  },
  {
   "cell_type": "markdown",
   "metadata": {},
   "source": [
    "For more information to customize logging see : [docs](https://loguru.readthedocs.io/en/stable/api/logger.html)"
   ]
  },
  {
   "cell_type": "code",
   "execution_count": null,
   "metadata": {},
   "outputs": [
    {
     "name": "stdout",
     "output_type": "stream",
     "text": [
      "\u001b[1mINFO\u001b[0m \u001b[32m[03/01 23:22:17 __main__]\u001b[0m: INFO message !\n",
      "\u001b[33m\u001b[1mWARNING\u001b[0m \u001b[32m[03/01 23:22:17 __main__]\u001b[0m: WARNING message !\n",
      "\u001b[31m\u001b[1mERROR\u001b[0m \u001b[32m[03/01 23:22:17 __main__]\u001b[0m: ERROR meassage !\n"
     ]
    }
   ],
   "source": [
    "# hide\n",
    "logger = default_logger()\n",
    "\n",
    "logger.info(\"INFO message !\")\n",
    "logger.warning(\"WARNING message !\")\n",
    "logger.error(\"ERROR meassage !\")"
   ]
  },
  {
   "cell_type": "markdown",
   "metadata": {},
   "source": [
    "## Display Tensors -\n",
    "\n",
    "Plotting utilies to display a grid of Images -"
   ]
  },
  {
   "cell_type": "code",
   "execution_count": null,
   "metadata": {},
   "outputs": [],
   "source": [
    "# export\n",
    "@delegates(make_grid)\n",
    "def imshow_tensor(inp, title=None, **kwargs):\n",
    "    \"\"\"Imshow for Tensor and optionally add a `title`\"\"\"\n",
    "    grid = make_grid(inp, **kwargs)\n",
    "    grid = grid.permute(1, 2, 0).data.numpy()\n",
    "    plt.imshow(grid)\n",
    "\n",
    "    if title is not None:\n",
    "        plt.title(title)\n",
    "\n",
    "    plt.pause(0.001)"
   ]
  },
  {
   "cell_type": "markdown",
   "metadata": {},
   "source": [
    "## Random ID -\n",
    "\n",
    "Generate a random-id - "
   ]
  },
  {
   "cell_type": "code",
   "execution_count": null,
   "metadata": {},
   "outputs": [],
   "source": [
    "# export\n",
    "# hide\n",
    "def generate_random_id() -> str:\n",
    "    \"generates a random id\"\n",
    "    idx = uuid.uuid1()\n",
    "    idx = str(idx).split(\"-\")[0]\n",
    "    return idx"
   ]
  },
  {
   "cell_type": "markdown",
   "metadata": {},
   "source": [
    "This function is usefull to generate a `random-id` for an experiment."
   ]
  },
  {
   "cell_type": "code",
   "execution_count": null,
   "metadata": {},
   "outputs": [
    {
     "data": {
      "text/plain": [
       "'07acd78c'"
      ]
     },
     "execution_count": null,
     "metadata": {},
     "output_type": "execute_result"
    }
   ],
   "source": [
    "# hide\n",
    "generate_random_id()"
   ]
  },
  {
   "cell_type": "markdown",
   "metadata": {},
   "source": [
    "## Registery -\n",
    "Registery from `fvcore` to store objects/ modules and load them from the config -"
   ]
  },
  {
   "cell_type": "code",
   "execution_count": null,
   "metadata": {},
   "outputs": [
    {
     "data": {
      "text/markdown": [
       "<h2 id=\"Registry\" class=\"doc_header\"><code>class</code> <code>Registry</code><a href=\"fvcore/common/registry.py#L8\" class=\"source_link\" style=\"float:right\">[source]</a></h2>\n",
       "\n",
       "> <code>Registry</code>(**\\*`args`**, **\\*\\*`kwds`**) :: `Iterable`\n",
       "\n",
       "The registry that provides name -> object mapping, to support third-party\n",
       "users' custom modules.\n",
       "\n",
       "To create a registry (e.g. a backbone registry):\n",
       "\n",
       ".. code-block:: python\n",
       "\n",
       "    BACKBONE_REGISTRY = Registry('BACKBONE')\n",
       "\n",
       "To register an object:\n",
       "\n",
       ".. code-block:: python\n",
       "\n",
       "    @BACKBONE_REGISTRY.register()\n",
       "    class MyBackbone():\n",
       "        ...\n",
       "\n",
       "Or:\n",
       "\n",
       ".. code-block:: python\n",
       "\n",
       "    BACKBONE_REGISTRY.register(MyBackbone)"
      ],
      "text/plain": [
       "<IPython.core.display.Markdown object>"
      ]
     },
     "metadata": {},
     "output_type": "display_data"
    }
   ],
   "source": [
    "show_doc(Registry)"
   ]
  },
  {
   "cell_type": "markdown",
   "metadata": {},
   "source": [
    "## Export -"
   ]
  },
  {
   "cell_type": "code",
   "execution_count": null,
   "metadata": {},
   "outputs": [
    {
     "name": "stdout",
     "output_type": "stream",
     "text": [
      "Converted 00a_core.common.ipynb.\n",
      "Converted 00b_utils.data.ipynb.\n",
      "Converted 01a_data.transforms.ipynb.\n",
      "Converted 01b_data.datasets.ipynb.\n",
      "Converted index.ipynb.\n"
     ]
    }
   ],
   "source": [
    "# hide \n",
    "notebook2script()"
   ]
  },
  {
   "cell_type": "code",
   "execution_count": null,
   "metadata": {},
   "outputs": [],
   "source": []
  }
 ],
 "metadata": {
  "kernelspec": {
   "display_name": "lightning_cv",
   "language": "python",
   "name": "lightning_cv"
  }
 },
 "nbformat": 4,
 "nbformat_minor": 2
}

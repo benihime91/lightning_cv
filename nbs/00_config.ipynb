{
 "cells": [
  {
   "cell_type": "code",
   "execution_count": null,
   "metadata": {},
   "outputs": [],
   "source": [
    "# default_exp config"
   ]
  },
  {
   "cell_type": "code",
   "execution_count": null,
   "metadata": {},
   "outputs": [],
   "source": [
    "#hide\n",
    "from nbdev.showdoc import *\n",
    "from nbdev.export import *"
   ]
  },
  {
   "cell_type": "code",
   "execution_count": null,
   "metadata": {},
   "outputs": [
    {
     "data": {
      "application/javascript": [
       "\n",
       "            setTimeout(function() {\n",
       "                var nbb_cell_id = 3;\n",
       "                var nbb_unformatted_code = \"# hide\\n%matplotlib inline\\n%load_ext autoreload\\n%load_ext nb_black\\n%autoreload 2\";\n",
       "                var nbb_formatted_code = \"# hide\\n%matplotlib inline\\n%load_ext autoreload\\n%load_ext nb_black\\n%autoreload 2\";\n",
       "                var nbb_cells = Jupyter.notebook.get_cells();\n",
       "                for (var i = 0; i < nbb_cells.length; ++i) {\n",
       "                    if (nbb_cells[i].input_prompt_number == nbb_cell_id) {\n",
       "                        if (nbb_cells[i].get_text() == nbb_unformatted_code) {\n",
       "                             nbb_cells[i].set_text(nbb_formatted_code);\n",
       "                        }\n",
       "                        break;\n",
       "                    }\n",
       "                }\n",
       "            }, 500);\n",
       "            "
      ],
      "text/plain": [
       "<IPython.core.display.Javascript object>"
      ]
     },
     "metadata": {},
     "output_type": "display_data"
    }
   ],
   "source": [
    "# hide\n",
    "%matplotlib inline\n",
    "%load_ext autoreload\n",
    "%load_ext nb_black\n",
    "%autoreload 2"
   ]
  },
  {
   "cell_type": "markdown",
   "metadata": {},
   "source": [
    "# Config API\n",
    "> config API for instantiating `objects` from `LightningCV`"
   ]
  },
  {
   "cell_type": "code",
   "execution_count": null,
   "metadata": {},
   "outputs": [
    {
     "data": {
      "application/javascript": [
       "\n",
       "            setTimeout(function() {\n",
       "                var nbb_cell_id = 4;\n",
       "                var nbb_unformatted_code = \"# export\\nfrom hydra.experimental import compose, initialize_config_module\\nfrom omegaconf import DictConfig\\nfrom fastcore.all import delegates\";\n",
       "                var nbb_formatted_code = \"# export\\nfrom hydra.experimental import compose, initialize_config_module\\nfrom omegaconf import DictConfig\\nfrom fastcore.all import delegates\";\n",
       "                var nbb_cells = Jupyter.notebook.get_cells();\n",
       "                for (var i = 0; i < nbb_cells.length; ++i) {\n",
       "                    if (nbb_cells[i].input_prompt_number == nbb_cell_id) {\n",
       "                        if (nbb_cells[i].get_text() == nbb_unformatted_code) {\n",
       "                             nbb_cells[i].set_text(nbb_formatted_code);\n",
       "                        }\n",
       "                        break;\n",
       "                    }\n",
       "                }\n",
       "            }, 500);\n",
       "            "
      ],
      "text/plain": [
       "<IPython.core.display.Javascript object>"
      ]
     },
     "metadata": {},
     "output_type": "display_data"
    }
   ],
   "source": [
    "# export\n",
    "from hydra.experimental import compose, initialize_config_module\n",
    "from omegaconf import DictConfig\n",
    "from fastcore.all import delegates"
   ]
  },
  {
   "cell_type": "code",
   "execution_count": null,
   "metadata": {},
   "outputs": [
    {
     "data": {
      "application/javascript": [
       "\n",
       "            setTimeout(function() {\n",
       "                var nbb_cell_id = 5;\n",
       "                var nbb_unformatted_code = \"# for tests\\nfrom omegaconf import OmegaConf\\nfrom fastcore.test import test_eq\";\n",
       "                var nbb_formatted_code = \"# for tests\\nfrom omegaconf import OmegaConf\\nfrom fastcore.test import test_eq\";\n",
       "                var nbb_cells = Jupyter.notebook.get_cells();\n",
       "                for (var i = 0; i < nbb_cells.length; ++i) {\n",
       "                    if (nbb_cells[i].input_prompt_number == nbb_cell_id) {\n",
       "                        if (nbb_cells[i].get_text() == nbb_unformatted_code) {\n",
       "                             nbb_cells[i].set_text(nbb_formatted_code);\n",
       "                        }\n",
       "                        break;\n",
       "                    }\n",
       "                }\n",
       "            }, 500);\n",
       "            "
      ],
      "text/plain": [
       "<IPython.core.display.Javascript object>"
      ]
     },
     "metadata": {},
     "output_type": "display_data"
    }
   ],
   "source": [
    "# for tests\n",
    "from omegaconf import OmegaConf\n",
    "from fastcore.test import test_eq"
   ]
  },
  {
   "cell_type": "code",
   "execution_count": null,
   "metadata": {},
   "outputs": [
    {
     "data": {
      "application/javascript": [
       "\n",
       "            setTimeout(function() {\n",
       "                var nbb_cell_id = 6;\n",
       "                var nbb_unformatted_code = \"# export\\n@delegates(compose)\\ndef get_cfg(config_name=\\\"classification\\\", strict=False, **kwargs) -> DictConfig:\\n    \\\"Get a copy of the default config\\\"\\n    with initialize_config_module(\\\"lightning_cv.configs\\\"):\\n        cfg = compose(config_name=config_name, strict=False, **kwargs)\\n    return cfg\";\n",
       "                var nbb_formatted_code = \"# export\\n@delegates(compose)\\ndef get_cfg(config_name=\\\"classification\\\", strict=False, **kwargs) -> DictConfig:\\n    \\\"Get a copy of the default config\\\"\\n    with initialize_config_module(\\\"lightning_cv.configs\\\"):\\n        cfg = compose(config_name=config_name, strict=False, **kwargs)\\n    return cfg\";\n",
       "                var nbb_cells = Jupyter.notebook.get_cells();\n",
       "                for (var i = 0; i < nbb_cells.length; ++i) {\n",
       "                    if (nbb_cells[i].input_prompt_number == nbb_cell_id) {\n",
       "                        if (nbb_cells[i].get_text() == nbb_unformatted_code) {\n",
       "                             nbb_cells[i].set_text(nbb_formatted_code);\n",
       "                        }\n",
       "                        break;\n",
       "                    }\n",
       "                }\n",
       "            }, 500);\n",
       "            "
      ],
      "text/plain": [
       "<IPython.core.display.Javascript object>"
      ]
     },
     "metadata": {},
     "output_type": "display_data"
    }
   ],
   "source": [
    "# export\n",
    "@delegates(compose)\n",
    "def get_cfg(config_name=\"classification\", strict=False, **kwargs) -> DictConfig:\n",
    "    \"Get a copy of the default config\"\n",
    "    with initialize_config_module(\"lightning_cv.configs\"):\n",
    "        cfg = compose(config_name=config_name, strict=False, **kwargs)\n",
    "    return cfg"
   ]
  },
  {
   "cell_type": "code",
   "execution_count": null,
   "metadata": {},
   "outputs": [
    {
     "name": "stdout",
     "output_type": "stream",
     "text": [
      "SEED: 42\n",
      "CUDNN_BENCHMARK: false\n",
      "INPUT:\n",
      "  SIZE_TRAIN: 255\n",
      "  SIZE_VALID: 255\n",
      "  MEAN_TRAIN:\n",
      "  - 0.485\n",
      "  - 0.456\n",
      "  - 0.406\n",
      "  STD_TRAIN:\n",
      "  - 0.229\n",
      "  - 0.224\n",
      "  - 0.225\n",
      "  MEAN_VALID:\n",
      "  - 0.485\n",
      "  - 0.456\n",
      "  - 0.406\n",
      "  STD_VALID:\n",
      "  - 0.229\n",
      "  - 0.224\n",
      "  - 0.225\n",
      "DATASETS:\n",
      "  TRAIN: ' '\n",
      "  VALID: ' '\n",
      "DATALOADER:\n",
      "  NUM_WORKERS: 4\n",
      "  SHUFFLE_TRAIN: true\n",
      "  TRAIN_BATCH_SIZE: 32\n",
      "  SHUFFLE_VALID: true\n",
      "  VALID_BATCH_SIZE: 32\n",
      "  PIN_MEMORY: true\n",
      "METRICS:\n",
      "  TRAIN:\n",
      "  - _target_: pytorch_lightning.metrics.classification.accuracy.Accuracy\n",
      "    threshold: 0.5\n",
      "    top_k: null\n",
      "  VALID:\n",
      "  - _target_: pytorch_lightning.metrics.classification.accuracy.Accuracy\n",
      "    threshold: 0.5\n",
      "    top_k: null\n",
      "SOLVER:\n",
      "  BASE_LR: 0.001\n",
      "  LR_MULT: 0.01\n",
      "  WEIGHT_DECAY: 0.0001\n",
      "  ZERO_WEIGHT_DECAY_BACKBONE: false\n",
      "  PARAM_SPLITTER: default_split\n",
      "TRANSFORMS:\n",
      "  TRAIN:\n",
      "    LOADER: pil_loader\n",
      "    NAME: GenericImageTransform\n",
      "    ARGUMENTS:\n",
      "      img_size: ${INPUT.SIZE_TRAIN}\n",
      "      interpolation: random\n",
      "      hflip: 0.5\n",
      "      vflip: 0.5\n",
      "      color_jitter: 0.4\n",
      "      re_prob: 0.5\n",
      "      re_mode: pixel\n",
      "      re_count: 1\n",
      "      mean: ${INPUT.MEAN_TRAIN}\n",
      "      std: ${INPUT.STD_TRAIN}\n",
      "  VALID:\n",
      "    LOADER: pil_loader\n",
      "    NAME: ImagenetNoAugmentTransform\n",
      "    ARGUMENTS:\n",
      "      img_size: ${INPUT.SIZE_VALID}\n",
      "      interpolation: bilinear\n",
      "      mean: ${INPUT.MEAN_VALID}\n",
      "      std: ${INPUT.STD_VALID}\n",
      "MIXMETHOD:\n",
      "  _target_: lightning_cv.classification.data.mixmethods.NoMix\n",
      "MODEL:\n",
      "  BACKBONE:\n",
      "    NAME: TimmBackBoneBase\n",
      "    ARGUMENTS:\n",
      "      model_name: efficientnet_b0\n",
      "      cut: null\n",
      "      act_layer: null\n",
      "      pretrained: true\n",
      "      drop_path_rate: 0.3\n",
      "  CLASSIFIER:\n",
      "    NAME: GeneralClassifier\n",
      "    ARGUMENTS:\n",
      "      num_features: ???\n",
      "      num_classes: ???\n",
      "      drop_rate: 0.25\n",
      "      pool_type: avg\n",
      "      use_conv: false\n",
      "OPTIMIZER:\n",
      "  NAME: Ranger\n",
      "  ARGUMENTS:\n",
      "    lr: ${SOLVER.BASE_LR}\n",
      "    betas:\n",
      "    - 0.95\n",
      "    - 0.999\n",
      "    eps: 1.0e-05\n",
      "    weight_decay: ${SOLVER.WEIGHT_DECAY}\n",
      "    k: 6\n",
      "    alpha: 0.5\n",
      "SCHEDULER:\n",
      "  NAME: FlatCos\n",
      "  ARGUMENTS:\n",
      "    pct_start: 0.72\n",
      "    max_iters: null\n",
      "  INTERVAL: step\n",
      "  FREQUENCY: 1\n",
      "  MONITOR: null\n",
      "LOSS:\n",
      "  _target_: torch.nn.modules.loss.CrossEntropyLoss\n",
      "  size_average: None\n",
      "  ignore_index: -100\n",
      "  reduce: None\n",
      "  reduction: mean\n",
      "\n"
     ]
    },
    {
     "data": {
      "application/javascript": [
       "\n",
       "            setTimeout(function() {\n",
       "                var nbb_cell_id = 7;\n",
       "                var nbb_unformatted_code = \"# collapse-output\\ncfg = get_cfg()\\nprint(OmegaConf.to_yaml(cfg))\";\n",
       "                var nbb_formatted_code = \"# collapse-output\\ncfg = get_cfg()\\nprint(OmegaConf.to_yaml(cfg))\";\n",
       "                var nbb_cells = Jupyter.notebook.get_cells();\n",
       "                for (var i = 0; i < nbb_cells.length; ++i) {\n",
       "                    if (nbb_cells[i].input_prompt_number == nbb_cell_id) {\n",
       "                        if (nbb_cells[i].get_text() == nbb_unformatted_code) {\n",
       "                             nbb_cells[i].set_text(nbb_formatted_code);\n",
       "                        }\n",
       "                        break;\n",
       "                    }\n",
       "                }\n",
       "            }, 500);\n",
       "            "
      ],
      "text/plain": [
       "<IPython.core.display.Javascript object>"
      ]
     },
     "metadata": {},
     "output_type": "display_data"
    }
   ],
   "source": [
    "# collapse-output\n",
    "cfg = get_cfg()\n",
    "print(OmegaConf.to_yaml(cfg))"
   ]
  },
  {
   "cell_type": "code",
   "execution_count": null,
   "metadata": {},
   "outputs": [
    {
     "data": {
      "application/javascript": [
       "\n",
       "            setTimeout(function() {\n",
       "                var nbb_cell_id = 8;\n",
       "                var nbb_unformatted_code = \"# modify a existing key\\ncfg.VERSION = \\\"something\\\"\\ntest_eq(cfg.VERSION, \\\"something\\\")\";\n",
       "                var nbb_formatted_code = \"# modify a existing key\\ncfg.VERSION = \\\"something\\\"\\ntest_eq(cfg.VERSION, \\\"something\\\")\";\n",
       "                var nbb_cells = Jupyter.notebook.get_cells();\n",
       "                for (var i = 0; i < nbb_cells.length; ++i) {\n",
       "                    if (nbb_cells[i].input_prompt_number == nbb_cell_id) {\n",
       "                        if (nbb_cells[i].get_text() == nbb_unformatted_code) {\n",
       "                             nbb_cells[i].set_text(nbb_formatted_code);\n",
       "                        }\n",
       "                        break;\n",
       "                    }\n",
       "                }\n",
       "            }, 500);\n",
       "            "
      ],
      "text/plain": [
       "<IPython.core.display.Javascript object>"
      ]
     },
     "metadata": {},
     "output_type": "display_data"
    }
   ],
   "source": [
    "# modify a existing key\n",
    "cfg.VERSION = \"something\"\n",
    "test_eq(cfg.VERSION, \"something\")"
   ]
  },
  {
   "cell_type": "code",
   "execution_count": null,
   "metadata": {},
   "outputs": [
    {
     "data": {
      "application/javascript": [
       "\n",
       "            setTimeout(function() {\n",
       "                var nbb_cell_id = 9;\n",
       "                var nbb_unformatted_code = \"# export\\ndef set_global_cfg(cfg: DictConfig) -> None:\\n    \\\"\\\"\\\"\\n    Let the global config point to the given cfg.\\n    Assume that the given \\\"cfg\\\" has the key \\\"KEY\\\", after calling\\n    `set_global_cfg(cfg)`, the key can be accessed by:\\n    ```python\\n        from lightning_cv.config import global_cfg\\n        print(global_cfg.KEY)\\n    ```\\n    By using a hacky global config, you can access these configs anywhere,\\n    without having to pass the config object or the values deep into the code.\\n    This is a hacky feature introduced for quick prototyping / research exploration.\\n    \\\"\\\"\\\"\\n    global global_cfg\\n    global_cfg = cfg\";\n",
       "                var nbb_formatted_code = \"# export\\ndef set_global_cfg(cfg: DictConfig) -> None:\\n    \\\"\\\"\\\"\\n    Let the global config point to the given cfg.\\n    Assume that the given \\\"cfg\\\" has the key \\\"KEY\\\", after calling\\n    `set_global_cfg(cfg)`, the key can be accessed by:\\n    ```python\\n        from lightning_cv.config import global_cfg\\n        print(global_cfg.KEY)\\n    ```\\n    By using a hacky global config, you can access these configs anywhere,\\n    without having to pass the config object or the values deep into the code.\\n    This is a hacky feature introduced for quick prototyping / research exploration.\\n    \\\"\\\"\\\"\\n    global global_cfg\\n    global_cfg = cfg\";\n",
       "                var nbb_cells = Jupyter.notebook.get_cells();\n",
       "                for (var i = 0; i < nbb_cells.length; ++i) {\n",
       "                    if (nbb_cells[i].input_prompt_number == nbb_cell_id) {\n",
       "                        if (nbb_cells[i].get_text() == nbb_unformatted_code) {\n",
       "                             nbb_cells[i].set_text(nbb_formatted_code);\n",
       "                        }\n",
       "                        break;\n",
       "                    }\n",
       "                }\n",
       "            }, 500);\n",
       "            "
      ],
      "text/plain": [
       "<IPython.core.display.Javascript object>"
      ]
     },
     "metadata": {},
     "output_type": "display_data"
    }
   ],
   "source": [
    "# export\n",
    "def set_global_cfg(cfg: DictConfig) -> None:\n",
    "    \"\"\"\n",
    "    Let the global config point to the given cfg.\n",
    "    Assume that the given \"cfg\" has the key \"KEY\", after calling\n",
    "    `set_global_cfg(cfg)`, the key can be accessed by:\n",
    "    ```python\n",
    "        from lightning_cv.config import global_cfg\n",
    "        print(global_cfg.KEY)\n",
    "    ```\n",
    "    By using a hacky global config, you can access these configs anywhere,\n",
    "    without having to pass the config object or the values deep into the code.\n",
    "    This is a hacky feature introduced for quick prototyping / research exploration.\n",
    "    \"\"\"\n",
    "    global global_cfg\n",
    "    global_cfg = cfg"
   ]
  },
  {
   "cell_type": "code",
   "execution_count": null,
   "metadata": {},
   "outputs": [
    {
     "data": {
      "application/javascript": [
       "\n",
       "            setTimeout(function() {\n",
       "                var nbb_cell_id = 10;\n",
       "                var nbb_unformatted_code = \"# export\\ndef get_class_path(cls):\\n    \\\"utility for building the class path\\\"\\n    return f\\\"{cls.__module__}.{cls.__name__}\\\"\";\n",
       "                var nbb_formatted_code = \"# export\\ndef get_class_path(cls):\\n    \\\"utility for building the class path\\\"\\n    return f\\\"{cls.__module__}.{cls.__name__}\\\"\";\n",
       "                var nbb_cells = Jupyter.notebook.get_cells();\n",
       "                for (var i = 0; i < nbb_cells.length; ++i) {\n",
       "                    if (nbb_cells[i].input_prompt_number == nbb_cell_id) {\n",
       "                        if (nbb_cells[i].get_text() == nbb_unformatted_code) {\n",
       "                             nbb_cells[i].set_text(nbb_formatted_code);\n",
       "                        }\n",
       "                        break;\n",
       "                    }\n",
       "                }\n",
       "            }, 500);\n",
       "            "
      ],
      "text/plain": [
       "<IPython.core.display.Javascript object>"
      ]
     },
     "metadata": {},
     "output_type": "display_data"
    }
   ],
   "source": [
    "# export\n",
    "def get_class_path(cls):\n",
    "    \"utility for building the class path\"\n",
    "    return f\"{cls.__module__}.{cls.__name__}\""
   ]
  },
  {
   "cell_type": "code",
   "execution_count": null,
   "metadata": {},
   "outputs": [
    {
     "data": {
      "text/plain": [
       "'timm.data.transforms.RandomResizedCropAndInterpolation'"
      ]
     },
     "execution_count": null,
     "metadata": {},
     "output_type": "execute_result"
    },
    {
     "data": {
      "application/javascript": [
       "\n",
       "            setTimeout(function() {\n",
       "                var nbb_cell_id = 12;\n",
       "                var nbb_unformatted_code = \"# hide\\nfrom timm.data import RandomResizedCropAndInterpolation\\n\\nget_class_path(RandomResizedCropAndInterpolation)\";\n",
       "                var nbb_formatted_code = \"# hide\\nfrom timm.data import RandomResizedCropAndInterpolation\\n\\nget_class_path(RandomResizedCropAndInterpolation)\";\n",
       "                var nbb_cells = Jupyter.notebook.get_cells();\n",
       "                for (var i = 0; i < nbb_cells.length; ++i) {\n",
       "                    if (nbb_cells[i].input_prompt_number == nbb_cell_id) {\n",
       "                        if (nbb_cells[i].get_text() == nbb_unformatted_code) {\n",
       "                             nbb_cells[i].set_text(nbb_formatted_code);\n",
       "                        }\n",
       "                        break;\n",
       "                    }\n",
       "                }\n",
       "            }, 500);\n",
       "            "
      ],
      "text/plain": [
       "<IPython.core.display.Javascript object>"
      ]
     },
     "metadata": {},
     "output_type": "display_data"
    }
   ],
   "source": [
    "# hide\n",
    "from timm.data import RandomResizedCropAndInterpolation\n",
    "\n",
    "get_class_path(RandomResizedCropAndInterpolation)"
   ]
  },
  {
   "cell_type": "code",
   "execution_count": null,
   "metadata": {},
   "outputs": [
    {
     "name": "stdout",
     "output_type": "stream",
     "text": [
      "Converted 00_config.ipynb.\n",
      "Converted 00a_core.utils.common.ipynb.\n",
      "Converted 00b_core.utils.data.ipynb.\n",
      "Converted 00c_core.optim.ipynb.\n",
      "Converted 00d_core.schedules.ipynb.\n",
      "Converted 00e_core.layers.ipynb.\n",
      "Converted 00f_core.losses.py.ipynb.\n",
      "Converted 01a_classification.data.transforms.ipynb.\n",
      "Converted 01b_classification.data.datasets.ipynb.\n",
      "Converted 01c_classification.modelling.backbones.ipynb.\n",
      "Converted 01d_classification.modelling.classifiers.ipynb.\n",
      "Converted 01e_classification.data.mixmethods.ipynb.\n",
      "Converted 01f_classification.modelPL.ipynb.\n",
      "Converted index.ipynb.\n"
     ]
    },
    {
     "data": {
      "application/javascript": [
       "\n",
       "            setTimeout(function() {\n",
       "                var nbb_cell_id = 13;\n",
       "                var nbb_unformatted_code = \"# hide\\nnotebook2script()\";\n",
       "                var nbb_formatted_code = \"# hide\\nnotebook2script()\";\n",
       "                var nbb_cells = Jupyter.notebook.get_cells();\n",
       "                for (var i = 0; i < nbb_cells.length; ++i) {\n",
       "                    if (nbb_cells[i].input_prompt_number == nbb_cell_id) {\n",
       "                        if (nbb_cells[i].get_text() == nbb_unformatted_code) {\n",
       "                             nbb_cells[i].set_text(nbb_formatted_code);\n",
       "                        }\n",
       "                        break;\n",
       "                    }\n",
       "                }\n",
       "            }, 500);\n",
       "            "
      ],
      "text/plain": [
       "<IPython.core.display.Javascript object>"
      ]
     },
     "metadata": {},
     "output_type": "display_data"
    }
   ],
   "source": [
    "# hide\n",
    "notebook2script()"
   ]
  },
  {
   "cell_type": "code",
   "execution_count": null,
   "metadata": {},
   "outputs": [],
   "source": []
  }
 ],
 "metadata": {
  "kernelspec": {
   "display_name": "lightning_cv",
   "language": "python",
   "name": "lightning_cv"
  }
 },
 "nbformat": 4,
 "nbformat_minor": 4
}

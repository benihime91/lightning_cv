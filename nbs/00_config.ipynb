{
 "cells": [
  {
   "cell_type": "code",
   "execution_count": null,
   "metadata": {},
   "outputs": [],
   "source": [
    "# default_exp config"
   ]
  },
  {
   "cell_type": "code",
   "execution_count": null,
   "metadata": {},
   "outputs": [],
   "source": [
    "#hide\n",
    "from nbdev.showdoc import *\n",
    "from nbdev.export import *"
   ]
  },
  {
   "cell_type": "markdown",
   "metadata": {},
   "source": [
    "# Config API\n",
    "> config API for instantiating `LightningModules`"
   ]
  },
  {
   "cell_type": "code",
   "execution_count": null,
   "metadata": {},
   "outputs": [],
   "source": [
    "# export\n",
    "from hydra.experimental import compose, initialize, initialize_config_module\n",
    "from omegaconf import DictConfig\n",
    "from fastcore.all import delegates"
   ]
  },
  {
   "cell_type": "code",
   "execution_count": null,
   "metadata": {},
   "outputs": [],
   "source": [
    "# for tests\n",
    "from omegaconf import OmegaConf"
   ]
  },
  {
   "cell_type": "code",
   "execution_count": null,
   "metadata": {},
   "outputs": [],
   "source": [
    "# export\n",
    "@delegates(compose)\n",
    "def get_cfg(config_name=\"config\", **kwargs) -> DictConfig:\n",
    "    \"Get a copy of the default config\"\n",
    "    with initialize_config_module(\"lightning_cv.conf\"):\n",
    "        cfg = compose(config_name=config_name, **kwargs)\n",
    "    return cfg"
   ]
  },
  {
   "cell_type": "code",
   "execution_count": null,
   "metadata": {},
   "outputs": [
    {
     "data": {
      "text/markdown": [
       "<h4 id=\"get_cfg\" class=\"doc_header\"><code>get_cfg</code><a href=\"__main__.py#L2\" class=\"source_link\" style=\"float:right\">[source]</a></h4>\n",
       "\n",
       "> <code>get_cfg</code>(**`config_name`**=*`'config'`*, **`overrides`**:`List`\\[`str`\\]=*`[]`*, **`strict`**:`Optional`\\[`bool`\\]=*`None`*, **`return_hydra_config`**:`bool`=*`False`*)\n",
       "\n",
       "Get a copy of the default config"
      ],
      "text/plain": [
       "<IPython.core.display.Markdown object>"
      ]
     },
     "metadata": {},
     "output_type": "display_data"
    }
   ],
   "source": [
    "show_doc(get_cfg)"
   ]
  },
  {
   "cell_type": "code",
   "execution_count": null,
   "metadata": {},
   "outputs": [
    {
     "name": "stdout",
     "output_type": "stream",
     "text": [
      "VERSION: 1\n",
      "SEED: 42\n",
      "\n"
     ]
    }
   ],
   "source": [
    "cfg = get_cfg()\n",
    "print(OmegaConf.to_yaml(cfg))"
   ]
  },
  {
   "cell_type": "markdown",
   "metadata": {},
   "source": [
    "You can also modify like so -"
   ]
  },
  {
   "cell_type": "code",
   "execution_count": null,
   "metadata": {},
   "outputs": [
    {
     "name": "stdout",
     "output_type": "stream",
     "text": [
      "VERSION: something\n",
      "SEED: 42\n",
      "\n"
     ]
    }
   ],
   "source": [
    "# modify a existing key\n",
    "cfg.VERSION = \"something\"\n",
    "print(OmegaConf.to_yaml(cfg))"
   ]
  },
  {
   "cell_type": "code",
   "execution_count": null,
   "metadata": {},
   "outputs": [],
   "source": [
    "# export\n",
    "def set_global_cfg(cfg: DictConfig) -> None:\n",
    "    \"\"\"\n",
    "    Let the global config point to the given cfg.\n",
    "    Assume that the given \"cfg\" has the key \"KEY\", after calling\n",
    "    `set_global_cfg(cfg)`, the key can be accessed by:\n",
    "    ```python\n",
    "        from lightning_cv.config import global_cfg\n",
    "        print(global_cfg.KEY)\n",
    "    ```\n",
    "    By using a hacky global config, you can access these configs anywhere,\n",
    "    without having to pass the config object or the values deep into the code.\n",
    "    This is a hacky feature introduced for quick prototyping / research exploration.\n",
    "    \"\"\"\n",
    "    global global_cfg\n",
    "    global_cfg = cfg"
   ]
  },
  {
   "cell_type": "code",
   "execution_count": null,
   "metadata": {},
   "outputs": [
    {
     "data": {
      "text/markdown": [
       "<h4 id=\"set_global_cfg\" class=\"doc_header\"><code>set_global_cfg</code><a href=\"__main__.py#L2\" class=\"source_link\" style=\"float:right\">[source]</a></h4>\n",
       "\n",
       "> <code>set_global_cfg</code>(**`cfg`**:`DictConfig`)\n",
       "\n",
       "Let the global config point to the given cfg.\n",
       "Assume that the given \"cfg\" has the key \"KEY\", after calling\n",
       "`set_global_cfg(cfg)`, the key can be accessed by:\n",
       "```python\n",
       "    from lightning_cv.config import global_cfg\n",
       "    print(global_cfg.KEY)\n",
       "```\n",
       "By using a hacky global config, you can access these configs anywhere,\n",
       "without having to pass the config object or the values deep into the code.\n",
       "This is a hacky feature introduced for quick prototyping / research exploration."
      ],
      "text/plain": [
       "<IPython.core.display.Markdown object>"
      ]
     },
     "metadata": {},
     "output_type": "display_data"
    }
   ],
   "source": [
    "show_doc(set_global_cfg)"
   ]
  },
  {
   "cell_type": "code",
   "execution_count": null,
   "metadata": {},
   "outputs": [
    {
     "name": "stdout",
     "output_type": "stream",
     "text": [
      "VERSION: 1\n",
      "SEED: 42\n",
      "\n"
     ]
    }
   ],
   "source": [
    "# hide\n",
    "set_global_cfg(cfg)\n",
    "print(OmegaConf.to_yaml(global_cfg))"
   ]
  },
  {
   "cell_type": "code",
   "execution_count": null,
   "metadata": {},
   "outputs": [
    {
     "name": "stdout",
     "output_type": "stream",
     "text": [
      "Converted 00_config.ipynb.\n",
      "Converted 00a_core.common.ipynb.\n",
      "Converted 00b_core.data_utils.ipynb.\n",
      "Converted 01a_classification.data.transforms.ipynb.\n",
      "Converted 01b_classification.data.datasets.ipynb.\n",
      "Converted index.ipynb.\n"
     ]
    }
   ],
   "source": [
    "#hide\n",
    "notebook2script()"
   ]
  },
  {
   "cell_type": "code",
   "execution_count": null,
   "metadata": {},
   "outputs": [],
   "source": []
  }
 ],
 "metadata": {
  "kernelspec": {
   "display_name": "lightning_cv",
   "language": "python",
   "name": "lightning_cv"
  }
 },
 "nbformat": 4,
 "nbformat_minor": 4
}

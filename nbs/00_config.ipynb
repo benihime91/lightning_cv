{
 "cells": [
  {
   "cell_type": "code",
   "execution_count": null,
   "metadata": {},
   "outputs": [],
   "source": [
    "# default_exp config"
   ]
  },
  {
   "cell_type": "code",
   "execution_count": null,
   "metadata": {},
   "outputs": [],
   "source": [
    "#hide\n",
    "from nbdev.showdoc import *\n",
    "from nbdev.export import *"
   ]
  },
  {
   "cell_type": "code",
   "execution_count": null,
   "metadata": {},
   "outputs": [
    {
     "data": {
      "application/javascript": [
       "\n",
       "            setTimeout(function() {\n",
       "                var nbb_cell_id = 3;\n",
       "                var nbb_unformatted_code = \"# hide\\n%matplotlib inline\\n%load_ext autoreload\\n%load_ext nb_black\\n%autoreload 2\";\n",
       "                var nbb_formatted_code = \"# hide\\n%matplotlib inline\\n%load_ext autoreload\\n%load_ext nb_black\\n%autoreload 2\";\n",
       "                var nbb_cells = Jupyter.notebook.get_cells();\n",
       "                for (var i = 0; i < nbb_cells.length; ++i) {\n",
       "                    if (nbb_cells[i].input_prompt_number == nbb_cell_id) {\n",
       "                        if (nbb_cells[i].get_text() == nbb_unformatted_code) {\n",
       "                             nbb_cells[i].set_text(nbb_formatted_code);\n",
       "                        }\n",
       "                        break;\n",
       "                    }\n",
       "                }\n",
       "            }, 500);\n",
       "            "
      ],
      "text/plain": [
       "<IPython.core.display.Javascript object>"
      ]
     },
     "metadata": {},
     "output_type": "display_data"
    }
   ],
   "source": [
    "# hide\n",
    "%matplotlib inline\n",
    "%load_ext autoreload\n",
    "%load_ext nb_black\n",
    "%autoreload 2"
   ]
  },
  {
   "cell_type": "markdown",
   "metadata": {},
   "source": [
    "# Config API\n",
    "> config API for instantiating `LightningModules`"
   ]
  },
  {
   "cell_type": "code",
   "execution_count": null,
   "metadata": {},
   "outputs": [
    {
     "data": {
      "application/javascript": [
       "\n",
       "            setTimeout(function() {\n",
       "                var nbb_cell_id = 4;\n",
       "                var nbb_unformatted_code = \"# export\\nfrom hydra.experimental import compose, initialize, initialize_config_module\\nfrom omegaconf import DictConfig\\nfrom fastcore.all import delegates\";\n",
       "                var nbb_formatted_code = \"# export\\nfrom hydra.experimental import compose, initialize, initialize_config_module\\nfrom omegaconf import DictConfig\\nfrom fastcore.all import delegates\";\n",
       "                var nbb_cells = Jupyter.notebook.get_cells();\n",
       "                for (var i = 0; i < nbb_cells.length; ++i) {\n",
       "                    if (nbb_cells[i].input_prompt_number == nbb_cell_id) {\n",
       "                        if (nbb_cells[i].get_text() == nbb_unformatted_code) {\n",
       "                             nbb_cells[i].set_text(nbb_formatted_code);\n",
       "                        }\n",
       "                        break;\n",
       "                    }\n",
       "                }\n",
       "            }, 500);\n",
       "            "
      ],
      "text/plain": [
       "<IPython.core.display.Javascript object>"
      ]
     },
     "metadata": {},
     "output_type": "display_data"
    }
   ],
   "source": [
    "# export\n",
    "from hydra.experimental import compose, initialize, initialize_config_module\n",
    "from omegaconf import DictConfig\n",
    "from fastcore.all import delegates"
   ]
  },
  {
   "cell_type": "code",
   "execution_count": null,
   "metadata": {},
   "outputs": [
    {
     "data": {
      "application/javascript": [
       "\n",
       "            setTimeout(function() {\n",
       "                var nbb_cell_id = 5;\n",
       "                var nbb_unformatted_code = \"# for tests\\nfrom omegaconf import OmegaConf\\nfrom fastcore.test import test_eq\";\n",
       "                var nbb_formatted_code = \"# for tests\\nfrom omegaconf import OmegaConf\\nfrom fastcore.test import test_eq\";\n",
       "                var nbb_cells = Jupyter.notebook.get_cells();\n",
       "                for (var i = 0; i < nbb_cells.length; ++i) {\n",
       "                    if (nbb_cells[i].input_prompt_number == nbb_cell_id) {\n",
       "                        if (nbb_cells[i].get_text() == nbb_unformatted_code) {\n",
       "                             nbb_cells[i].set_text(nbb_formatted_code);\n",
       "                        }\n",
       "                        break;\n",
       "                    }\n",
       "                }\n",
       "            }, 500);\n",
       "            "
      ],
      "text/plain": [
       "<IPython.core.display.Javascript object>"
      ]
     },
     "metadata": {},
     "output_type": "display_data"
    }
   ],
   "source": [
    "# for tests\n",
    "from omegaconf import OmegaConf\n",
    "from fastcore.test import test_eq"
   ]
  },
  {
   "cell_type": "code",
   "execution_count": null,
   "metadata": {},
   "outputs": [
    {
     "data": {
      "application/javascript": [
       "\n",
       "            setTimeout(function() {\n",
       "                var nbb_cell_id = 6;\n",
       "                var nbb_unformatted_code = \"# export\\n@delegates(compose)\\ndef get_cfg(config_name=\\\"config\\\", strict=False, **kwargs) -> DictConfig:\\n    \\\"Get a copy of the default config\\\"\\n    with initialize_config_module(\\\"lightning_cv.configs\\\"):\\n        cfg = compose(config_name=config_name, strict=False, **kwargs)\\n    return cfg\";\n",
       "                var nbb_formatted_code = \"# export\\n@delegates(compose)\\ndef get_cfg(config_name=\\\"config\\\", strict=False, **kwargs) -> DictConfig:\\n    \\\"Get a copy of the default config\\\"\\n    with initialize_config_module(\\\"lightning_cv.configs\\\"):\\n        cfg = compose(config_name=config_name, strict=False, **kwargs)\\n    return cfg\";\n",
       "                var nbb_cells = Jupyter.notebook.get_cells();\n",
       "                for (var i = 0; i < nbb_cells.length; ++i) {\n",
       "                    if (nbb_cells[i].input_prompt_number == nbb_cell_id) {\n",
       "                        if (nbb_cells[i].get_text() == nbb_unformatted_code) {\n",
       "                             nbb_cells[i].set_text(nbb_formatted_code);\n",
       "                        }\n",
       "                        break;\n",
       "                    }\n",
       "                }\n",
       "            }, 500);\n",
       "            "
      ],
      "text/plain": [
       "<IPython.core.display.Javascript object>"
      ]
     },
     "metadata": {},
     "output_type": "display_data"
    }
   ],
   "source": [
    "# export\n",
    "@delegates(compose)\n",
    "def get_cfg(config_name=\"config\", strict=False, **kwargs) -> DictConfig:\n",
    "    \"Get a copy of the default config\"\n",
    "    with initialize_config_module(\"lightning_cv.configs\"):\n",
    "        cfg = compose(config_name=config_name, strict=False, **kwargs)\n",
    "    return cfg"
   ]
  },
  {
   "cell_type": "code",
   "execution_count": null,
   "metadata": {},
   "outputs": [
    {
     "data": {
      "application/javascript": [
       "\n",
       "            setTimeout(function() {\n",
       "                var nbb_cell_id = 7;\n",
       "                var nbb_unformatted_code = \"cfg = get_cfg()\\n# print(OmegaConf.to_yaml(cfg))\";\n",
       "                var nbb_formatted_code = \"cfg = get_cfg()\\n# print(OmegaConf.to_yaml(cfg))\";\n",
       "                var nbb_cells = Jupyter.notebook.get_cells();\n",
       "                for (var i = 0; i < nbb_cells.length; ++i) {\n",
       "                    if (nbb_cells[i].input_prompt_number == nbb_cell_id) {\n",
       "                        if (nbb_cells[i].get_text() == nbb_unformatted_code) {\n",
       "                             nbb_cells[i].set_text(nbb_formatted_code);\n",
       "                        }\n",
       "                        break;\n",
       "                    }\n",
       "                }\n",
       "            }, 500);\n",
       "            "
      ],
      "text/plain": [
       "<IPython.core.display.Javascript object>"
      ]
     },
     "metadata": {},
     "output_type": "display_data"
    }
   ],
   "source": [
    "cfg = get_cfg()\n",
    "# print(OmegaConf.to_yaml(cfg))"
   ]
  },
  {
   "cell_type": "code",
   "execution_count": null,
   "metadata": {},
   "outputs": [
    {
     "data": {
      "application/javascript": [
       "\n",
       "            setTimeout(function() {\n",
       "                var nbb_cell_id = 8;\n",
       "                var nbb_unformatted_code = \"# modify a existing key\\ncfg.VERSION = \\\"something\\\"\\ntest_eq(cfg.VERSION, \\\"something\\\")\";\n",
       "                var nbb_formatted_code = \"# modify a existing key\\ncfg.VERSION = \\\"something\\\"\\ntest_eq(cfg.VERSION, \\\"something\\\")\";\n",
       "                var nbb_cells = Jupyter.notebook.get_cells();\n",
       "                for (var i = 0; i < nbb_cells.length; ++i) {\n",
       "                    if (nbb_cells[i].input_prompt_number == nbb_cell_id) {\n",
       "                        if (nbb_cells[i].get_text() == nbb_unformatted_code) {\n",
       "                             nbb_cells[i].set_text(nbb_formatted_code);\n",
       "                        }\n",
       "                        break;\n",
       "                    }\n",
       "                }\n",
       "            }, 500);\n",
       "            "
      ],
      "text/plain": [
       "<IPython.core.display.Javascript object>"
      ]
     },
     "metadata": {},
     "output_type": "display_data"
    }
   ],
   "source": [
    "# modify a existing key\n",
    "cfg.VERSION = \"something\"\n",
    "test_eq(cfg.VERSION, \"something\")"
   ]
  },
  {
   "cell_type": "code",
   "execution_count": null,
   "metadata": {},
   "outputs": [
    {
     "data": {
      "application/javascript": [
       "\n",
       "            setTimeout(function() {\n",
       "                var nbb_cell_id = 9;\n",
       "                var nbb_unformatted_code = \"# export\\ndef set_global_cfg(cfg: DictConfig) -> None:\\n    \\\"\\\"\\\"\\n    Let the global config point to the given cfg.\\n    Assume that the given \\\"cfg\\\" has the key \\\"KEY\\\", after calling\\n    `set_global_cfg(cfg)`, the key can be accessed by:\\n    ```python\\n        from lightning_cv.config import global_cfg\\n        print(global_cfg.KEY)\\n    ```\\n    By using a hacky global config, you can access these configs anywhere,\\n    without having to pass the config object or the values deep into the code.\\n    This is a hacky feature introduced for quick prototyping / research exploration.\\n    \\\"\\\"\\\"\\n    global global_cfg\\n    global_cfg = cfg\";\n",
       "                var nbb_formatted_code = \"# export\\ndef set_global_cfg(cfg: DictConfig) -> None:\\n    \\\"\\\"\\\"\\n    Let the global config point to the given cfg.\\n    Assume that the given \\\"cfg\\\" has the key \\\"KEY\\\", after calling\\n    `set_global_cfg(cfg)`, the key can be accessed by:\\n    ```python\\n        from lightning_cv.config import global_cfg\\n        print(global_cfg.KEY)\\n    ```\\n    By using a hacky global config, you can access these configs anywhere,\\n    without having to pass the config object or the values deep into the code.\\n    This is a hacky feature introduced for quick prototyping / research exploration.\\n    \\\"\\\"\\\"\\n    global global_cfg\\n    global_cfg = cfg\";\n",
       "                var nbb_cells = Jupyter.notebook.get_cells();\n",
       "                for (var i = 0; i < nbb_cells.length; ++i) {\n",
       "                    if (nbb_cells[i].input_prompt_number == nbb_cell_id) {\n",
       "                        if (nbb_cells[i].get_text() == nbb_unformatted_code) {\n",
       "                             nbb_cells[i].set_text(nbb_formatted_code);\n",
       "                        }\n",
       "                        break;\n",
       "                    }\n",
       "                }\n",
       "            }, 500);\n",
       "            "
      ],
      "text/plain": [
       "<IPython.core.display.Javascript object>"
      ]
     },
     "metadata": {},
     "output_type": "display_data"
    }
   ],
   "source": [
    "# export\n",
    "def set_global_cfg(cfg: DictConfig) -> None:\n",
    "    \"\"\"\n",
    "    Let the global config point to the given cfg.\n",
    "    Assume that the given \"cfg\" has the key \"KEY\", after calling\n",
    "    `set_global_cfg(cfg)`, the key can be accessed by:\n",
    "    ```python\n",
    "        from lightning_cv.config import global_cfg\n",
    "        print(global_cfg.KEY)\n",
    "    ```\n",
    "    By using a hacky global config, you can access these configs anywhere,\n",
    "    without having to pass the config object or the values deep into the code.\n",
    "    This is a hacky feature introduced for quick prototyping / research exploration.\n",
    "    \"\"\"\n",
    "    global global_cfg\n",
    "    global_cfg = cfg"
   ]
  },
  {
   "cell_type": "code",
   "execution_count": null,
   "metadata": {},
   "outputs": [
    {
     "data": {
      "application/javascript": [
       "\n",
       "            setTimeout(function() {\n",
       "                var nbb_cell_id = 10;\n",
       "                var nbb_unformatted_code = \"# export\\ndef get_class_path(cls):\\n    \\\"utility for building the class path\\\"\\n    return f\\\"{cls.__module__}.{cls.__name__}\\\"\";\n",
       "                var nbb_formatted_code = \"# export\\ndef get_class_path(cls):\\n    \\\"utility for building the class path\\\"\\n    return f\\\"{cls.__module__}.{cls.__name__}\\\"\";\n",
       "                var nbb_cells = Jupyter.notebook.get_cells();\n",
       "                for (var i = 0; i < nbb_cells.length; ++i) {\n",
       "                    if (nbb_cells[i].input_prompt_number == nbb_cell_id) {\n",
       "                        if (nbb_cells[i].get_text() == nbb_unformatted_code) {\n",
       "                             nbb_cells[i].set_text(nbb_formatted_code);\n",
       "                        }\n",
       "                        break;\n",
       "                    }\n",
       "                }\n",
       "            }, 500);\n",
       "            "
      ],
      "text/plain": [
       "<IPython.core.display.Javascript object>"
      ]
     },
     "metadata": {},
     "output_type": "display_data"
    }
   ],
   "source": [
    "# export\n",
    "def get_class_path(cls):\n",
    "    \"utility for building the class path\"\n",
    "    return f\"{cls.__module__}.{cls.__name__}\""
   ]
  },
  {
   "cell_type": "code",
   "execution_count": null,
   "metadata": {},
   "outputs": [
    {
     "data": {
      "text/plain": [
       "'timm.data.transforms.RandomResizedCropAndInterpolation'"
      ]
     },
     "execution_count": null,
     "metadata": {},
     "output_type": "execute_result"
    },
    {
     "data": {
      "application/javascript": [
       "\n",
       "            setTimeout(function() {\n",
       "                var nbb_cell_id = 11;\n",
       "                var nbb_unformatted_code = \"from timm.data import RandomResizedCropAndInterpolation\\n\\nget_class_path(RandomResizedCropAndInterpolation)\";\n",
       "                var nbb_formatted_code = \"from timm.data import RandomResizedCropAndInterpolation\\n\\nget_class_path(RandomResizedCropAndInterpolation)\";\n",
       "                var nbb_cells = Jupyter.notebook.get_cells();\n",
       "                for (var i = 0; i < nbb_cells.length; ++i) {\n",
       "                    if (nbb_cells[i].input_prompt_number == nbb_cell_id) {\n",
       "                        if (nbb_cells[i].get_text() == nbb_unformatted_code) {\n",
       "                             nbb_cells[i].set_text(nbb_formatted_code);\n",
       "                        }\n",
       "                        break;\n",
       "                    }\n",
       "                }\n",
       "            }, 500);\n",
       "            "
      ],
      "text/plain": [
       "<IPython.core.display.Javascript object>"
      ]
     },
     "metadata": {},
     "output_type": "display_data"
    }
   ],
   "source": [
    "from timm.data import RandomResizedCropAndInterpolation\n",
    "\n",
    "get_class_path(RandomResizedCropAndInterpolation)"
   ]
  },
  {
   "cell_type": "code",
   "execution_count": null,
   "metadata": {},
   "outputs": [
    {
     "name": "stdout",
     "output_type": "stream",
     "text": [
      "Converted 00_config.ipynb.\n",
      "Converted 00a_core.common.ipynb.\n",
      "Converted 00b_core.data.ipynb.\n",
      "Converted 00c_core.optim.ipynb.\n",
      "Converted 00d_core.schedules.ipynb.\n",
      "Converted 00e_core.layers.ipynb.\n",
      "Converted 01a_classification.data.transforms.ipynb.\n",
      "Converted 01b_classification.data.datasets.ipynb.\n",
      "Converted 01c_classification.modelling.body.ipynb.\n",
      "Converted index.ipynb.\n"
     ]
    },
    {
     "data": {
      "application/javascript": [
       "\n",
       "            setTimeout(function() {\n",
       "                var nbb_cell_id = 12;\n",
       "                var nbb_unformatted_code = \"# hide\\nnotebook2script()\";\n",
       "                var nbb_formatted_code = \"# hide\\nnotebook2script()\";\n",
       "                var nbb_cells = Jupyter.notebook.get_cells();\n",
       "                for (var i = 0; i < nbb_cells.length; ++i) {\n",
       "                    if (nbb_cells[i].input_prompt_number == nbb_cell_id) {\n",
       "                        if (nbb_cells[i].get_text() == nbb_unformatted_code) {\n",
       "                             nbb_cells[i].set_text(nbb_formatted_code);\n",
       "                        }\n",
       "                        break;\n",
       "                    }\n",
       "                }\n",
       "            }, 500);\n",
       "            "
      ],
      "text/plain": [
       "<IPython.core.display.Javascript object>"
      ]
     },
     "metadata": {},
     "output_type": "display_data"
    }
   ],
   "source": [
    "# hide\n",
    "notebook2script()"
   ]
  },
  {
   "cell_type": "code",
   "execution_count": null,
   "metadata": {},
   "outputs": [],
   "source": []
  }
 ],
 "metadata": {
  "kernelspec": {
   "display_name": "lightning_cv",
   "language": "python",
   "name": "lightning_cv"
  }
 },
 "nbformat": 4,
 "nbformat_minor": 4
}

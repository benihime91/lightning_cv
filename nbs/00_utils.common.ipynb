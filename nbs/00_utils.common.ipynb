{
 "cells": [
  {
   "cell_type": "code",
   "execution_count": null,
   "metadata": {},
   "outputs": [],
   "source": [
    "# default_exp utils.common"
   ]
  },
  {
   "cell_type": "markdown",
   "metadata": {},
   "source": [
    "# Common utility functions\n",
    "\n",
    "> Set of utility functions used in the library"
   ]
  },
  {
   "cell_type": "code",
   "execution_count": null,
   "metadata": {},
   "outputs": [],
   "source": [
    "#hide\n",
    "from nbdev.showdoc import *\n",
    "from nbdev.export import *"
   ]
  },
  {
   "cell_type": "code",
   "execution_count": null,
   "metadata": {},
   "outputs": [],
   "source": [
    "# export\n",
    "import sys\n",
    "import uuid\n",
    "from loguru import logger\n",
    "import matplotlib.pyplot as plt\n",
    "from fvcore.common import registry\n",
    "from fastcore.all import ifnone, delegates\n",
    "from torchvision.utils import make_grid"
   ]
  },
  {
   "cell_type": "markdown",
   "metadata": {},
   "source": [
    "Default logger for logging within the module -"
   ]
  },
  {
   "cell_type": "code",
   "execution_count": null,
   "metadata": {},
   "outputs": [],
   "source": [
    "# export\n",
    "@delegates(logger.add)\n",
    "def get_default_logger(format = None, sink = None, **kwargs):\n",
    "    \"create a loguru from `format` and log to `sink`\"\n",
    "    format = ifnone(format, \"<level>{level}</level>:<cyan>{name:}</cyan>:{message}\")\n",
    "    sink = ifnone(sink, sys.stdout)\n",
    "    logger.remove()\n",
    "    logger.add(sink=sys.stdout, format=format, colorize=True)\n",
    "    return logger"
   ]
  },
  {
   "cell_type": "code",
   "execution_count": null,
   "metadata": {},
   "outputs": [
    {
     "name": "stdout",
     "output_type": "stream",
     "text": [
      "\u001b[1mINFO\u001b[0m:\u001b[36m__main__\u001b[0m:This is an INFO message !\n",
      "\u001b[34m\u001b[1mDEBUG\u001b[0m:\u001b[36m__main__\u001b[0m:This is an DEBUG message !\n",
      "\u001b[33m\u001b[1mWARNING\u001b[0m:\u001b[36m__main__\u001b[0m:This is an WARNING message !\n"
     ]
    }
   ],
   "source": [
    "logger = get_default_logger()\n",
    "logger.info(\"This is an INFO message !\")\n",
    "logger.debug(\"This is an DEBUG message !\")\n",
    "logger.warning(\"This is an WARNING message !\")"
   ]
  },
  {
   "cell_type": "markdown",
   "metadata": {},
   "source": [
    "Plotting utilies to display a grid of Images -"
   ]
  },
  {
   "cell_type": "code",
   "execution_count": null,
   "metadata": {},
   "outputs": [],
   "source": [
    "# export\n",
    "@delegates(make_grid)\n",
    "def imshow_tensor(inp, title=None, **kwargs):\n",
    "    \"\"\"Imshow for Tensor and optionally add a `title`\"\"\"\n",
    "    grid = make_grid(inp, **kwargs)\n",
    "    grid = grid.permute(1, 2, 0).data.numpy()\n",
    "    plt.imshow(grid)\n",
    "\n",
    "    if title is not None:\n",
    "        plt.title(title)\n",
    "\n",
    "    plt.pause(0.001)"
   ]
  },
  {
   "cell_type": "markdown",
   "metadata": {},
   "source": [
    "Genrate a random-id , this can be used to track differenct experiments - "
   ]
  },
  {
   "cell_type": "code",
   "execution_count": null,
   "metadata": {},
   "outputs": [],
   "source": [
    "# export\n",
    "def generate_random_id() -> str:\n",
    "    \"generates a random id\"\n",
    "    idx = uuid.uuid1()\n",
    "    idx = str(idx).split(\"-\")[0]\n",
    "    return idx"
   ]
  },
  {
   "cell_type": "code",
   "execution_count": null,
   "metadata": {},
   "outputs": [
    {
     "data": {
      "text/plain": [
       "'0eb713be'"
      ]
     },
     "execution_count": null,
     "metadata": {},
     "output_type": "execute_result"
    }
   ],
   "source": [
    "generate_random_id()"
   ]
  },
  {
   "cell_type": "markdown",
   "metadata": {},
   "source": [
    "Registery from `fvcore` to store objects/ modules and load them from the config -"
   ]
  },
  {
   "cell_type": "code",
   "execution_count": null,
   "metadata": {},
   "outputs": [
    {
     "data": {
      "text/markdown": "<h4 id=\"fvcore.common.registry\" class=\"doc_header\"><code>fvcore.common.registry</code><a href=\"fvcore/common/registry.py#L0\" class=\"source_link\" style=\"float:right\">[source]</a></h4>\n\n",
      "text/plain": "<IPython.core.display.Markdown object>"
     },
     "metadata": {},
     "output_type": "display_data"
    }
   ],
   "source": [
    "show_doc(registry)"
   ]
  },
  {
   "cell_type": "code",
   "execution_count": null,
   "metadata": {},
   "outputs": [
    {
     "name": "stdout",
     "output_type": "stream",
     "text": [
      "Converted 00_utils.common.ipynb.\nConverted 00_utils.data.ipynb.\nConverted index.ipynb.\n"
     ]
    }
   ],
   "source": [
    "# hide \n",
    "notebook2script()"
   ]
  },
  {
   "cell_type": "code",
   "execution_count": null,
   "metadata": {},
   "outputs": [],
   "source": []
  }
 ],
 "metadata": {
  "kernelspec": {
   "display_name": "lightning_cv",
   "language": "python",
   "name": "lightning_cv"
  }
 },
 "nbformat": 4,
 "nbformat_minor": 2
}
